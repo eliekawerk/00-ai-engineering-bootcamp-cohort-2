{
 "cells": [
  {
   "cell_type": "markdown",
   "id": "0a34658a",
   "metadata": {},
   "source": [
    "## OpenAI Client"
   ]
  },
  {
   "cell_type": "code",
   "execution_count": 1,
   "id": "95478c73",
   "metadata": {},
   "outputs": [],
   "source": [
    "import os\n",
    "\n",
    "api_key = os.getenv(\"OPENAI_API_KEY\")\n",
    "if not api_key:\n",
    "    # Optionally prompt the user\n",
    "    api_key = input(\"Enter your OpenAI API key: \").strip()\n",
    "    os.environ[\"OPENAI_API_KEY\"] = api_key\n",
    "    if not api_key:\n",
    "        raise EnvironmentError(\"No API key provided.\")"
   ]
  },
  {
   "cell_type": "code",
   "execution_count": null,
   "id": "1942df9b",
   "metadata": {},
   "outputs": [],
   "source": [
    "import openai\n",
    "\n",
    "response = openai.chat.completions.create(\n",
    "    model=\"gpt-4o-mini\",\n",
    "    messages=[\n",
    "        {\"role\": \"system\", \"content\": \"You are a helpful assistant.\"},\n",
    "        {\"role\": \"user\", \"content\": \"can you print 10 random words?\"}\n",
    "    ]\n",
    ")\n",
    "\n",
    "print(response.choices[0].message.content)"
   ]
  },
  {
   "cell_type": "code",
   "execution_count": 5,
   "id": "c2647511",
   "metadata": {},
   "outputs": [
    {
     "name": "stdout",
     "output_type": "stream",
     "text": [
      "Sure! Here are 10 random words:\n",
      "\n",
      "1. Serendipity\n",
      "2. Luminous\n",
      "3. Quokka\n",
      "4. Ephemeral\n",
      "5. Kaleidoscope\n",
      "6. Nimbus\n",
      "7. Zephyr\n",
      "8. Labyrinth\n",
      "9. Tranquil\n",
      "10. Euphoria\n",
      "\n",
      "Let me know if you need anything else!\n"
     ]
    }
   ],
   "source": [
    "print(response.choices[0].message.content)"
   ]
  },
  {
   "cell_type": "markdown",
   "id": "c4867ed2",
   "metadata": {},
   "source": [
    "## Google genai Client"
   ]
  },
  {
   "cell_type": "code",
   "execution_count": 6,
   "id": "fce85ab7",
   "metadata": {},
   "outputs": [],
   "source": [
    "api_key = os.getenv(\"GOOGLE_API_KEY\")\n",
    "if not api_key:\n",
    "    # Optionally prompt the user\n",
    "    api_key = input(\"Enter your Google API key: \").strip()\n",
    "    os.environ[\"GOOGLE_API_KEY\"] = api_key\n",
    "    if not api_key:\n",
    "        raise EnvironmentError(\"No API key provided.\")"
   ]
  },
  {
   "cell_type": "code",
   "execution_count": 8,
   "id": "72bd1c19",
   "metadata": {},
   "outputs": [
    {
     "name": "stdout",
     "output_type": "stream",
     "text": [
      "Okay, here are 15 random words:\n",
      "\n",
      "1.  Serendipity\n",
      "2.  Obtuse\n",
      "3.  Ephemeral\n",
      "4.  Ubiquitous\n",
      "5.  Labyrinth\n",
      "6.  Mellifluous\n",
      "7.  Zephyr\n",
      "8.  Quixotic\n",
      "9.  Effervescent\n",
      "10. Cacophony\n",
      "11. Nebulous\n",
      "12. Petrichor\n",
      "13. Phantasmagoria\n",
      "14. Susurrus\n",
      "15. Luminescence\n",
      "\n"
     ]
    }
   ],
   "source": [
    "\n",
    "from google import genai\n",
    "\n",
    "gemini_client = genai.Client(api_key=os.getenv(\"GOOGLE_API_KEY\"))\n",
    "\n",
    "response = gemini_client.models.generate_content(\n",
    "    model=\"gemini-2.0-flash\",\n",
    "    contents=[\"You are a helpful assistant\",\n",
    "              \"can you print 15 random words?\"]\n",
    ")\n",
    "\n",
    "print(response.text)"
   ]
  },
  {
   "cell_type": "markdown",
   "id": "8fe23baf",
   "metadata": {},
   "source": [
    "## Groq Client"
   ]
  },
  {
   "cell_type": "code",
   "execution_count": 9,
   "id": "035c4888",
   "metadata": {},
   "outputs": [],
   "source": [
    "api_key = os.getenv(\"GROQ_API_KEY\")\n",
    "if not api_key:\n",
    "    # Optionally prompt the user\n",
    "    api_key = input(\"Enter your Groq API key: \").strip()\n",
    "    os.environ[\"GROQ_API_KEY\"] = api_key\n",
    "    if not api_key:\n",
    "        raise EnvironmentError(\"No API key provided.\")"
   ]
  },
  {
   "cell_type": "code",
   "execution_count": 10,
   "id": "a46678c6",
   "metadata": {},
   "outputs": [
    {
     "name": "stdout",
     "output_type": "stream",
     "text": [
      "Here are 20 random words:\n",
      "1. Space\n",
      "2. Helicopter\n",
      "3. Caramel\n",
      "4. Diamond\n",
      "5. Butterfly\n",
      "6. Football\n",
      "7. Piano\n",
      "8. Snowflake\n",
      "9. Perfume\n",
      "10. Luggage\n",
      "11. Guitar\n",
      "12. Submarine\n",
      "13. Starfruit\n",
      "14. Fountain\n",
      "15. Bicycle\n",
      "16. Parakeet\n",
      "17. Computer\n",
      "18. Strawberry\n",
      "19. Harmonica\n",
      "20. Kitten\n"
     ]
    }
   ],
   "source": [
    "from groq import Groq\n",
    "\n",
    "client = Groq(\n",
    "    api_key=os.environ.get(\"GROQ_API_KEY\"),\n",
    ")\n",
    "\n",
    "chat_completion = client.chat.completions.create(\n",
    "    messages=[\n",
    "        {\"role\": \"system\", \"content\": \"You are a helpful assistant.\"},\n",
    "        {\"role\": \"user\", \"content\": \"can you print 20 random words?\"}\n",
    "    ],\n",
    "    model=\"llama-3.3-70b-versatile\",\n",
    ")\n",
    "\n",
    "print(chat_completion.choices[0].message.content)"
   ]
  },
  {
   "cell_type": "code",
   "execution_count": null,
   "id": "70d28e2e",
   "metadata": {},
   "outputs": [],
   "source": []
  }
 ],
 "metadata": {
  "kernelspec": {
   "display_name": ".venv",
   "language": "python",
   "name": "python3"
  },
  "language_info": {
   "codemirror_mode": {
    "name": "ipython",
    "version": 3
   },
   "file_extension": ".py",
   "mimetype": "text/x-python",
   "name": "python",
   "nbconvert_exporter": "python",
   "pygments_lexer": "ipython3",
   "version": "3.12.8"
  }
 },
 "nbformat": 4,
 "nbformat_minor": 5
}
