{
 "cells": [
  {
   "cell_type": "markdown",
   "id": "9e842781",
   "metadata": {},
   "source": [
    "# Imports\n"
   ]
  },
  {
   "cell_type": "code",
   "execution_count": 5,
   "id": "05f49c40",
   "metadata": {},
   "outputs": [],
   "source": [
    "from pydantic import BaseModel, Field\n",
    "\n",
    "from qdrant_client import QdrantClient\n",
    "from qdrant_client.models import Prefetch, FusionQuery, Document\n",
    "\n",
    "\n",
    "from langsmith import traceable\n",
    "\n",
    "from langgraph.graph import StateGraph, START, END\n",
    "from langgraph.types import Send\n",
    "\n",
    "\n",
    "from jinja2 import Template\n",
    "from typing import Annotated, List\n",
    "from operator import add\n",
    "from openai import OpenAI\n",
    "\n",
    "import openai\n",
    "\n",
    "import instructor"
   ]
  },
  {
   "cell_type": "code",
   "execution_count": 6,
   "id": "b19d1a4e",
   "metadata": {},
   "outputs": [],
   "source": [
    "class State(BaseModel):\n",
    "    expanded_query: List[str] = []\n",
    "    retrieved_context: Annotated[List[str], add] = []\n",
    "    question_relevant: bool = False\n",
    "    initial_query: str = \"\"\n",
    "    answer: str = \"\"\n",
    "    query: str = \"\"\n",
    "    k: int = 10"
   ]
  },
  {
   "cell_type": "code",
   "execution_count": 7,
   "id": "48975397",
   "metadata": {},
   "outputs": [],
   "source": [
    "class QueryExpandResponse(BaseModel):\n",
    "    expanded_query: List[str]"
   ]
  },
  {
   "cell_type": "code",
   "execution_count": 8,
   "id": "cb44072a",
   "metadata": {},
   "outputs": [],
   "source": [
    "@traceable(\n",
    "    name=\"agent_node\",\n",
    "    run_type=\"llm\",\n",
    "    metadata={\"ls_provider\": \"openai\", \"ls_model_name\": \"gpt-4.1-mini\"},\n",
    ")\n",
    "def query_expand_node(state: State):\n",
    "    prompt_template = \"\"\"You are part of a shopping assistant that can answer questions about products in stock.\n",
    "\n",
    "Instructions:\n",
    "- You will be given a question and you need to expand it into a list statements that can be used in contextual search to retrieve relevant products.\n",
    "- The statements should not overlap in context. Single item should not be expanded into multiple statements unless it is specifically mentioned in several contexts.\n",
    "\n",
    "<Question>\n",
    "{{ query }}\n",
    "</Question>\n",
    "\"\"\"\n",
    "\n",
    "    template = Template(prompt_template)\n",
    "\n",
    "    prompt = template.render(query=state.initial_query)\n",
    "\n",
    "    client = instructor.from_openai(OpenAI())\n",
    "\n",
    "    response, raw_response = client.chat.completions.create_with_completion(\n",
    "        model=\"gpt-4.1-mini\",\n",
    "        response_model=QueryExpandResponse,\n",
    "        messages=[{\"role\": \"system\", \"content\": prompt}],\n",
    "        temperature=0.5,\n",
    "    )\n",
    "\n",
    "    return {\"expanded_query\": response.expanded_query}"
   ]
  },
  {
   "cell_type": "code",
   "execution_count": 9,
   "id": "9278d2ab",
   "metadata": {},
   "outputs": [],
   "source": [
    "def query_expand_conditional_edges(state: State):\n",
    "    send_messages = []\n",
    "\n",
    "    for query in state.expanded_query:\n",
    "        send_messages.append(Send(\"retrieve_node\", {\"query\": query, \"k\": 10}))\n",
    "\n",
    "    return send_messages"
   ]
  },
  {
   "cell_type": "code",
   "execution_count": 10,
   "id": "e13425c3",
   "metadata": {},
   "outputs": [],
   "source": [
    "@traceable(\n",
    "    name=\"embed_query\",\n",
    "    run_type=\"embedding\",\n",
    "    metadata={\"ls_provider\": \"openai\", \"ls_model_name\": \"text-embedding-3-small\"},\n",
    ")\n",
    "def get_embedding(text, model=\"text-embedding-3-small\"):\n",
    "    response = openai.embeddings.create(\n",
    "        input=[text],\n",
    "        model=model,\n",
    "    )\n",
    "\n",
    "    return response.data[0].embedding\n",
    "\n",
    "\n",
    "@traceable(name=\"retrieve_top_n\", run_type=\"retriever\")\n",
    "def retrieve_node(state: State) -> dict:\n",
    "    qdrant_client = QdrantClient(url=\"http://localhost:6333\")\n",
    "\n",
    "    query_embedding = get_embedding(state[\"query\"])\n",
    "\n",
    "    results = qdrant_client.query_points(\n",
    "        collection_name=\"Amazon-items-collection-01-hybrid-search\",\n",
    "        prefetch=[\n",
    "            Prefetch(query=query_embedding, using=\"text-embedding-3-small\", limit=20),\n",
    "            Prefetch(\n",
    "                query=Document(text=state[\"query\"], model=\"qdrant/bm25\"),\n",
    "                using=\"bm25\",\n",
    "                limit=20,\n",
    "            ),\n",
    "        ],\n",
    "        query=FusionQuery(fusion=\"rrf\"),\n",
    "        limit=state[\"k\"],\n",
    "    )\n",
    "\n",
    "    retrieved_context = []\n",
    "    retrieved_context_ids = []\n",
    "    retrieved_context_ratings = []\n",
    "\n",
    "    for result in results.points:\n",
    "        retrieved_context_ids.append(result.payload[\"parent_asin\"])\n",
    "        retrieved_context.append(result.payload[\"description\"])\n",
    "        retrieved_context_ratings.append(result.payload[\"average_rating\"])\n",
    "\n",
    "    formatted_context = \"\"\n",
    "\n",
    "    for id, chunk, rating in zip(\n",
    "        retrieved_context_ids, retrieved_context, retrieved_context_ratings\n",
    "    ):\n",
    "        formatted_context += f\"- ID: {id}, rating: {rating}, description: {chunk}\\n\"\n",
    "\n",
    "    return {\n",
    "        \"retrieved_context\": [formatted_context],\n",
    "    }"
   ]
  },
  {
   "cell_type": "code",
   "execution_count": 11,
   "id": "6c650be7",
   "metadata": {},
   "outputs": [],
   "source": [
    "class AggregatorResponse(BaseModel):\n",
    "    answer: str = Field(description=\"Answer to the question.\")"
   ]
  },
  {
   "cell_type": "code",
   "execution_count": 12,
   "id": "670d389d",
   "metadata": {},
   "outputs": [],
   "source": [
    "@traceable(\n",
    "    name=\"agent_node\",\n",
    "    run_type=\"llm\",\n",
    "    metadata={\"ls_provider\": \"openai\", \"ls_model_name\": \"gpt-4.1-mini\"},\n",
    ")\n",
    "def aggregator_node(state: State) -> dict:\n",
    "    preprocessed_context = \"\\n\".join(state.retrieved_context)\n",
    "\n",
    "    prompt_template = \"\"\"You are a shopping assistant that can answer questions about the products in stock.\n",
    "\n",
    "You will be given a question and a list of context.\n",
    "\n",
    "Instructions:\n",
    "- You need to answer the question based on the provided context only.\n",
    "- Never use word context and refer to it as the available products.\n",
    "- The answer to the question should contain detailed information about the product and returned with detailed specification in bullet points.\n",
    "\n",
    "Context:\n",
    "{{ preprocessed_context }}\n",
    "\n",
    "Question:\n",
    "{{ question }}\n",
    "\"\"\"\n",
    "\n",
    "    template = Template(prompt_template)\n",
    "\n",
    "    prompt = template.render(\n",
    "        preprocessed_context=preprocessed_context, question=state.initial_query\n",
    "    )\n",
    "\n",
    "    client = instructor.from_openai(OpenAI())\n",
    "\n",
    "    response, raw_response = client.chat.completions.create_with_completion(\n",
    "        model=\"gpt-4.1-mini\",\n",
    "        response_model=AggregatorResponse,\n",
    "        messages=[{\"role\": \"system\", \"content\": prompt}],\n",
    "        temperature=0.5,\n",
    "    )\n",
    "\n",
    "    return {\"answer\": response.answer}"
   ]
  },
  {
   "cell_type": "markdown",
   "id": "7b206e71",
   "metadata": {},
   "source": [
    "## User Intent Router"
   ]
  },
  {
   "cell_type": "code",
   "execution_count": 13,
   "id": "f02d2e14",
   "metadata": {},
   "outputs": [],
   "source": [
    "class IntentRouterResponse(BaseModel):\n",
    "    question_relevant: bool\n",
    "    answer: str"
   ]
  },
  {
   "cell_type": "code",
   "execution_count": 30,
   "id": "a3ee6003",
   "metadata": {},
   "outputs": [],
   "source": [
    "@traceable(\n",
    "    name=\"agent_node\",\n",
    "    run_type=\"llm\",\n",
    "    metadata={\"ls_provider\": \"openai\", \"ls_model_name\": \"gpt-4.1-mini\"},\n",
    ")\n",
    "def intent_router_node(state: State):\n",
    "    prompt_template = \"\"\"You are part of a shopping assistant that can answer questions about products in stock.\n",
    "\n",
    "Instructions:\n",
    "- You will be given a question and you need to clasify it into relevant or not relevant.\n",
    "- If the question is not relevant, return False in field \"question_relevant\" and set \"answer\" to explanation why it is not relevant.\n",
    "- If the question is relevant, return True in field \"question_relevant\" and set \"answer\" to \"\".\n",
    "- You should only answer questions about the products in stock. If the question is not about the products in stock, you should ask for clarification.\n",
    "\n",
    "<Question>\n",
    "{{ query }}\n",
    "</Question>\n",
    "\"\"\"\n",
    "\n",
    "    template = Template(prompt_template)\n",
    "\n",
    "    prompt = template.render(query=state.initial_query)\n",
    "\n",
    "    client = instructor.from_openai(OpenAI())\n",
    "\n",
    "    response, raw_response = client.chat.completions.create_with_completion(\n",
    "        model=\"gpt-4.1-mini\",\n",
    "        response_model=IntentRouterResponse,\n",
    "        messages=[{\"role\": \"system\", \"content\": prompt}],\n",
    "        temperature=0.5,\n",
    "    )\n",
    "\n",
    "    return {\"question_relevant\": response.question_relevant, \"answer\": response.answer}"
   ]
  },
  {
   "cell_type": "code",
   "execution_count": 19,
   "id": "9db36c91",
   "metadata": {},
   "outputs": [],
   "source": [
    "def intent_router_conditional_expand(state: State):\n",
    "    if state.question_relevant:\n",
    "        return \"query_expand_node\"\n",
    "    else:\n",
    "        return \"end\""
   ]
  },
  {
   "cell_type": "code",
   "execution_count": 31,
   "id": "b9a6aa0d",
   "metadata": {},
   "outputs": [],
   "source": [
    "workflow = StateGraph(State)\n",
    "\n",
    "workflow.add_node(\"query_expand_node\", query_expand_node)\n",
    "workflow.add_node(\"retrieve_node\", retrieve_node)\n",
    "workflow.add_node(\"aggregator_node\", aggregator_node)\n",
    "workflow.add_node(\"intent_router_node\", intent_router_node)\n",
    "\n",
    "workflow.add_edge(START, \"intent_router_node\")\n",
    "workflow.add_conditional_edges(\"query_expand_node\", query_expand_conditional_edges)\n",
    "workflow.add_conditional_edges(\n",
    "    \"intent_router_node\",\n",
    "    intent_router_conditional_expand,\n",
    "    {\"query_expand_node\": \"query_expand_node\", \"end\": END},\n",
    ")\n",
    "\n",
    "workflow.add_edge(\"retrieve_node\", \"aggregator_node\")\n",
    "workflow.add_edge(\"aggregator_node\", END)\n",
    "\n",
    "graph = workflow.compile()"
   ]
  },
  {
   "cell_type": "code",
   "execution_count": 32,
   "id": "7c435145",
   "metadata": {},
   "outputs": [
    {
     "data": {
      "image/png": "[encoded data removed]",
      "text/plain": [
       "<langgraph.graph.state.CompiledStateGraph object at 0x116340890>"
      ]
     },
     "execution_count": 32,
     "metadata": {},
     "output_type": "execute_result"
    }
   ],
   "source": [
    "graph"
   ]
  },
  {
   "cell_type": "code",
   "execution_count": 33,
   "id": "81f06e49",
   "metadata": {},
   "outputs": [],
   "source": [
    "initial_state = {\"initial_query\": \"How's the weather today?\"}\n",
    "\n",
    "result = graph.invoke(initial_state)"
   ]
  },
  {
   "cell_type": "code",
   "execution_count": 34,
   "id": "c4810668",
   "metadata": {},
   "outputs": [
    {
     "data": {
      "text/plain": [
       "{'retrieved_context': [],\n",
       " 'question_relevant': False,\n",
       " 'initial_query': \"How's the weather today?\",\n",
       " 'answer': 'The question about the weather today is not relevant to the products in stock. Please ask about products or related information.'}"
      ]
     },
     "execution_count": 34,
     "metadata": {},
     "output_type": "execute_result"
    }
   ],
   "source": [
    "result"
   ]
  },
  {
   "cell_type": "code",
   "execution_count": null,
   "id": "6d12b1fc",
   "metadata": {},
   "outputs": [],
   "source": []
  },
  {
   "cell_type": "code",
   "execution_count": null,
   "id": "6f378010",
   "metadata": {},
   "outputs": [],
   "source": []
  }
 ],
 "metadata": {
  "kernelspec": {
   "display_name": ".venv",
   "language": "python",
   "name": "python3"
  },
  "language_info": {
   "codemirror_mode": {
    "name": "ipython",
    "version": 3
   },
   "file_extension": ".py",
   "mimetype": "text/x-python",
   "name": "python",
   "nbconvert_exporter": "python",
   "pygments_lexer": "ipython3",
   "version": "3.12.2"
  }
 },
 "nbformat": 4,
 "nbformat_minor": 5
}
