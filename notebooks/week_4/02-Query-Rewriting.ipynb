{
 "cells": [
  {
   "cell_type": "markdown",
   "id": "94082e4e",
   "metadata": {},
   "source": [
    "### Imports"
   ]
  },
  {
   "cell_type": "code",
   "execution_count": null,
   "id": "7b28581f",
   "metadata": {},
   "outputs": [],
   "source": [
    "# ruff: noqa\n",
    "from pydantic import BaseModel, Field\n",
    "\n",
    "from qdrant_client import QdrantClient\n",
    "from qdrant_client.models import Prefetch, FusionQuery, Document\n",
    "\n",
    "\n",
    "from langsmith import traceable\n",
    "\n",
    "from langgraph.graph import StateGraph, START, END\n",
    "from langgraph.types import Send\n",
    "\n",
    "\n",
    "from jinja2 import Template\n",
    "from typing import Annotated, List\n",
    "from operator import add\n",
    "from openai import OpenAI\n",
    "\n",
    "import openai\n",
    "\n",
    "import instructor"
   ]
  },
  {
   "cell_type": "code",
   "execution_count": 17,
   "id": "2a714084",
   "metadata": {},
   "outputs": [],
   "source": [
    "qdrant_client_ = QdrantClient(url=\"http://localhost:6333\")"
   ]
  },
  {
   "cell_type": "code",
   "execution_count": 18,
   "id": "90c794d5",
   "metadata": {},
   "outputs": [],
   "source": [
    "def get_embedding(text, model=\"text-embedding-3-small\"):\n",
    "    response = openai.embeddings.create(\n",
    "        input=[text],\n",
    "        model=model,\n",
    "    )\n",
    "    return response.data[0].embedding"
   ]
  },
  {
   "cell_type": "code",
   "execution_count": 19,
   "id": "3c9f8cb8",
   "metadata": {},
   "outputs": [],
   "source": [
    "def retrieve_data(query, qdrant_client, k=5):\n",
    "    query_embedding = get_embedding(query)\n",
    "\n",
    "    results = qdrant_client.query_points(\n",
    "        collection_name=\"Amazon-items-collection-01-hybrid-search\",\n",
    "        prefetch=[\n",
    "            Prefetch(query=query_embedding, using=\"text-embedding-3-small\", limit=20),\n",
    "            Prefetch(\n",
    "                query=Document(text=query, model=\"qdrant/bm25\"), using=\"bm25\", limit=20\n",
    "            ),\n",
    "        ],\n",
    "        query=FusionQuery(fusion=\"rrf\"),\n",
    "        limit=k,\n",
    "    )\n",
    "\n",
    "    retrieved_context_ids = []\n",
    "    retrieved_context = []\n",
    "    retrieved_context_ratings = []\n",
    "    similarity_scores = []\n",
    "\n",
    "    for result in results.points:\n",
    "        retrieved_context_ids.append(result.payload[\"parent_asin\"])\n",
    "        retrieved_context.append(result.payload[\"description\"])\n",
    "        retrieved_context_ratings.append(result.payload[\"average_rating\"])\n",
    "        similarity_scores.append(result.score)\n",
    "\n",
    "    return {\n",
    "        \"retrieved_context_ids\": retrieved_context_ids,\n",
    "        \"retrieved_context\": retrieved_context,\n",
    "        \"retrieved_context_ratings\": retrieved_context_ratings,\n",
    "        \"similarity_scores\": similarity_scores,\n",
    "    }"
   ]
  },
  {
   "cell_type": "code",
   "execution_count": 20,
   "id": "f076b532",
   "metadata": {},
   "outputs": [],
   "source": [
    "query = \"Can I get some tablet?\""
   ]
  },
  {
   "cell_type": "code",
   "execution_count": 21,
   "id": "3f04d81f",
   "metadata": {},
   "outputs": [
    {
     "name": "stderr",
     "output_type": "stream",
     "text": [
      "Fetching 18 files: 100%|██████████| 18/18 [00:00<00:00, 29.49it/s]\n"
     ]
    }
   ],
   "source": [
    "answer = retrieve_data(query, qdrant_client=qdrant_client_, k=10)"
   ]
  },
  {
   "cell_type": "code",
   "execution_count": 22,
   "id": "e039c4a9",
   "metadata": {},
   "outputs": [
    {
     "data": {
      "text/plain": [
       "{'retrieved_context_ids': ['B0B8NVNQKX',\n",
       "  'B09LH466KZ',\n",
       "  'B0BR33XH8D',\n",
       "  'B0BN7WWH63',\n",
       "  'B0C78B1BTB',\n",
       "  'B0BL2CZSHT',\n",
       "  'B0BFGXRMJN',\n",
       "  'B08CGM6Y1J',\n",
       "  'B0C3XYD574',\n",
       "  'B0C772GZRF'],\n",
       " 'retrieved_context': ['COOPERS 7 inch Kids Tablet Android 11 Tablet for Kids, 2GB RAM + 32GB ROM Toddler Tablet PC for Children, IPS Touch Screen, Dual Camera, Dual Speaker, WiFi Computer Tablet, Light Blue ✿【Good Kids tablet】This 7 inch tablet for kids with silm body and lightweight, it is easy to hold by children. Also the special design can protect the tablet well when dropping. ✿【Parental Control】Toddlers Tablet with parent mode can add or block apps. Set screen time limits. This tablet come with iwawa app. kids can get access to fun and educational games and videos. ✿【Powerful Tablets】Equipmented with quad core CPU, Android 11.0 System, 32GB Big Storage, 1024*600 IPS Screen offer a clear view. Runs Kinds of apps and game for kids smoothly. ✿【Long Lasting】Tablet for kids built with large capacity battery. For mixed use up to 6 hours. You can enjoy happy parent-child time with your kids. ✿【Best Gift】This high performance Children tablet is designed specially for kids. Best gift choice for Christmas, New Year, Easter, Birthday and school supplies. Pacakge come with 1* tablet, 1* charger, 1* cable',\n",
       "  'ALZHIJ Portable Tablet Holder Stand - Aluminum Alloy Desktop Stand Adjustable Angle&Height Tablet Stand Holder Creative Tablet Stand Compatible with Various Tablet UP to 12IN Wide (Grey) 😃MADE OF HIGH-QUALITY MATERIALS:The high-quality aluminum alloy material achieves the perfect performance of the tablet holder for bed, making the tablet wear-resistant and scratch-resistant, and has excellent corrosion resistance. The superb anodizing process increases the color and luster of the table stand and makes it richer in texture. 😃EXQUISITE APPEARANCE DESIGN:The personalized smiley face design can not only be a better decoration for this tablet stand for desk, but also provide a long-lasting heat dissipation effect for the tablet during use, making your tablet run more efficiently. The tablet stand for bed is designed with multiple non-slip silicone pads to protect the tablet from damage at all times. 😃180°FREELY ADJUSTABLE ANGLE:The tablet floor stand adopts a stable dual-axis mechanism design, which is firm and not easy to shake. The angle and height can be adjusted arbitrarily, giving you a perfect experience. Lightweight and portable adjustable stand, completely bid farewell to the troubles of traditional stand that are too heavy and make your life more convenient. 😃A WIDE RANGE OF APPLICATIONS:A tablet stand that integrates practical, beautiful, portable and other elements into one. It has a wide range of applications and can be compatible with various tablet up to 15.6 inches wide. The adjustable tablet stand can be used for work, travel, watching drama, and study, giving you a perfect experience. 😃OUR GURANTEE FOR YOU:Everything I do is based on customer satisfaction. If you are not completely satisfied with the purchased product or the product is damaged or broken in transit, please contact us in time. We will solve your problem as quickly as possible!',\n",
       "  'Universal 7 8 Inch Android Tablet Case, Universal Tablet Case Cover for 7 8 Inch Tablet, Nannxiebky Multi-Angle Viewing Stand Case for 7.0-8.5 Inch Tablet, Bird Flower Nannxiebky 8 inch tablet case, Such as compatible with Samsung Galaxy Tab A/S2/E 8.0 inch tablet case, Galaxy Tab A 8.4 inch tablet case, also compatible with LECTRUS AEEZO AOYODKG CWOWDEFU Pritom 8 inch Android tablet case(No back camera opening, not support auto sleep/wake Function). Tablet case for 8 inch tablet, compatible with Drangon Touch Y80 tablet case / MatrixPad S8 tablet case / Winnovo T8 tablet case / TECLAST P80 P80H P80X MIX 8 tablet case / Onn 8 inch tablet case.(No back camera opening, not support auto sleep/wake Function). Nannxiebky 7 inch tablet case, Such as samsung galaxy Tab 7.0 inch tablet case, walmart Onn 7 inch tablet case, also compatible with MatrixPad Dragon Touch Contixo Pritom qunyiCO AEEZO TOPELOTEK Haehne HAOQIN Winnovo ZONKO 7 inch tablet case. (No back camera opening, not support auto sleep/wake Function) Interior card slots and document pocket are designed for carrying your credit card / business cards/ some notes or bills while on the go. Multi-Angle viewing stand function for watching, you could attach the magnet closure to the back and make it keep away from screen.',\n",
       "  \"All-New Fire HD 8 Tablet Case, Fire Tablet 8 &8 Plus Case for Kids (Compatible 2022 & 2020 Release) - Auorld Kid-Proof Light-Weight Case for Fire HD 8 inch Tablet, Blue Tablet 8 Kids Case design specifically for all-new 8 inch Tablet and 8 Plus Tablet(12th/10th Generation, 2022/2020 Release), NOT fit for other models. Made with dense heavy duty EVA foam, material can withstand considerable wear and tear and provide extreme shock protection. Super lightweight and durable hazard free safe material perfect for kids and grownups alike PRECISE OPENINGS-Cutouts for easy access to all-new 8 inch tablet & 8 plus tablet buttons, ports, speakers and rear-camera. When installing, remove the black frame first.Raised screen bezel edges for extra protection when fall Special rear pattern with raised supports for grip and drop protection in a honey comb design. Anti-slip side grip feature with ergonomic grip supports What You Get: 1x tablet case,friendly customer service. Accessory: the tablet don't be included, NO screen protector included\",\n",
       "  \"Blackview Tab 5 Tablets, 2023 Latest Tablet Android 12, Quad-Core 5GB(3+2) RAM 64GB ROM up to 1TB TF, 8 inch Tablet HD+ IPS 1280*800, Android Tablet 5580mAh Big Battery, Dual BOX Speakers WiFi, Blue 【1280*800 IPS 8 Inch Tablet】The Blackview Tab 5 uses an HD+ screen, which is better and more eye friendly than other tablets that use 1024 x 600 resolution display. Enjoy your favorite apps like Netflix, Facebook, Hulu, Instagram, TikTok, and more through Google Play. It can gives you an ideal vision for productivity tasks, reading and entertainment. 【Enhanced Performance Tablet】📢📢📢Blackview has exclusive technology that can 🔸expand 3GB RAM to 5GB (2GB virtual memory)🔸on this android tablet, greatly improving the performance and speed, and no longer stuttering when running several apps at once. It also has an TF card slot that can be plugged into 1TB of expanded memory, with the 64GB ROM, this tablet can store lots of music, pictures, videos. 【Latest Android 12 tablet+DOKE O_P 3.0 GO】Android 12 has enhanced security and privacy features, as well as optimized the notification bar settings and Hotkeys for greater security and convenience. DOKE OS_P 3.0 GO is designed for blackview tablets. It makes the interface more beautiful based on Android 12, adding split screen, screen shot, screen recoard,dark theme, etc. 【5580mAh All day Battery Life Google Tablet】Extend your joy with extended battery life. Blackview Tab 5 never runs out of battery to enjoy reading, browsing the web, watching videos, and listening to music at home and on-the-go. We also added a power-saving mode, so it can lasts longer than other tablets which have 3500-5000mah batteries. 【Great fit for Family】Blackview Tab 5 tablet has parental controls mode, parents can create child profiles to limit screen time, set educational goals, and manage content with easy-to-use parental controls. It's Google GMS Certified, so it's also a great gift for your parents, Keep in touch with them through this android tablet. Father‘s day gift 【2 years Warranty】This android 8 inch tablet have 2 years guarantee policy and 30 days free return. In the unlikely event that the product is defective, please contact us through your Amazon purchase history. We will do our best to satisfy our customers.\",\n",
       "  'All-New 10and 10 Plus 2021 Tablet Case for Kids, Ubearkk Adult & Kids Friendly Light Weight Shock Proof Kid-Proof Back Cover Compatible 101h Generation 2021 Model Compatibility- Designed for All-New ＨＤ 10 & ＨＤ 10 Plus Tablet & ＨＤ 10 Kids Pro Tablet Latest model(Only compatible with 11th Generation, 2021 Release). NOT Fit for other generations. Kids-proof Case-Made with dense heavy duty EVA foam material can withstand considerable wear and tear and provide extreme shock protection. Super light weight and durable hazard free safe material perfect for kids and grownups alike. Built-in Kickstand - Designed with a foldable kick-stand on the back of the case, allows you to set up multiple angles and gives you the hands-free convenience when watching videos and movies. Precise cutouts- Full access to all ports, buttons, and cameras, speakers and rear-camera without removing the tablet case. What You Get- Tablet case x 1.(The tablet is not included, and NO screen protector included). If you encounter any problems, please feel free to contact us.',\n",
       "  \"JSAUX Tablet Pillow Stand, Tablet Stand Holder Dock for Lap, Bed and Desk Compatible with iPad Pro 11 10.5 9.7 10.2 Air Mini, Kindle, Tablets, Phones, E-Reader, Books and More 4-11'' devices Navy Blue 【Tablet Pillow Stand】JSAUX tablet pillow stand is perfect for Reading, watching videos&photos or typing while lying in bed, or sitting on sofa or rug. It holds your device well and make your life wonderful. 【Compatibility】Compatible with iPad mini 2 3 4 5 6, iPad 2017, 2018, 2019, 2020, 2021, iPad Pro 2016,2017, iPad Pro 11-inch, iPad Air 2013, 2014, 2019, 2020, 2022 (1st - 5th generation), Samsung Galaxy Tab S6 Lite, S7, S8, A7, A7 Lite, A8, A8.4, e-readers, Kindle, Kindle Paperwhite, Kindle Oasis, Kindle Scribe, Fire, Fire Plus, Fire Kids, Fire Kids Pro, smartphones and more 4-11 inches devices. 【Multi-angle Viewing】The soft and skin-friendly iPad holder has multi angle adjustments. With the combination of hook and loop strips & deeper grooves, you can freely adjust to a comfortable viewing angle. 【Considerate Details】JSAUX tablet stand holder dock provides more considerate details design. The mesh net pocket can be used to put the charging cable and charger. The pencil holder for your pencil fixing. Removable and washable soft case with bottom invisible zipper. 【What You Get】We provide this tablet holder with an 18-Month worry-free period and 24/7 friendly client consultation, if you have any questions, we will resolve your issue within 24 hours.\",\n",
       "  '8in Tablet Case for Kids (12/10th Generation, 2022/2020 Release), OQDDQO Light Weight Anti Slip Shockproof Kids Friendly Case for 8 inch Tablet (Black) New Design: Specially designed for All-New tablet 8 case (8in tablet 12/10th Generation, 2022/2020 Release), Compatible with 8 Plus case. Note: Not applicable to other tablets Super protection: With a protective layer of 1.5mm thickness, it is designed for double airbags with four corners for safer and more effective protection. Comfortable touch: side non-slip texture, 3D texture on the back, high-quality EVA material, very comfortable hand. Precise incision: All Ports, buttons and speakers have precise cut-outs for Easy access. we gift to you extra two wrist ropes to prevent the tablet from accidentally falling causing damage. Warranty: If you have any questions or dissatisfaction with our products or services,please feel free to contact us we will be happy to help you.',\n",
       "  'ROWT Tablet for Kids 10 inch Kids Tablet 2GB RAM 32GB ROM Android 11 6000mAh Wi-Fi, Bluetooth, Kid-Proof Case(Blue) 【Kids\\' Safety & Parental Controls】Looking for a safe tablet that\\'s easy for your kids to use? This 10-inch tablet for kids is GMS-certified, has password protection, a content filter, and a one-button lock screen, making it easier for parents to keep an eye on their kids activities and learning. 【Creative Educational Content】Our kids tablet provides access to a range of age-appropriate creative kids content such as drawing, educational games, eBooks, learning videos, math tools, and much more! Learning through play is best for kids to understand the world. 【Powerful Configuration & Full Access to Google】This Android 11 kids tablet has an HD 1280x800 IPS touchscreen, 1.6 GHz Quad-Core processor, 2GB RAM & 32GB ROM storage, dual cameras, and a large battery with 6000mAh capacity. You have full access to Google Play to download the latest apps such as Gmail, Disney+, Youtube, and many more. 【10.1\" Large Screen + Eye Protection】This kids tablet is designed with a 10.1-inch large HD screen. The screen is designed to produce less glare and provide more clarity and brightness. It helps protect your eyes by reducing damage from blue light, letting your child be safer and more comfortable while using the tablet. 【Durable Kid-proof Case】Designed to be easy to use, this 10-inch large yet portable kids tablet includes a protective case with a built-in stand to protect the kids tablet from scratches and bumps. This kids tablet is a great gift for birthdays, Christmas, holidays, and more.',\n",
       "  \"Paxodo Kids Tablet, 10 inch, Android 10 Tablet PC, 6000mAh, 32GB ROM, Quad-Core, HD Dual Camera, WiFi, Parental Control, Kid-Proof Case (Blue) 🛫【High Performance Kids Tablet】Paxodo Kids Tablet uses Android 10 operating system, and has a built-in 1.6GHz high-performance quad-core CPU, 2G RAM, 32G ROM, Faster than other tablets. 🛫【Rich Application Resources】Full-featured tablet. With GMS certification, Download apps from Google Play Store, Gives you the best resources for learning and entertainment. 🛫【Parental Control Mode】Has a great parental control mode that allows for time limits, educational goals, filtering of age appropriate content ……,To create a safe online environment for kids. 🛫【Eye protection HD screen】Features a premium IPS 1280x800 HD screen. Designed with low blue light technology. Enter reading mode with one click, helping be safer and more comfortable. 🛫【Battery Capacity & Kid-proof Case】Has a large built-in 6000 mAh battery, giving up to 5 hours of daily use with a single charge. It's convenient for long flights, camping, and road trips.\"],\n",
       " 'retrieved_context_ratings': [3.6,\n",
       "  4.5,\n",
       "  4.6,\n",
       "  4.5,\n",
       "  4.2,\n",
       "  4.7,\n",
       "  4.4,\n",
       "  4.6,\n",
       "  4.4,\n",
       "  4.3],\n",
       " 'similarity_scores': [0.625,\n",
       "  0.5833333,\n",
       "  0.42424244,\n",
       "  0.33333334,\n",
       "  0.32142857,\n",
       "  0.3,\n",
       "  0.25555557,\n",
       "  0.25,\n",
       "  0.22916667,\n",
       "  0.1904762]}"
      ]
     },
     "execution_count": 22,
     "metadata": {},
     "output_type": "execute_result"
    }
   ],
   "source": [
    "answer"
   ]
  },
  {
   "cell_type": "markdown",
   "id": "59e9324d",
   "metadata": {},
   "source": [
    "### Multi Intention Question"
   ]
  },
  {
   "cell_type": "code",
   "execution_count": 23,
   "id": "28dd392c",
   "metadata": {},
   "outputs": [],
   "source": [
    "query = \"Can I get some tablet for my kid, a watch for me and a laptop for my wife?\""
   ]
  },
  {
   "cell_type": "code",
   "execution_count": 24,
   "id": "30951476",
   "metadata": {},
   "outputs": [],
   "source": [
    "answer = retrieve_data(query, qdrant_client=qdrant_client_, k=10)"
   ]
  },
  {
   "cell_type": "code",
   "execution_count": 25,
   "id": "25de6b51",
   "metadata": {},
   "outputs": [
    {
     "data": {
      "text/plain": [
       "{'retrieved_context_ids': ['B0BRXZDBXZ',\n",
       "  'B0BL2CZSHT',\n",
       "  'B0CFFGT7RM',\n",
       "  'B0C3XYD574',\n",
       "  'B0B8NVNQKX',\n",
       "  'B0C142QS8X',\n",
       "  'B0C772GZRF',\n",
       "  'B0BFGXRMJN',\n",
       "  'B08CGM6Y1J',\n",
       "  'B0BN7WWH63'],\n",
       " 'retrieved_context': [\"Kids Tablet, 7 inch Tablet for Kids 3GB RAM 32GB ROM, Android 11 Toddler Tablet with WiFi, Bluetooth, GMS, Parental Control, Shockproof Case, Google Play, YouTube, Netflix 【iWawa APP with parental control】This kids tablet has passed the GMS certification and is pre-installed with the iwawa app, specially designed for children. It has password control, remote video control, one-button lock screen and Learning, art, smart games. New-upgrade kids online school, fun interaction, video playback 【Android 11.0 & 128 GB Expand】Android 11.0 operating system, 3GB RAM 32GB ROM, support WiFi, Bluetooth, GPS, etc. The HD 1024*600IPS display can offer a perfect experience, You can expand the storage to 128 GB of SD cards for storing photos, music and videos. The upgraded battery can last more than 6 hours, suitable for long-distance flights or road trips, Appropriate Age Grade Over 3 years old kids 【Kids Tablet with Case】The sturdy tablet case can protects your kids tablet. A colorful handle and a adjustable stand on the back of case allows toddlers to go hands-free while learning, watching and playing games, don't need to hold 【Ideal gift for Kids】You can download different apps from the Google Play store, such as ABCMouse, HULU, YouTube Kids, Netflix, Zoom. Kids can explore the new-world, search for new-knowledge. The toddler tablet is an ideal gift for birthday, Christmas, holiday season for kids. Help your child develop in an all-around way 【5-year Warranty】Our kids tablet offers a 5-year warranty and Lifetime customer service, we will answer your any questions within 24 hours. Package includes：1 x Tablet PC, 1 x Protective Silicone Case, 1 x screen protector , 1 x OTG cable, 1 x Data Cable, 1 x User Manual\",\n",
       "  'All-New 10and 10 Plus 2021 Tablet Case for Kids, Ubearkk Adult & Kids Friendly Light Weight Shock Proof Kid-Proof Back Cover Compatible 101h Generation 2021 Model Compatibility- Designed for All-New ＨＤ 10 & ＨＤ 10 Plus Tablet & ＨＤ 10 Kids Pro Tablet Latest model(Only compatible with 11th Generation, 2021 Release). NOT Fit for other generations. Kids-proof Case-Made with dense heavy duty EVA foam material can withstand considerable wear and tear and provide extreme shock protection. Super light weight and durable hazard free safe material perfect for kids and grownups alike. Built-in Kickstand - Designed with a foldable kick-stand on the back of the case, allows you to set up multiple angles and gives you the hands-free convenience when watching videos and movies. Precise cutouts- Full access to all ports, buttons, and cameras, speakers and rear-camera without removing the tablet case. What You Get- Tablet case x 1.(The tablet is not included, and NO screen protector included). If you encounter any problems, please feel free to contact us.',\n",
       "  'Gifts for Men Who Have Everything, Gifts for Him, Smart Watch for Men, Fitness Tracker with Heart Rate Blood Pressure Oxygen Monitor iPhone Android Compatible Relojes Inteligentes para, 1.4\\'\\' Black 【Nice Gifts for Men】This fitness tracking smart watch for men is not only makes it easier to receive / make calls, but it is also a must-have for tracking health and monitoring your statue when doing exercise. Stylish appearance, high-grade packaging, very suitable as a healthy gift for mens from wife on sepical days. Anniversary brithday gifts for men who have everything, unique gifts for men, retire gifts for dad, basket gifts for men, boyfriends. 【All-Day Heart Rate Monitor】Built-in high-precision PPG sensor to track your heart rate 24 hours a day. This heart rate monitor watch can also save your resting heart rate data to help monitor long-term heart rate changes. The blood oxygen is measured using reflective-light based sensor on this blood pressure watches for men women. When you experience shortage of breath, weakness or dizziness. This heart rate monitor watch can only help you train your breath to calm you down. gifts for men him 【Intelligent Fitness Watch】This Blood Pressure Monitor Watch has many features you need for a better experience to gives you new ways to train and advanced. Supports 20 professional fitness modes including yoga and HIT, as well as 100 extended fitness modes , it accurately monitors and analyzes over multiple data points such as heart rate, steps, and calories burned, Black round men fitness watch for iphone android compatible, smart watch fitness tracker with heart rate blood pressure 【Smart Notification】You can get call, SMS text and SNS messages including Facebook,Twitter, WhatsApp, Linkedin, Messenger and more when this womens mens smart watches are synced to the smart phone. The smart watches for women receives messages, calls, and app notifications by getting a vibration alert on the watches device, also can answer/make call or answer text with this relojes inteligentes para mujer. gifts for him, gifts for men who have everything, mens gifts 【Your Watch, Your Style】1.4\"touch screen covered with a sturdy and anti-scratch frame, WalkerFit A2 Pro black round Blood Pressure Monitor Watch offers stylish and elegant design and 5 dials readily available to choose from, over 200+ Multiple trendsetting dial within the app. Smart watch for men women to match your mood and outfit of every different day. Even create and customize your smartwatches own faces from your phone gallery. Unique gifts for men,gifts for him who have everything 【Healthy Assistant】Equipped with a high-precision sensor, this heart rate monitor watch with monitor to tracks your heart rate 24/7 and measures blood oxygen levels using a wrist-based sensor. This heart rate monitor watch also monitors your calories burned during exercise, making this fitness tracker watch an essential tool for keep fit. It makes a great gift for your loved ones. This fwomens fitness watch Ideal for high-intensity workouts and sports such as marathons and gym workouts. 【Good Travel Companion】Effortlessly control your smartphone camera with just a wave of your hand to make photos by this heart rate monitor watch, perfect for capturing memories with family on a vacation. This smart watch fitness tracker for men women also includes weather forecasting for 7 days future to help you plan your travel route each day ahead with ease.good travel gifts for men, gifts for him, gifts for men who have everything. mens gifts 【Always-on Battery Life】Blood Pressure Monitor Watch With a battery life of up to a week and standby time of over 20 days, this fitness smartwatch with heart rate monitoring is designed to keep up with your active life. Its fast-charging feature and magnetic enhanced charging cable make powering up effortless. Smart watch fitness tracker for men women with heart rate monitor. Gifts for men who have everything, gifts for him. Anniversary gifts for men, husband gifts from wife, tech gfits for men 【Waterproof Fitness Watches】2023 Upgrade Blood Pressure Monitor Watch With IP67 waterproof, this fitness tracker watch can meet the waterproof requirements of your daily activities such as washing hands or working out in the rain with this heart rate monitor fitness tracker watch. Whether it\\'s sweat or a small splash, just handle it with ease. round black smart watches for women, reloj de mujer inteligente, relojes inteligentes para mujer.Gifts for men, gifts for him, anniversary gifts for him Blood Pressure Monitor Watch, Fitness Watch, Heart Rate Monitor Watch,Smart Watch for Men Women,2023 Upgrade. Blood Pressure Monitor Watch, Fitness Watch, Heart Rate Monitor Watch,Smart Watch for Men Women, WalkerFit 2023 Upgrade Waterproof SmartWatches Fitness Tracker with Blood Pressure iPhone Android Compatible, 1.4 Inch Round black.',\n",
       "  'ROWT Tablet for Kids 10 inch Kids Tablet 2GB RAM 32GB ROM Android 11 6000mAh Wi-Fi, Bluetooth, Kid-Proof Case(Blue) 【Kids\\' Safety & Parental Controls】Looking for a safe tablet that\\'s easy for your kids to use? This 10-inch tablet for kids is GMS-certified, has password protection, a content filter, and a one-button lock screen, making it easier for parents to keep an eye on their kids activities and learning. 【Creative Educational Content】Our kids tablet provides access to a range of age-appropriate creative kids content such as drawing, educational games, eBooks, learning videos, math tools, and much more! Learning through play is best for kids to understand the world. 【Powerful Configuration & Full Access to Google】This Android 11 kids tablet has an HD 1280x800 IPS touchscreen, 1.6 GHz Quad-Core processor, 2GB RAM & 32GB ROM storage, dual cameras, and a large battery with 6000mAh capacity. You have full access to Google Play to download the latest apps such as Gmail, Disney+, Youtube, and many more. 【10.1\" Large Screen + Eye Protection】This kids tablet is designed with a 10.1-inch large HD screen. The screen is designed to produce less glare and provide more clarity and brightness. It helps protect your eyes by reducing damage from blue light, letting your child be safer and more comfortable while using the tablet. 【Durable Kid-proof Case】Designed to be easy to use, this 10-inch large yet portable kids tablet includes a protective case with a built-in stand to protect the kids tablet from scratches and bumps. This kids tablet is a great gift for birthdays, Christmas, holidays, and more.',\n",
       "  'COOPERS 7 inch Kids Tablet Android 11 Tablet for Kids, 2GB RAM + 32GB ROM Toddler Tablet PC for Children, IPS Touch Screen, Dual Camera, Dual Speaker, WiFi Computer Tablet, Light Blue ✿【Good Kids tablet】This 7 inch tablet for kids with silm body and lightweight, it is easy to hold by children. Also the special design can protect the tablet well when dropping. ✿【Parental Control】Toddlers Tablet with parent mode can add or block apps. Set screen time limits. This tablet come with iwawa app. kids can get access to fun and educational games and videos. ✿【Powerful Tablets】Equipmented with quad core CPU, Android 11.0 System, 32GB Big Storage, 1024*600 IPS Screen offer a clear view. Runs Kinds of apps and game for kids smoothly. ✿【Long Lasting】Tablet for kids built with large capacity battery. For mixed use up to 6 hours. You can enjoy happy parent-child time with your kids. ✿【Best Gift】This high performance Children tablet is designed specially for kids. Best gift choice for Christmas, New Year, Easter, Birthday and school supplies. Pacakge come with 1* tablet, 1* charger, 1* cable',\n",
       "  \"TUNEAKE Kids Headphones, Over Ear Kids Headset Stereo, Volume Limited 94dB, Foldable Adjustable Headphones for Kids, 3.5mm Jack Kid Headphones for Boys Girls Toddler School Laptop Travel Tablet, Pink 🍀LISTENING VOLUME🍀: Designed with 94dB volume-limiting technology, kids headphones offer adequate hearing protection that your child cannot listen to music or watch videos at dangerously high levels. Kids headphones for school NOTE: NO microphone, but you can still speak into the device's mic that you are plugged into and will hear you. 🍀KID-SIZED FOR COMFORT🍀: The padded headband and soft ear cups on the kids headphones boys provides a comfy fit for kids. The adjustable headband makes it well-suited to your child. With cushy, perforated mesh on the cushioned cups, your child's head will not feel hot. 🍀FOR EASY STORAGE AND PORTABILITY🍀: Children's headphones feature a folding design that can fold up to help reduce their size, easy to store in your child's backpack. The earmuffs can be rotated by 90°for easy hanging on the neck. 🍀WIDE COMPATIBILITY🍀: A 3.5mm aux port including a 120cm cable gives you the option to connect directly to devices. Compatible with all Smartphones, Chromebooks, iPads, Tablets, Computers, Laptops, and all 3.5mm audio jack devices. 🍀FUN FOR KIDS🍀: Kids headphones wired has easy controls that can allow children to use them without any difficulty. Whether your little one needs school headphones for online learning, or just to jam out to their own tunes, finding the kid headphones for them is worthwhile. Lifetime Support, Easy to Reach Customer Service.\",\n",
       "  \"Paxodo Kids Tablet, 10 inch, Android 10 Tablet PC, 6000mAh, 32GB ROM, Quad-Core, HD Dual Camera, WiFi, Parental Control, Kid-Proof Case (Blue) 🛫【High Performance Kids Tablet】Paxodo Kids Tablet uses Android 10 operating system, and has a built-in 1.6GHz high-performance quad-core CPU, 2G RAM, 32G ROM, Faster than other tablets. 🛫【Rich Application Resources】Full-featured tablet. With GMS certification, Download apps from Google Play Store, Gives you the best resources for learning and entertainment. 🛫【Parental Control Mode】Has a great parental control mode that allows for time limits, educational goals, filtering of age appropriate content ……,To create a safe online environment for kids. 🛫【Eye protection HD screen】Features a premium IPS 1280x800 HD screen. Designed with low blue light technology. Enter reading mode with one click, helping be safer and more comfortable. 🛫【Battery Capacity & Kid-proof Case】Has a large built-in 6000 mAh battery, giving up to 5 hours of daily use with a single charge. It's convenient for long flights, camping, and road trips.\",\n",
       "  \"JSAUX Tablet Pillow Stand, Tablet Stand Holder Dock for Lap, Bed and Desk Compatible with iPad Pro 11 10.5 9.7 10.2 Air Mini, Kindle, Tablets, Phones, E-Reader, Books and More 4-11'' devices Navy Blue 【Tablet Pillow Stand】JSAUX tablet pillow stand is perfect for Reading, watching videos&photos or typing while lying in bed, or sitting on sofa or rug. It holds your device well and make your life wonderful. 【Compatibility】Compatible with iPad mini 2 3 4 5 6, iPad 2017, 2018, 2019, 2020, 2021, iPad Pro 2016,2017, iPad Pro 11-inch, iPad Air 2013, 2014, 2019, 2020, 2022 (1st - 5th generation), Samsung Galaxy Tab S6 Lite, S7, S8, A7, A7 Lite, A8, A8.4, e-readers, Kindle, Kindle Paperwhite, Kindle Oasis, Kindle Scribe, Fire, Fire Plus, Fire Kids, Fire Kids Pro, smartphones and more 4-11 inches devices. 【Multi-angle Viewing】The soft and skin-friendly iPad holder has multi angle adjustments. With the combination of hook and loop strips & deeper grooves, you can freely adjust to a comfortable viewing angle. 【Considerate Details】JSAUX tablet stand holder dock provides more considerate details design. The mesh net pocket can be used to put the charging cable and charger. The pencil holder for your pencil fixing. Removable and washable soft case with bottom invisible zipper. 【What You Get】We provide this tablet holder with an 18-Month worry-free period and 24/7 friendly client consultation, if you have any questions, we will resolve your issue within 24 hours.\",\n",
       "  '8in Tablet Case for Kids (12/10th Generation, 2022/2020 Release), OQDDQO Light Weight Anti Slip Shockproof Kids Friendly Case for 8 inch Tablet (Black) New Design: Specially designed for All-New tablet 8 case (8in tablet 12/10th Generation, 2022/2020 Release), Compatible with 8 Plus case. Note: Not applicable to other tablets Super protection: With a protective layer of 1.5mm thickness, it is designed for double airbags with four corners for safer and more effective protection. Comfortable touch: side non-slip texture, 3D texture on the back, high-quality EVA material, very comfortable hand. Precise incision: All Ports, buttons and speakers have precise cut-outs for Easy access. we gift to you extra two wrist ropes to prevent the tablet from accidentally falling causing damage. Warranty: If you have any questions or dissatisfaction with our products or services,please feel free to contact us we will be happy to help you.',\n",
       "  \"All-New Fire HD 8 Tablet Case, Fire Tablet 8 &8 Plus Case for Kids (Compatible 2022 & 2020 Release) - Auorld Kid-Proof Light-Weight Case for Fire HD 8 inch Tablet, Blue Tablet 8 Kids Case design specifically for all-new 8 inch Tablet and 8 Plus Tablet(12th/10th Generation, 2022/2020 Release), NOT fit for other models. Made with dense heavy duty EVA foam, material can withstand considerable wear and tear and provide extreme shock protection. Super lightweight and durable hazard free safe material perfect for kids and grownups alike PRECISE OPENINGS-Cutouts for easy access to all-new 8 inch tablet & 8 plus tablet buttons, ports, speakers and rear-camera. When installing, remove the black frame first.Raised screen bezel edges for extra protection when fall Special rear pattern with raised supports for grip and drop protection in a honey comb design. Anti-slip side grip feature with ergonomic grip supports What You Get: 1x tablet case,friendly customer service. Accessory: the tablet don't be included, NO screen protector included\"],\n",
       " 'retrieved_context_ratings': [3.7,\n",
       "  4.7,\n",
       "  4.3,\n",
       "  4.4,\n",
       "  3.6,\n",
       "  4.5,\n",
       "  4.3,\n",
       "  4.4,\n",
       "  4.6,\n",
       "  4.5],\n",
       " 'similarity_scores': [0.6666667,\n",
       "  0.5625,\n",
       "  0.4166667,\n",
       "  0.4,\n",
       "  0.39285713,\n",
       "  0.33333334,\n",
       "  0.2625,\n",
       "  0.25,\n",
       "  0.17261904,\n",
       "  0.16666667]}"
      ]
     },
     "execution_count": 25,
     "metadata": {},
     "output_type": "execute_result"
    }
   ],
   "source": [
    "answer"
   ]
  },
  {
   "cell_type": "code",
   "execution_count": 26,
   "id": "ed9e068a",
   "metadata": {},
   "outputs": [],
   "source": [
    "class QueryExpandResponse(BaseModel):\n",
    "    statements: List[str]"
   ]
  },
  {
   "cell_type": "code",
   "execution_count": 27,
   "id": "64eadccd",
   "metadata": {},
   "outputs": [],
   "source": [
    "def query_expand_node(query) -> dict:\n",
    "    prompt_template = \"\"\"You are part of a shopping assistant that can answer questions about products in stock.\n",
    "\n",
    "Instructions:\n",
    "- You will be given a question and you need to expand it into a list statements that can be used in contextual search to retrieve relevant products.\n",
    "- The statements should not overlap in context.\n",
    "\n",
    "<Question>\n",
    "{{ query }}\n",
    "</Question>\n",
    "\"\"\"\n",
    "\n",
    "    template = Template(prompt_template)\n",
    "\n",
    "    prompt = template.render(query=query)\n",
    "\n",
    "    client = instructor.from_openai(OpenAI())\n",
    "\n",
    "    response, raw_response = client.chat.completions.create_with_completion(\n",
    "        model=\"gpt-4.1-mini\",\n",
    "        response_model=QueryExpandResponse,\n",
    "        messages=[{\"role\": \"system\", \"content\": prompt}],\n",
    "        temperature=0.5,\n",
    "    )\n",
    "\n",
    "    return {\"queries\": response.statements}"
   ]
  },
  {
   "cell_type": "code",
   "execution_count": 28,
   "id": "08a44974",
   "metadata": {},
   "outputs": [],
   "source": [
    "answer = query_expand_node(query)"
   ]
  },
  {
   "cell_type": "code",
   "execution_count": 29,
   "id": "9f85e451",
   "metadata": {},
   "outputs": [
    {
     "data": {
      "text/plain": [
       "{'queries': ['tablet suitable for kids',\n",
       "  'watch for adults',\n",
       "  'laptop for wife']}"
      ]
     },
     "execution_count": 29,
     "metadata": {},
     "output_type": "execute_result"
    }
   ],
   "source": [
    "answer"
   ]
  },
  {
   "cell_type": "markdown",
   "id": "984ac364",
   "metadata": {},
   "source": [
    "# Langgraph"
   ]
  },
  {
   "cell_type": "markdown",
   "id": "baa42e00",
   "metadata": {},
   "source": [
    "## Query Expansion"
   ]
  },
  {
   "cell_type": "code",
   "execution_count": 45,
   "id": "b2284b82",
   "metadata": {},
   "outputs": [],
   "source": [
    "class State(BaseModel):\n",
    "    expanded_query: List[str] = []\n",
    "    retrieved_context: Annotated[List[str], add] = []\n",
    "    initial_query: str = \"\"\n",
    "    answer: str = \"\""
   ]
  },
  {
   "cell_type": "code",
   "execution_count": 46,
   "id": "3e3ead56",
   "metadata": {},
   "outputs": [],
   "source": [
    "class QueryExpandResponse(BaseModel):\n",
    "    expanded_query: List[str]"
   ]
  },
  {
   "cell_type": "code",
   "execution_count": 47,
   "id": "d3b01807",
   "metadata": {},
   "outputs": [],
   "source": [
    "@traceable(\n",
    "    name=\"agent_node\",\n",
    "    run_type=\"llm\",\n",
    "    metadata={\"ls_provider\": \"openai\", \"ls_model_name\": \"gpt-4.1-mini\"},\n",
    ")\n",
    "def query_expand_node(query) -> dict:\n",
    "    prompt_template = \"\"\"You are part of a shopping assistant that can answer questions about products in stock.\n",
    "\n",
    "Instructions:\n",
    "- You will be given a question and you need to expand it into a list statements that can be used in contextual search to retrieve relevant products.\n",
    "- The statements should not overlap in context.\n",
    "\n",
    "<Question>\n",
    "{{ query }}\n",
    "</Question>\n",
    "\"\"\"\n",
    "\n",
    "    template = Template(prompt_template)\n",
    "\n",
    "    prompt = template.render(query=query)\n",
    "\n",
    "    client = instructor.from_openai(OpenAI())\n",
    "\n",
    "    response, raw_response = client.chat.completions.create_with_completion(\n",
    "        model=\"gpt-4.1-mini\",\n",
    "        response_model=QueryExpandResponse,\n",
    "        messages=[{\"role\": \"system\", \"content\": prompt}],\n",
    "        temperature=0.5,\n",
    "    )\n",
    "\n",
    "    return {\"expanded_query\": response.expanded_query}"
   ]
  },
  {
   "cell_type": "markdown",
   "id": "dd4995ba",
   "metadata": {},
   "source": [
    "### Retriever"
   ]
  },
  {
   "cell_type": "code",
   "execution_count": 54,
   "id": "aef85457",
   "metadata": {},
   "outputs": [],
   "source": [
    "@traceable(\n",
    "    name=\"embed_query\",\n",
    "    run_type=\"embedding\",\n",
    "    metadata={\"ls_provider\": \"openai\", \"ls_model_name\": \"text-embedding-3-small\"},\n",
    ")\n",
    "def get_embedding(text, model=\"text-embedding-3-small\"):\n",
    "    response = openai.embeddings.create(\n",
    "        input=[text],\n",
    "        model=model,\n",
    "    )\n",
    "\n",
    "    return response.data[0].embedding\n",
    "\n",
    "\n",
    "@traceable(name=\"retrieve_top_n\", run_type=\"retriever\")\n",
    "def retrieve(query, k=10) -> dict:\n",
    "    qdrant_client = QdrantClient(url=\"http://localhost:6333\")\n",
    "\n",
    "    query_embedding = get_embedding(query)\n",
    "\n",
    "    results = qdrant_client.query_points(\n",
    "        collection_name=\"Amazon-items-collection-01-hybrid-search\",\n",
    "        prefetch=[\n",
    "            Prefetch(query=query_embedding, using=\"text-embedding-3-small\", limit=20),\n",
    "            Prefetch(\n",
    "                query=Document(text=query, model=\"qdrant/bm25\"), using=\"bm25\", limit=20\n",
    "            ),\n",
    "        ],\n",
    "        query=FusionQuery(fusion=\"rrf\"),\n",
    "        limit=k,\n",
    "    )\n",
    "\n",
    "    retrieved_context = []\n",
    "    retrieved_context_ids = []\n",
    "    retrieved_context_ratings = []\n",
    "\n",
    "    for result in results.points:\n",
    "        retrieved_context_ids.append(result.payload[\"parent_asin\"])\n",
    "        retrieved_context.append(result.payload[\"description\"])\n",
    "        retrieved_context_ratings.append(result.payload[\"average_rating\"])\n",
    "\n",
    "    formatted_context = \"\"\n",
    "\n",
    "    for id, chunk, rating in zip(\n",
    "        retrieved_context_ids, retrieved_context, retrieved_context_ratings\n",
    "    ):\n",
    "        formatted_context += f\"- ID: {id}, rating: {rating}, description: {chunk}\\n\"\n",
    "\n",
    "    return formatted_context\n",
    "\n",
    "\n",
    "@traceable(name=\"retriever_node\", run_type=\"retriever\")\n",
    "def retrieve_node(state: State) -> dict:\n",
    "    retrieved_context = []\n",
    "\n",
    "    for query in state.expanded_query:\n",
    "        retrieved_context.append(retrieve(query))\n",
    "\n",
    "    return {\"retrieved_context\": retrieved_context}"
   ]
  },
  {
   "cell_type": "markdown",
   "id": "6d6241fe",
   "metadata": {},
   "source": [
    "### Aggregator Node"
   ]
  },
  {
   "cell_type": "code",
   "execution_count": 49,
   "id": "2c966c11",
   "metadata": {},
   "outputs": [],
   "source": [
    "class AggregatorResponse(BaseModel):\n",
    "    answer: str = Field(\"answer to the question\")"
   ]
  },
  {
   "cell_type": "code",
   "execution_count": 50,
   "id": "a082a6ad",
   "metadata": {},
   "outputs": [],
   "source": [
    "@traceable(\n",
    "    name=\"agent_node\",\n",
    "    run_type=\"llm\",\n",
    "    metadata={\"ls_provider\": \"openai\", \"ls_model_name\": \"gpt-4.1-mini\"},\n",
    ")\n",
    "def aggregator_node(state: State) -> dict:\n",
    "    preprocessed_context = \"\\n\".join(state.retrieved_context)\n",
    "\n",
    "    prompt_template = \"\"\"You are a shopping assistant that can answer questions about the products in stock.\n",
    "\n",
    "You will be given a question and a list of context.\n",
    "\n",
    "Instructions:\n",
    "- You need to answer the question based on the provided context only.\n",
    "- Never use word context and refer to it as the available products.\n",
    "- The answer to the question should contain detailed information about the product and returned with detailed specification in bullet points.\n",
    "\n",
    "Context:\n",
    "{{ preprocessed_context }}\n",
    "\n",
    "Question:\n",
    "{{ question }}\n",
    "\"\"\"\n",
    "\n",
    "    template = Template(prompt_template)\n",
    "\n",
    "    prompt = template.render(\n",
    "        preprocessed_context=preprocessed_context, question=state.initial_query\n",
    "    )\n",
    "\n",
    "    client = instructor.from_openai(OpenAI())\n",
    "\n",
    "    response, raw_response = client.chat.completions.create_with_completion(\n",
    "        model=\"gpt-4.1-mini\",\n",
    "        response_model=AggregatorResponse,\n",
    "        messages=[{\"role\": \"system\", \"content\": prompt}],\n",
    "        temperature=0.5,\n",
    "    )\n",
    "\n",
    "    return {\"answer\": response.answer}"
   ]
  },
  {
   "cell_type": "code",
   "execution_count": 55,
   "id": "fdf988a7",
   "metadata": {},
   "outputs": [],
   "source": [
    "workflow = StateGraph(State)\n",
    "\n",
    "workflow.add_node(\"query_expand_node\", query_expand_node)\n",
    "workflow.add_node(\"retrieve_node\", retrieve_node)\n",
    "workflow.add_node(\"aggregator_node\", aggregator_node)\n",
    "\n",
    "workflow.add_edge(START, \"query_expand_node\")\n",
    "workflow.add_edge(\"query_expand_node\", \"retrieve_node\")\n",
    "workflow.add_edge(\"retrieve_node\", \"aggregator_node\")\n",
    "workflow.add_edge(\"aggregator_node\", END)\n",
    "\n",
    "graph = workflow.compile()"
   ]
  },
  {
   "cell_type": "code",
   "execution_count": 52,
   "id": "a60d837e",
   "metadata": {},
   "outputs": [
    {
     "data": {
      "image/png": "[encoded data removed]",
      "text/plain": [
       "<langgraph.graph.state.CompiledStateGraph object at 0x118946300>"
      ]
     },
     "execution_count": 52,
     "metadata": {},
     "output_type": "execute_result"
    }
   ],
   "source": [
    "graph"
   ]
  },
  {
   "cell_type": "code",
   "execution_count": 56,
   "id": "f6ec9efa",
   "metadata": {},
   "outputs": [],
   "source": [
    "initial_state = {\n",
    "    \"initial_query\": \"Can I get a tablet for my kid, a watch for me and a laptop for my wife?\"\n",
    "}\n",
    "result = graph.invoke(initial_state)"
   ]
  },
  {
   "cell_type": "code",
   "execution_count": 58,
   "id": "bcef8c4a",
   "metadata": {},
   "outputs": [
    {
     "name": "stdout",
     "output_type": "stream",
     "text": [
      "Yes, you can get a tablet for your kid, a watch for yourself, and a laptop for your wife from the available products. Here are some detailed options for each:\n",
      "\n",
      "Tablet for Kids:\n",
      "- ROWT Tablet for Kids 10 inch\n",
      "  - 10.1-inch HD 1280x800 IPS touchscreen\n",
      "  - Android 11 OS\n",
      "  - 2GB RAM, 32GB ROM storage\n",
      "  - 6000mAh battery\n",
      "  - Kid-proof case with built-in stand\n",
      "  - Parental controls including password protection and content filter\n",
      "  - Dual cameras\n",
      "  - Full access to Google Play\n",
      "\n",
      "Watch for You:\n",
      "- Smart Watch, Touch Screen Smartwatch for Android Phones\n",
      "  - 1.69\" full touch color screen, 240 x 280 resolution\n",
      "  - 25 sports modes\n",
      "  - Heart rate and sleep monitor\n",
      "  - Waterproof (IP68)\n",
      "  - Bluetooth calling and notifications\n",
      "  - Compatible with iOS and Android\n",
      "\n",
      "- Smart Watch for Men Women (Make/Answer Call)\n",
      "  - 1.3-inch full-circle touch screen, 240x240 resolution\n",
      "  - Heart rate, blood pressure, blood oxygen monitoring\n",
      "  - 8 sports modes\n",
      "  - Bluetooth call and message notifications\n",
      "  - Stainless steel and silicone straps\n",
      "\n",
      "Laptop for Your Wife:\n",
      "- GEEKOM Mini PC Mini IT12\n",
      "  - 12th Gen Intel i7-1260P processor (12 cores, 16 threads)\n",
      "  - 16GB DDR4 RAM, 512GB PCIe Gen 4 SSD\n",
      "  - Windows 11 Pro pre-installed\n",
      "  - Wi-Fi 6E, Bluetooth 5.2\n",
      "  - Supports up to 4 screens with 8K UHD output\n",
      "\n",
      "- KIZUNA Laptop Bag Case 14 Inch\n",
      "  - Water resistant shoulder sleeve briefcase\n",
      "  - Fits 14\" laptops including MacBook Pro 2023\n",
      "  - Protective cushioning for drops and scratches\n",
      "\n",
      "These products provide a good combination of performance, safety, and convenience for your family needs.\n"
     ]
    }
   ],
   "source": [
    "print(result[\"answer\"])"
   ]
  },
  {
   "cell_type": "markdown",
   "id": "3b35103f",
   "metadata": {},
   "source": [
    "## Query Expansion Parallel Execution"
   ]
  },
  {
   "cell_type": "code",
   "execution_count": 59,
   "id": "bddab028",
   "metadata": {},
   "outputs": [],
   "source": [
    "class State(BaseModel):\n",
    "    expanded_query: List[str] = []\n",
    "    retrieved_context: Annotated[List[str], add] = []\n",
    "    initial_query: str = \"\"\n",
    "    answer: str = \"\"\n",
    "    query: str = \"\"\n",
    "    k: int = 10"
   ]
  },
  {
   "cell_type": "markdown",
   "id": "b110456a",
   "metadata": {},
   "source": [
    "### Query Expansion Rewriting"
   ]
  },
  {
   "cell_type": "code",
   "execution_count": 60,
   "id": "42a14a1a",
   "metadata": {},
   "outputs": [],
   "source": [
    "class QueryExpandResponse(BaseModel):\n",
    "    expanded_query: List[str]"
   ]
  },
  {
   "cell_type": "code",
   "execution_count": 61,
   "id": "d570abd2",
   "metadata": {},
   "outputs": [],
   "source": [
    "@traceable(\n",
    "    name=\"agent_node\",\n",
    "    run_type=\"llm\",\n",
    "    metadata={\"ls_provider\": \"openai\", \"ls_model_name\": \"gpt-4.1-mini\"},\n",
    ")\n",
    "def query_expand_node(state: State):\n",
    "    prompt_template = \"\"\"You are part of a shopping assistant that can answer questions about products in stock.\n",
    "\n",
    "Instructions:\n",
    "- You will be given a question and you need to expand it into a list statements that can be used in contextual search to retrieve relevant products.\n",
    "- The statements should not overlap in context. Single item should not be expanded into multiple statements unless it is specifically mentioned in several contexts.\n",
    "\n",
    "<Question>\n",
    "{{ query }}\n",
    "</Question>\n",
    "\"\"\"\n",
    "\n",
    "    template = Template(prompt_template)\n",
    "\n",
    "    prompt = template.render(query=state.initial_query)\n",
    "\n",
    "    client = instructor.from_openai(OpenAI())\n",
    "\n",
    "    response, raw_response = client.chat.completions.create_with_completion(\n",
    "        model=\"gpt-4.1-mini\",\n",
    "        response_model=QueryExpandResponse,\n",
    "        messages=[{\"role\": \"system\", \"content\": prompt}],\n",
    "        temperature=0.5,\n",
    "    )\n",
    "\n",
    "    return {\"expanded_query\": response.expanded_query}"
   ]
  },
  {
   "cell_type": "code",
   "execution_count": 62,
   "id": "37f8fcfa",
   "metadata": {},
   "outputs": [],
   "source": [
    "def query_expand_conditional_edges(state: State):\n",
    "    send_messages = []\n",
    "\n",
    "    for query in state.expanded_query:\n",
    "        send_messages.append(Send(\"retrieve_node\", {\"query\": query, \"k\": 10}))\n",
    "\n",
    "    return send_messages"
   ]
  },
  {
   "cell_type": "markdown",
   "id": "fe70c156",
   "metadata": {},
   "source": [
    "### Retriever"
   ]
  },
  {
   "cell_type": "code",
   "execution_count": 63,
   "id": "d1453e0e",
   "metadata": {},
   "outputs": [],
   "source": [
    "@traceable(\n",
    "    name=\"embed_query\",\n",
    "    run_type=\"embedding\",\n",
    "    metadata={\"ls_provider\": \"openai\", \"ls_model_name\": \"text-embedding-3-small\"},\n",
    ")\n",
    "def get_embedding(text, model=\"text-embedding-3-small\"):\n",
    "    response = openai.embeddings.create(\n",
    "        input=[text],\n",
    "        model=model,\n",
    "    )\n",
    "\n",
    "    return response.data[0].embedding\n",
    "\n",
    "\n",
    "@traceable(name=\"retrieve_top_n\", run_type=\"retriever\")\n",
    "def retrieve_node(state: State) -> dict:\n",
    "    qdrant_client = QdrantClient(url=\"http://localhost:6333\")\n",
    "\n",
    "    query_embedding = get_embedding(state[\"query\"])\n",
    "\n",
    "    results = qdrant_client.query_points(\n",
    "        collection_name=\"Amazon-items-collection-01-hybrid-search\",\n",
    "        prefetch=[\n",
    "            Prefetch(query=query_embedding, using=\"text-embedding-3-small\", limit=20),\n",
    "            Prefetch(\n",
    "                query=Document(text=state[\"query\"], model=\"qdrant/bm25\"),\n",
    "                using=\"bm25\",\n",
    "                limit=20,\n",
    "            ),\n",
    "        ],\n",
    "        query=FusionQuery(fusion=\"rrf\"),\n",
    "        limit=state[\"k\"],\n",
    "    )\n",
    "\n",
    "    retrieved_context = []\n",
    "    retrieved_context_ids = []\n",
    "    retrieved_context_ratings = []\n",
    "\n",
    "    for result in results.points:\n",
    "        retrieved_context_ids.append(result.payload[\"parent_asin\"])\n",
    "        retrieved_context.append(result.payload[\"description\"])\n",
    "        retrieved_context_ratings.append(result.payload[\"average_rating\"])\n",
    "\n",
    "    formatted_context = \"\"\n",
    "\n",
    "    for id, chunk, rating in zip(\n",
    "        retrieved_context_ids, retrieved_context, retrieved_context_ratings\n",
    "    ):\n",
    "        formatted_context += f\"- ID: {id}, rating: {rating}, description: {chunk}\\n\"\n",
    "\n",
    "    return {\n",
    "        \"retrieved_context\": [formatted_context],\n",
    "    }"
   ]
  },
  {
   "cell_type": "markdown",
   "id": "266e03b2",
   "metadata": {},
   "source": [
    "### Aggregator Node"
   ]
  },
  {
   "cell_type": "code",
   "execution_count": 64,
   "id": "b7945bdf",
   "metadata": {},
   "outputs": [],
   "source": [
    "class AggregatorResponse(BaseModel):\n",
    "    answer: str = Field(description=\"Answer to the question.\")"
   ]
  },
  {
   "cell_type": "code",
   "execution_count": 65,
   "id": "67f86a66",
   "metadata": {},
   "outputs": [],
   "source": [
    "@traceable(\n",
    "    name=\"agent_node\",\n",
    "    run_type=\"llm\",\n",
    "    metadata={\"ls_provider\": \"openai\", \"ls_model_name\": \"gpt-4.1-mini\"},\n",
    ")\n",
    "def aggregator_node(state: State) -> dict:\n",
    "    preprocessed_context = \"\\n\".join(state.retrieved_context)\n",
    "\n",
    "    prompt_template = \"\"\"You are a shopping assistant that can answer questions about the products in stock.\n",
    "\n",
    "You will be given a question and a list of context.\n",
    "\n",
    "Instructions:\n",
    "- You need to answer the question based on the provided context only.\n",
    "- Never use word context and refer to it as the available products.\n",
    "- The answer to the question should contain detailed information about the product and returned with detailed specification in bullet points.\n",
    "\n",
    "Context:\n",
    "{{ preprocessed_context }}\n",
    "\n",
    "Question:\n",
    "{{ question }}\n",
    "\"\"\"\n",
    "\n",
    "    template = Template(prompt_template)\n",
    "\n",
    "    prompt = template.render(\n",
    "        preprocessed_context=preprocessed_context, question=state.initial_query\n",
    "    )\n",
    "\n",
    "    client = instructor.from_openai(OpenAI())\n",
    "\n",
    "    response, raw_response = client.chat.completions.create_with_completion(\n",
    "        model=\"gpt-4.1-mini\",\n",
    "        response_model=AggregatorResponse,\n",
    "        messages=[{\"role\": \"system\", \"content\": prompt}],\n",
    "        temperature=0.5,\n",
    "    )\n",
    "\n",
    "    return {\"answer\": response.answer}"
   ]
  },
  {
   "cell_type": "code",
   "execution_count": 66,
   "id": "613850e2",
   "metadata": {},
   "outputs": [],
   "source": [
    "workflow = StateGraph(State)\n",
    "\n",
    "workflow.add_node(\"query_expand_node\", query_expand_node)\n",
    "workflow.add_node(\"retrieve_node\", retrieve_node)\n",
    "workflow.add_node(\"aggregator_node\", aggregator_node)\n",
    "\n",
    "workflow.add_edge(START, \"query_expand_node\")\n",
    "workflow.add_conditional_edges(\"query_expand_node\", query_expand_conditional_edges)\n",
    "\n",
    "workflow.add_edge(\"retrieve_node\", \"aggregator_node\")\n",
    "workflow.add_edge(\"aggregator_node\", END)\n",
    "\n",
    "graph = workflow.compile()"
   ]
  },
  {
   "cell_type": "code",
   "execution_count": 69,
   "id": "0b188e18",
   "metadata": {},
   "outputs": [
    {
     "data": {
      "image/png": "[encoded data removed]",
      "text/plain": [
       "<langgraph.graph.state.CompiledStateGraph object at 0x118df8170>"
      ]
     },
     "execution_count": 69,
     "metadata": {},
     "output_type": "execute_result"
    }
   ],
   "source": [
    "graph"
   ]
  },
  {
   "cell_type": "code",
   "execution_count": 67,
   "id": "00aac6c2",
   "metadata": {},
   "outputs": [],
   "source": [
    "initial_state = {\n",
    "    \"initial_query\": \"Can I get a tablet for my kid, a watch for me and a laptop for my wife?\"\n",
    "}\n",
    "result = graph.invoke(initial_state)"
   ]
  },
  {
   "cell_type": "code",
   "execution_count": 68,
   "id": "41043064",
   "metadata": {},
   "outputs": [
    {
     "name": "stdout",
     "output_type": "stream",
     "text": [
      "Yes, you can get a tablet for your kid, a watch for yourself, and a laptop bag for your wife from the available products. Here are some detailed options for each:\n",
      "\n",
      "Tablet for Kids:\n",
      "- ROWT Tablet for Kids 10 inch\n",
      "  - 10.1 inch HD 1280x800 IPS touchscreen\n",
      "  - Android 11 OS\n",
      "  - 2GB RAM, 32GB ROM storage\n",
      "  - 6000mAh battery\n",
      "  - Kid-proof case with built-in stand\n",
      "  - Parental controls with password protection, content filter, and one-button lock screen\n",
      "  - Access to Google Play Store\n",
      "  - Dual cameras\n",
      "  - Blue color\n",
      "\n",
      "Watch for You:\n",
      "- Blackview R5 Fitness Activity Tracker Smartwatch\n",
      "  - 24 sports modes\n",
      "  - Heart rate monitor and blood oxygen SpO2\n",
      "  - IP68 waterproof\n",
      "  - Sleep tracking\n",
      "  - Notifications for calls, SMS, and apps\n",
      "  - Long battery life (9-15 days)\n",
      "  - Compatible with iOS 9.0 and Android 4.3+\n",
      "  - Orange color\n",
      "\n",
      "Laptop Bag for Your Wife:\n",
      "- Kuosdaz Travel Laptop Backpack\n",
      "  - Fits laptops up to 15.6 inch\n",
      "  - Water-resistant polyester fabric\n",
      "  - USB charging port with built-in cable\n",
      "  - Anti-theft pockets and luggage strap\n",
      "  - Multiple compartments and side pockets\n",
      "  - Comfortable PU leather handle\n",
      "  - Army green color\n",
      "\n",
      "These products cover your needs for a kid's tablet, a smartwatch for yourself, and a laptop bag for your wife.\n"
     ]
    }
   ],
   "source": [
    "print(result[\"answer\"])"
   ]
  }
 ],
 "metadata": {
  "kernelspec": {
   "display_name": ".venv",
   "language": "python",
   "name": "python3"
  },
  "language_info": {
   "codemirror_mode": {
    "name": "ipython",
    "version": 3
   },
   "file_extension": ".py",
   "mimetype": "text/x-python",
   "name": "python",
   "nbconvert_exporter": "python",
   "pygments_lexer": "ipython3",
   "version": "3.12.2"
  }
 },
 "nbformat": 4,
 "nbformat_minor": 5
}
