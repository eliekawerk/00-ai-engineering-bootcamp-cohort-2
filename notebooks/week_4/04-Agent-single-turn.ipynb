{
 "cells": [
  {
   "cell_type": "markdown",
   "id": "e184f06a",
   "metadata": {},
   "source": [
    "# Imports"
   ]
  },
  {
   "cell_type": "code",
   "execution_count": 1,
   "id": "94faa31f",
   "metadata": {},
   "outputs": [
    {
     "name": "stderr",
     "output_type": "stream",
     "text": [
      "/Users/eliekawerk/PycharmProjects/00-ai-engineering-bootcamp-cohort-2/.venv/lib/python3.12/site-packages/tqdm/auto.py:21: TqdmWarning: IProgress not found. Please update jupyter and ipywidgets. See https://ipywidgets.readthedocs.io/en/stable/user_install.html\n",
      "  from .autonotebook import tqdm as notebook_tqdm\n"
     ]
    }
   ],
   "source": [
    "from pydantic import BaseModel, Field\n",
    "\n",
    "from qdrant_client import QdrantClient\n",
    "from qdrant_client.models import Prefetch, FusionQuery, Document\n",
    "\n",
    "\n",
    "from langsmith import traceable, get_current_run_tree\n",
    "\n",
    "from langgraph.graph import StateGraph, START, END\n",
    "from langgraph.prebuilt import ToolNode\n",
    "\n",
    "from langchain_core.messages import convert_to_openai_messages\n",
    "\n",
    "from jinja2 import Template\n",
    "from typing import Dict, Any, Annotated, List\n",
    "from operator import add\n",
    "from openai import OpenAI\n",
    "\n",
    "import openai\n",
    "\n",
    "import instructor\n",
    "\n",
    "from utils.utils import get_tool_descriptions, format_ai_message"
   ]
  },
  {
   "cell_type": "markdown",
   "id": "19d3948b",
   "metadata": {},
   "source": [
    "## Define Retrieval Tool"
   ]
  },
  {
   "cell_type": "code",
   "execution_count": 2,
   "id": "3af2505a",
   "metadata": {},
   "outputs": [],
   "source": [
    "@traceable(\n",
    "    name=\"embed_query\",\n",
    "    run_type=\"embedding\",\n",
    "    metadata={\"ls_provider\": \"openai\", \"ls_model_name\": \"text-embedding-3-small\"},\n",
    ")\n",
    "def get_embedding(text, model=\"text-embedding-3-small\"):\n",
    "    response = openai.embeddings.create(\n",
    "        input=text,\n",
    "        model=model,\n",
    "    )\n",
    "\n",
    "    current_run = get_current_run_tree()\n",
    "\n",
    "    if current_run:\n",
    "        current_run.metadata[\"usage_metadata\"] = {\n",
    "            \"input_tokens\": response.usage.prompt_tokens,\n",
    "            \"total_tokens\": response.usage.total_tokens,\n",
    "        }\n",
    "\n",
    "    return response.data[0].embedding\n",
    "\n",
    "\n",
    "@traceable(name=\"retrieve_data\", run_type=\"retriever\")\n",
    "def retrieve_data(query, k=5):\n",
    "    query_embedding = get_embedding(query)\n",
    "\n",
    "    qdrant_client = QdrantClient(url=\"http://localhost:6333\")\n",
    "\n",
    "    results = qdrant_client.query_points(\n",
    "        collection_name=\"Amazon-items-collection-01-hybrid-search\",\n",
    "        prefetch=[\n",
    "            Prefetch(query=query_embedding, using=\"text-embedding-3-small\", limit=20),\n",
    "            Prefetch(\n",
    "                query=Document(text=query, model=\"qdrant/bm25\"), using=\"bm25\", limit=20\n",
    "            ),\n",
    "        ],\n",
    "        query=FusionQuery(fusion=\"rrf\"),\n",
    "        limit=k,\n",
    "    )\n",
    "\n",
    "    retrieved_context_ids = []\n",
    "    retrieved_context = []\n",
    "    retrieved_context_ratings = []\n",
    "    similarity_scores = []\n",
    "\n",
    "    for result in results.points:\n",
    "        retrieved_context_ids.append(result.payload[\"parent_asin\"])\n",
    "        retrieved_context.append(result.payload[\"description\"])\n",
    "        retrieved_context_ratings.append(result.payload[\"average_rating\"])\n",
    "        similarity_scores.append(result.score)\n",
    "\n",
    "    return {\n",
    "        \"retrieved_context_ids\": retrieved_context_ids,\n",
    "        \"retrieved_context\": retrieved_context,\n",
    "        \"retrieved_context_ratings\": retrieved_context_ratings,\n",
    "        \"similarity_scores\": similarity_scores,\n",
    "    }\n",
    "\n",
    "\n",
    "@traceable(name=\"format_retrieved_context\", run_type=\"prompt\")\n",
    "def process_context(context):\n",
    "    formatted_context = \"\"\n",
    "\n",
    "    for id, chunk, rating in zip(\n",
    "        context[\"retrieved_context_ids\"],\n",
    "        context[\"retrieved_context\"],\n",
    "        context[\"retrieved_context_ratings\"],\n",
    "    ):\n",
    "        formatted_context += f\"- ID: {id}, rating: {rating}, description: {chunk}\\n\"\n",
    "\n",
    "    return formatted_context\n",
    "\n",
    "\n",
    "def get_formatted_context(query: str, top_k: int = 5) -> str:\n",
    "    \"\"\"Get the top k context, each representing an inventory item for a given query.\n",
    "\n",
    "    Args:\n",
    "        query: The query to get the top k context for\n",
    "        top_k: The number of context chunks to retrieve, works best with 5 or more\n",
    "\n",
    "    Returns:\n",
    "        A string of the top k context chunks with IDs and average ratings prepending each chunk, each representing an inventory item for a given query.\n",
    "    \"\"\"\n",
    "\n",
    "    context = retrieve_data(query, top_k)\n",
    "    formatted_context = process_context(context)\n",
    "\n",
    "    return formatted_context"
   ]
  },
  {
   "cell_type": "markdown",
   "id": "363e8151",
   "metadata": {},
   "source": [
    "## State and Pydantic Models for structured outputs"
   ]
  },
  {
   "cell_type": "code",
   "execution_count": 3,
   "id": "c73d3fa6",
   "metadata": {},
   "outputs": [],
   "source": [
    "class ToolCall(BaseModel):\n",
    "    name: str\n",
    "    arguments: dict\n",
    "\n",
    "\n",
    "class RAGUsedContext(BaseModel):\n",
    "    id: str = Field(description=\"ID of the item used to answer the question\")\n",
    "    description: str = Field(description=\"Description of the item used to answer\")\n",
    "\n",
    "\n",
    "class AgentResponse(BaseModel):\n",
    "    answer: str = Field(description=\"Answer to the question.\")\n",
    "    references: list[RAGUsedContext] = Field(\n",
    "        description=\"List of items used to answer the question.\"\n",
    "    )\n",
    "    final_answer: bool = False\n",
    "    tool_calls: List[ToolCall] = []\n",
    "\n",
    "\n",
    "class State(BaseModel):\n",
    "    messages: Annotated[List[Any], add] = []\n",
    "    question_relevant: bool = False\n",
    "    iteration: int = 0\n",
    "    answer: str = \"\"\n",
    "    available_tools: List[Dict[str, Any]] = []\n",
    "    tool_calls: List[ToolCall] = []\n",
    "    final_answer: bool = False\n",
    "    references: Annotated[List[RAGUsedContext], add] = []"
   ]
  },
  {
   "cell_type": "code",
   "execution_count": 4,
   "id": "dec41423",
   "metadata": {},
   "outputs": [],
   "source": [
    "@traceable(\n",
    "    name=\"agent_node\",\n",
    "    run_type=\"llm\",\n",
    "    metadata={\"ls_provider\": \"openai\", \"ls_model_name\": \"gpt-4.1-mini\"},\n",
    ")\n",
    "def agent_node(state: State) -> dict:\n",
    "    prompt_template = \"\"\"You are a shopping assistant that can answer questions about the products in stock.\n",
    "\n",
    "You will be given a conversation history and a list of tools you can use to answer the latest query.\n",
    "\n",
    "<Available tools>\n",
    "{{ available_tools | tojson }}\n",
    "</Available tools>\n",
    "\n",
    "When making tool calls, use this exact format:\n",
    "{\n",
    "    \"name\": \"tool_name\",\n",
    "    \"arguments\": {\n",
    "        \"parameter1\": \"value1\",\n",
    "        \"parameter2\": \"value2\",\n",
    "    }\n",
    "}\n",
    "\n",
    "CRITICAL: All parameters must go inside the \"arguments\" object, not at the top level of the tool call.\n",
    "\n",
    "Examples:\n",
    "- Get formatted item context:\n",
    "{\n",
    "    \"name\": \"get_formatted_item_context\",\n",
    "    \"arguments\": {\n",
    "        \"query\": \"Kool kids toys.\",\n",
    "        \"top_k\": 5\n",
    "    }\n",
    "}\n",
    "\n",
    "CRITICAL RULES:\n",
    "- If tool_calls has values, final_answer MUST be false\n",
    "(You cannot call tools and exit the graph in the same response)\n",
    "- If final_answer is true, tool_calls MUST be []\n",
    "(You must wait for tool results before exiting the graph)\n",
    "- If you need tool results before answering, set:\n",
    "tool_calls=[...], final_answer=false\n",
    "- After receiving tool results, you can then set:\n",
    "tool_calls=[], final_answer=true\n",
    "- Use names specificly provided in the available tools. Don't add any additional text to the names.\n",
    "\n",
    "Instructions:\n",
    "- You need to answer the question based on the outputs from the tools using the available tools only.\n",
    "- Do not suggest the same tool call more than once.\n",
    "- If the question can be decomposed into multiple sub-questions, suggest all of them.\n",
    "- If multipple tool calls can be used at once to answer the question, suggest all of them.\n",
    "- Do not explain your next steps in the answer, instead use tools to answer the question.\n",
    "- Never use word context and refer to it as the available products.\n",
    "- You should only answer questions about the products in stock. If the question is not about the products in stock, you should ask for clarification.\n",
    "- As an output you need to return the following:\n",
    "\n",
    "* answer: The answer to the question based on your current knowledge and the tool results.\n",
    "* references: The list of the indexes from the chunks returned from all tool calls that were used to answer the question. If more than one chunk was used to compile the answer from a single tool call, be sure to return all of them.\n",
    "* Each reference should have an id and a short description of the item based on the retrieved context.\n",
    "* final_answer: True if you have all the information needed to provide a complete answer, False otherwise.\n",
    "\n",
    "- The answer to the question should contain detailed information about the product and should be returned with detailed specification in bullet points.\n",
    "- The short description should have the name of the item.\n",
    "- If the user's request requires using a tool, set tool_calls with the appropriate function names and arguments.\n",
    "\"\"\"\n",
    "\n",
    "    template = Template(prompt_template)\n",
    "\n",
    "    prompt = template.render(available_tools=state.available_tools)\n",
    "\n",
    "    messages = state.messages\n",
    "\n",
    "    conversation = []\n",
    "\n",
    "    for message in messages:\n",
    "        conversation.append(convert_to_openai_messages(message))\n",
    "\n",
    "    client = instructor.from_openai(OpenAI())\n",
    "\n",
    "    response, raw_response = client.chat.completions.create_with_completion(\n",
    "        model=\"gpt-4.1-mini\",\n",
    "        response_model=AgentResponse,\n",
    "        messages=[{\"role\": \"system\", \"content\": prompt}, *conversation],\n",
    "        temperature=0.5,\n",
    "    )\n",
    "\n",
    "    ai_message = format_ai_message(response)\n",
    "\n",
    "    return {\n",
    "        \"messages\": [ai_message],\n",
    "        \"tool_calls\": response.tool_calls,\n",
    "        \"iteration\": state.iteration + 1,\n",
    "        \"answer\": response.answer,\n",
    "        \"final_answer\": response.final_answer,\n",
    "        \"references\": response.references,\n",
    "    }"
   ]
  },
  {
   "cell_type": "markdown",
   "id": "16801e91",
   "metadata": {},
   "source": [
    "## Tool Router Node"
   ]
  },
  {
   "cell_type": "code",
   "execution_count": 5,
   "id": "e852292c",
   "metadata": {},
   "outputs": [],
   "source": [
    "def tool_router(state: State) -> str:\n",
    "    \"\"\"Decide whether to continue or to end\"\"\"\n",
    "    if state.final_answer:\n",
    "        return \"end\"\n",
    "    elif state.iteration > 2:\n",
    "        return \"end\"\n",
    "    elif len(state.tool_calls) > 0:\n",
    "        return \"tools\"\n",
    "    else:\n",
    "        return \"end\""
   ]
  },
  {
   "cell_type": "markdown",
   "id": "695a440d",
   "metadata": {},
   "source": [
    "## Intent Router"
   ]
  },
  {
   "cell_type": "code",
   "execution_count": 6,
   "id": "1cbefbb6",
   "metadata": {},
   "outputs": [],
   "source": [
    "class IntentRouterResponse(BaseModel):\n",
    "    question_relevant: bool\n",
    "    answer: str"
   ]
  },
  {
   "cell_type": "code",
   "execution_count": 7,
   "id": "677f1b25",
   "metadata": {},
   "outputs": [],
   "source": [
    "@traceable(\n",
    "    name=\"agent_node\",\n",
    "    run_type=\"llm\",\n",
    "    metadata={\"ls_provider\": \"openai\", \"ls_model_name\": \"gpt-4.1-mini\"},\n",
    ")\n",
    "def intent_router_node(state: State):\n",
    "    prompt_template = \"\"\"You are part of a shopping assistant that can answer questions about products in stock.\n",
    "\n",
    "Instructions:\n",
    "- You will be given a conversation history with the user.\n",
    "- If the latest user messgae is not relevant, return False in field \"question_relevant\" and set \"answer\" to explanation why it is not relevant.\n",
    "- If the latest user message is relevant, return True in field \"question_relevant\" and set \"answer\" to \"\".\n",
    "- You should only answer questions about the products in stock. If the question is not about the products in stock, you should ask for clarification.\n",
    "\"\"\"\n",
    "\n",
    "    template = Template(prompt_template)\n",
    "\n",
    "    prompt = template.render()\n",
    "\n",
    "    messages = state.messages\n",
    "\n",
    "    conversation = []\n",
    "\n",
    "    for message in messages:\n",
    "        conversation.append(convert_to_openai_messages(message))\n",
    "\n",
    "    client = instructor.from_openai(OpenAI())\n",
    "\n",
    "    response, raw_response = client.chat.completions.create_with_completion(\n",
    "        model=\"gpt-4.1-mini\",\n",
    "        response_model=IntentRouterResponse,\n",
    "        messages=[{\"role\": \"system\", \"content\": prompt}, *conversation],\n",
    "        temperature=0.0,\n",
    "    )\n",
    "\n",
    "    return {\"question_relevant\": response.question_relevant, \"answer\": response.answer}"
   ]
  },
  {
   "cell_type": "code",
   "execution_count": 8,
   "id": "a7af83af",
   "metadata": {},
   "outputs": [],
   "source": [
    "def intent_rounter_conditional_edges(state: State) -> str:\n",
    "    return \"agent_node\" if state.question_relevant else \"end\""
   ]
  },
  {
   "cell_type": "markdown",
   "id": "cb0724bd",
   "metadata": {},
   "source": [
    "## Graph"
   ]
  },
  {
   "cell_type": "code",
   "execution_count": 21,
   "id": "f22f8b5c",
   "metadata": {},
   "outputs": [],
   "source": [
    "workflow = StateGraph(State)\n",
    "\n",
    "tools = [get_formatted_context]\n",
    "tool_node = ToolNode(tools)\n",
    "tools_descriptions = get_tool_descriptions(tools)\n",
    "\n",
    "workflow.add_node(\"agent_node\", agent_node)\n",
    "workflow.add_node(\"tool_node\", tool_node)\n",
    "workflow.add_node(\"intent_router_node\", intent_router_node)\n",
    "\n",
    "workflow.add_edge(START, \"intent_router_node\")\n",
    "workflow.add_conditional_edges(\n",
    "    \"intent_router_node\",\n",
    "    intent_rounter_conditional_edges,\n",
    "    {\n",
    "        \"agent_node\": \"agent_node\",\n",
    "        \"end\": END,\n",
    "    },\n",
    ")\n",
    "workflow.add_conditional_edges(\n",
    "    \"agent_node\", tool_router, {\"tools\": \"tool_node\", \"end\": END}\n",
    ")\n",
    "\n",
    "workflow.add_edge(\"tool_node\", \"agent_node\")\n",
    "graph = workflow.compile()"
   ]
  },
  {
   "cell_type": "code",
   "execution_count": 10,
   "id": "c67db564",
   "metadata": {},
   "outputs": [
    {
     "data": {
      "image/png": "[encoded data removed]",
      "text/plain": [
       "<langgraph.graph.state.CompiledStateGraph object at 0x1197a0a70>"
      ]
     },
     "execution_count": 10,
     "metadata": {},
     "output_type": "execute_result"
    }
   ],
   "source": [
    "graph"
   ]
  },
  {
   "cell_type": "code",
   "execution_count": 22,
   "id": "26e772d1",
   "metadata": {},
   "outputs": [
    {
     "name": "stderr",
     "output_type": "stream",
     "text": [
      "Fetching 18 files: 100%|██████████| 18/18 [00:00<00:00, 8519.24it/s]\n",
      "Fetching 18 files: 100%|██████████| 18/18 [00:00<00:00, 54236.69it/s]\n"
     ]
    }
   ],
   "source": [
    "initital_state = {\n",
    "    \"messages\": [\n",
    "        {\n",
    "            \"role\": \"user\",\n",
    "            \"content\": \"Can I get earphones for myself, a laptop bag for my wife and something cool for my kids?\",\n",
    "        },\n",
    "    ],\n",
    "    \"available_tools\": tools_descriptions,\n",
    "}\n",
    "\n",
    "result = graph.invoke(initital_state)"
   ]
  },
  {
   "cell_type": "code",
   "execution_count": 23,
   "id": "4f5f4a57",
   "metadata": {},
   "outputs": [
    {
     "data": {
      "text/plain": [
       "{'messages': [{'role': 'user',\n",
       "   'content': 'Can I get earphones for myself, a laptop bag for my wife and something cool for my kids?'},\n",
       "  AIMessage(content='I will check the available products for earphones, laptop bags, and cool items for kids.', additional_kwargs={}, response_metadata={}, tool_calls=[{'name': 'get_formatted_context', 'args': {'query': 'earphones', 'top_k': 5}, 'id': 'call_0', 'type': 'tool_call'}, {'name': 'get_formatted_context', 'args': {'query': 'laptop bag', 'top_k': 5}, 'id': 'call_1', 'type': 'tool_call'}, {'name': 'get_formatted_context', 'args': {'query': 'cool items for kids', 'top_k': 5}, 'id': 'call_2', 'type': 'tool_call'}]),\n",
       "  ToolMessage(content=\"- ID: B09VB5M3L5, rating: 4.3, description: Empsun Wired Earbuds Headphones with Microphone Stereo Bass Earphones Noise Isolation in-Ear Headset Compatible with All Smartphones Tablets iPod IPad MP3 Player That with 3.5 mm Interface(Black) . [In-line microphone]: With in-line microphone can conveninet to make calls,end calls play/pause/answer and skipping tracks forward and back. The In-ear headphone with microphone support a wide range of devices like cell phones, computers, laptops, MP3, MP4 players which with 3.5mm audio jack devices for gym, listening to music and games. Note that:the In-ear headphone with microphone don't have volume control. . [ Comfortable Design]: Comfortable in-ear and ergonomic design don’t cause any burden to your ears,they can reduce the clunky feel of earphone and increase the comfort of wearing them, comfortable in- ear headphones with a great seal which minimize outside noise so you can hear the beats clearly. . [In-ear stereo bass audio Design]: Balanced tonal adjustment with deep bass and excellent stereo sound that let you have a better listening experience,earbuds are perfect for daily use. . [Wide Compatibility]: In-ear headphones compatible with iPod, iPhone, iPad, Android smartphones , tablets, mp3 players music speaker and others devices that with a standard 3.5mm audio jack. . [Supporting]: 12-month Hassle-Free-Protection ,it is very easy to reach customer service\\n- ID: B0B7495RL6, rating: 4.3, description: Cleaner Kit for AirPods Pro, 4 in 1 Earbuds Cleaning Pen, Bluetooth Headphone Cleaning Pen for Airpods, Airpods Pro 1 2 3 and Other Earphones, Keyboard, Mouse, Cellphones, Laptop, Camera (White) 【4-IN-1 DESIGN】The airpod cleaning kit is divided into 4 parts - flocking sponge, high-density brush, long-bristle brush and metal tip, which can deeply clean the earbuds and earphone charging compartment at different angles, making your earphones like new 【MULTIFUNCTIONAL CLEANING KIT】The metal tip can precisely remove the dirt in the sound hole of the earbuds, and the high-density brush under the cleaning pen tip is used to clean the fine dust. There are also flocking sponge ends and long-bristle brush ends, the earphone charging compartment can also be well cleaned, and the long-bristle end is suitable for cleaning computer peripherals such as keyboards (When replacing the flocking sponge and long-bristle brush, please rotate and pull out out) 【SAFE AND HEALTHY】 The brush end is made of environmentally friendly and soft materials, which will not damage the earbuds. Frequent cleaning of the earphones and keeping the earbuds clean can effectively improve the wearing experience and make the earphones more comfortable to wear for a long time 【PORTABLE】Segmented pen cover design, multiple functions in one, the airpods pro cleaner kit is small in size and light in weight, only the size of a pen, it can be easily put into a pocket, easy to store and carry out 【UNIVERSAL】This cleaning pen can not only clean the earphones, but also the earphone charging case, mobile phone, keyboard, mouse, microphone, camera, laptop, etc. Compatible with cleaning most bluetooth earphones, TWS on the market (If you have any questions, you can contact us by Amazon mail, to provide you with better after-sales service)\\n- ID: B0BTD88265, rating: 4.6, description: HeGaalah Open Ear Bone Conduction Headphones True Air Conduction Bluetooth 5.3 Wireless Bluetooth with Digital Display Charging,IPX7 Waterproof Earphones Sport, Clip-on Earphones b\\n- ID: B0BF98MTY9, rating: 4.1, description: Lanyard Compatible with AirPods Pro 2, New Earbuds Lanyard Wireless Bluetooth Headphones Cover Anti-Drop Rope Lanyard Suitable for AirPods Pro 2 (Fluorescent) High quality materials: Consists of braided PPM (polypropylene), the tape does not absorb moisture and is weatherproof. The mobile phone chain is very light and very difficult to pick up dirt, perfect for outdoor activities. Noctilucent rope, the premise is to absorb light, that is, in the sun during the day, or light at night, into the full black space will glow, long-term in the dark place, can not see the glow. Durable and Easy to install:The necklace is adjustable in length and thus offers a wide variety of carrying options. No tools required, pass the pad through charging hole of fully covered earphone case, then insert your earphone and connect to the lanyard. Anti theft and Anti loss: the strong quick release buckle helps to hold the earphone firmly and prevent the earphone from falling accidentally. To ensure that the earphone is safe and within your sight, the strong metal buckle and safety rope can prevent the earphone from falling accidentally. Don't worry about dropping or misplacing your earphone. Easy to use and Free your hands: You can always hang your earphone around your backpack, so you have hands and trouser pockets free, more space for you and more quickly accessible. For every situation, whether work, leisure, sport, shopping, party or festival. Quality after sales: your satisfaction is the driving force for us to provide the best quality products. If you are not completely satisfied with your purchase, please contact us and we will handle it properly!\\n- ID: B0BLJXPRL9, rating: 4.5, description: CASCHO Ear Buds Wireless Earbuds V5.3, Ear Buds for Small Ears, 37H Playtime, Bluetooth Earbuds CVC8.0 Clear Call, Deep Bass, IPX7 Waterproof, Bluetooth Earphones Wireless Earbuds for iPhone Android Convenient LED Display: The wireless headphones feature an intuitive LED digital display on the charging case, allowing you to easily monitor the remaining power of both the case and the earbuds. Extended Playtime: Enjoy up to 37 hours of uninterrupted playtime with a single charge of the wireless earbuds and the included charging case. Say goodbye to power concerns. Immersive HD Stereo Sound: Experience high-definition stereo sound with 14.2mm drivers and a dual-layer polymer graphene diaphragm. Enjoy a 43% bass improvement for a more impactful audio experience. Crystal Clear Calls: Utilizing advanced CVC8.0 wave speed reverse forming technology and 4 built-in microphones, our wireless Bluetooth headphones deliver precise sound pickup and effectively reduce noise interference during calls. Enjoy crystal-clear conversations as if you were face-to-face. Comfortable and Secure Fit: Designed for active lifestyles, these lightweight Bluetooth earbuds weigh just 3.2g and feature a 45° in-ear design, ensuring a comfortable and stable fit even during rigorous activities like running.\\n\", name='get_formatted_context', tool_call_id='call_0'),\n",
       "  ToolMessage(content='- ID: B0C2C87FW3, rating: 4.6, description: DOMISO 17.3 inch Laptop Sleeve Case Water Resistant Shockproof Protective Computer Bag for 17.3\" Notebook/HP Pavilion Envy 17/IdeaPad/LG Gram/MSI with Accesory Bag,Navy Compatibile: External dimensions 44 * 31 * 3.5 cm (17.3 \"* 12.2\" * 1.4 \"); inner dimensions 43.5 * 30.5 * 3cm (17.1\" * 12 \"* 1.2\"). Compatible with: Dell alienware m15 r3 m17/Dell Inspiron 17 7000 Precision 17 XPS 17/HP Envy 17 HP Pavilion 17/Lenovo Legion 5/LG Gram 17/MSI ge75 gf75/ASUS ROG/Acer/MSI. High-quality Parts: DOMISO laptop bag is made of high-quality materials, the durable handle is stretchable, smooth zipper and two-way separating zip make it stuck free when using and provides you a comfortable use experience. Splash-proof: The exterior fabric adopts wearable, crease-resistant and splash-proof high quality Nylon fabrics, which that the product has high-grade appearance and ultra-strong protection. If water splashes on it, you just need to wipe the laptop bag up. The water will not penetrate into the bag and damage your laptop. Super Protection: The design of thickened ring strip at the edge of pad can protect your laptop even when it falls and bumps, the thick soft fluff material inside ensures the functions of anti-scratch, dust-proof and shock-proof of the bag. Extra Storage Space: The front pocket and accessory packet can store pens, mobile phones, data cables, chargers, mobile power supplies and other items, which provide you with sufficient storage space.\\n- ID: B0B62LR2YT, rating: 4.7, description: KIZUNA Laptop Bag Case 14 Inch shoulder sleeve Water Resistant Briefcase For 14\" MacBook Pro 2023/Lenovo Flex 14/14\" HP EliteBook 840 G5/HP Pro 14 G3/Dell Latitude 7490 5490/15\" Surface Laptop 3, Grey SIZE - Internal Dimension: 13.6\" x 10\" x 0.6\" / 34.5 x 25.5 x 1.5 CM, External Dimension: 14.8\" x 11.2\" x 0.8\" / 37.5 x 28.5 x 2CM. Proper fitment varies according to the size of devices. Please check the dimensions of your device before purchasing. COMPATIBLE WITH - 14\" MacBook Pro 2023/15\" Surface Laptop 3 / 14\" Lenovo Flex 4 6 14 / 14\" Ideapad 120s 520S / 14\" Thinkpad T480s T490 T490s / 14\" Lenovo Chromebook S330 / 14\" HP EliteBook 840 740 G5 / 14\" HP Pro 14 G3 / 14\" HP ProBook 640 G4 / 14.1\" Dell New Latitude 7490 5490 / 14\" Dell Chromebook 14 / 13.5\" Acer Chromebook Spin 13 Water-Resistant: Our sleeve Case made of soft water-resistant surface material which can protect your laptop from rain absorption, splash. EASY TO CARRY: You could use it as shoulder bag messenger bag and handbag. Considerate design is the back trolly belt for ease of use during business trips.Not only milti-funciton, but good-looking shape. Ultra Protection: Compared with other similar laptop case, Our bag features ultra-thick, lightweight protective cushioning inside to ensure your laptop will remain safe from drops, bumps, dents, scratches and spills\\n- ID: B0BSGDCVND, rating: 4.6, description: Missnine Tote Bag Canvas Laptop Bag 15.6 inch Briefcase for Women Large Capacity Handbag for Office, School, Travel Canvas+Pu Leather Imported Polyester lining Zipper closure Large Capacity: The roomy structure can accommodate your work and life requirements. Spacious compartment with a padded laptop section for better protection of a 15.6\\'\\' computer and a tablet slot for a 10.9\\'\\' iPad, keep your tech product well-organized Multi-pockets: 8 pockets keeping all your items organized and within reach. Convenient exterior front pocket that is easy to access for your essentials. Main pocket with a zipper closure for extra safety, 1 interior zipper pocket, 2 open pockets and 2 pen slots for your necessities Durable & Sturdy: The water-resistant canvas fabric, decorated with PU leather, prevents it from getting wet on rainy days. 4 rivets on the bottom can effectively stabilize your items to protect the base from damage and against accidental impacts. Stylish & Practical: Carry the fashionable briefcase with the comfortable detachable strap, making it versatile as a shoulder bag, or a crossbody bag, which remains chic through all seasons. The exquisite metal hardware and prints keep the laptop bag elegant and professional. Gorgeous gift: The tote bag for women fits all kinds of occasions, and matches all styles of outfits. A great gift for your family, lover, friends, and yourself.\\n- ID: B09QZSHCKS, rating: 4.6, description: MOSISO Laptop Shoulder Messenger Bag Compatible with MacBook Pro 16 inch 2023-2019 M2 A2780 M1 A2485 A2141,15-15.6 inch Notebook,Polyester Briefcase Sleeve with 4 Front Zipper Pockets & Belt,Black Internal dimensions: 15.75 x 11.42 x 1.81 inches (L x W x H); External dimensions: 16.57 x 11.81 x 2.36 inches (L x W x H). Left pocket dimensions: 8.07 x 5.51 x 0.98 inches (L x W x H). Two smaller pockets dimensions: 4.53 x 4.13 x 0.98 inches (L x W x H). Right corner pocket dimension: 8.46 x 4.33 x 0.98 inches (L x W x H). The main inner compartment holds your laptop and other important things. Four front pockets is convenient for quick-access and store cell phone, pen slots, wallet, keys and other small items. Multifuncional 4 front pockets design laptop shoulder bag enables you to carry your laptop/notebook/ultrabook computer in a uniquely sleek style. 360 degree all around protective reinforced interior edge briefcase carrying case bag protect your laptop from any accidental dropping. Features a polyester foam padding layer and fluffy fleece fabric lining for bump and shock absorption and protection of your computer from accidental scratches. Top-loading double zipper on the bag glides smoothly and allows convenient access to your laptop computer. Removable and adjustable padding shoulder strap with a shoulder pad varied from 31.5 inch to maximum 52 inch and dual sturdy handles for long time comfortably carrying, top handles also can tuck away in the pockets when not needed. Considerate design is the back trolley suitcase belt for ease use during business trip. It is really convenient for your happy journey to any where. Compatible with MacBook Pro 16 inch 2023-2021 M2 A2780 M1 A2485 Pro/Max Touch ID, compatible with MacBook Pro 16 A2141 2019 2020, compatible with MacBook Pro Retina 15.4 A1398; Compatible with Surface Book 3/2/1 15; Compatible with Asus ZenBook/VivoBook 15; Compatible with Acer Swift 3 14/Swift 5 15.6, compatible with Acer Aspire 3/5/7 15.6; Compatible with HP ProBook/Spectre x360/Envy x360 15.6; compatible with HP Omen/Pavilion x360 15.6; Compatible with Dell XPS/Precision/Vostro/Latitude 15.\\n- ID: B0B3XZG67C, rating: 4.8, description: NISHEL Laptop Sleeve Case 13-13.3 Inch, Compatible with MacBook Air, MacBook Pro, HP Dell Lenovo Notebooks, Padded Travel Computer Bag, Laptop Cover with Large Pocket for 12.9 Inch iPad, Black COMPATIBILITY-SIZE-13×10×1 inches; Compatible with MacBook Air 13-in M2,2022/M1,2022/Retina,2020/; Compatible with MacBook Pro 13-in M2,2022/M2,2020/Two Thunderbolt 3 ports,2020/Two Thunderbolt 3 ports,2016/Four Thunderbolt 3 ports,2016; Also compatible with most other 13-in laptops SHOCKEDPROOF&ANTI-SCRATCH-Thickened fabric and plush lining protects your notebook from any accidental bumps or scratches WIDE-OPEN MOUTH-The bag opens on the long side for easily taking your laptops/iPads in and out BOTH AESTHETIC AND PRACTICAL-You can hold it in your hand since its great attraction. You can also put it in your tote bag as it’s slim and light enough FUNCTIONAL FRONT POCKET-The wide pocket on the outside is great for holding your charger, headphones, or any other small/medium sized accessories. Also compatible with iPad and other tablets within 12.9 inch\\n', name='get_formatted_context', tool_call_id='call_1'),\n",
       "  ToolMessage(content=\"- ID: B09XN72MP6, rating: 4.4, description: 100PCS Graffiti Stickers Pack for Skateboard, Cool Hippie Stickers for Adults Teens, Vinyl Waterproof Decal Stickers Fit for Water Bottles Laptop Guitar Luggage ✨【Package Include】You will receive 100pcs unique cool stickers, various stylish graffiti stickers which die-cut to the shape and each one with different patterns. no duplicates. Featured with well-printed and vibrant colors. ✨【Resable & Waterproof】Be made of superior vinyl PVC material and non-marking glue, BuzyBeie stickers are durable, safe, non-toxic, waterproof and sunproof. Not easy to fall off or fade. They are easy to stick repeatedly and won't leave trace when removing. ✨【 Cool DIY】These cool character stickers giving you plenty of options for personalising your skateboard, snowboard, guitar, laptop, computer, water bottles, mobile phone, luggage, suitcase, refrigerator etc. ✨【Easy to Use】When you receive these graffiti stickers, you only need to clean the surface of the item, and then remove the protective film on the back of the sticker to start pasting, and use your imagination to create works! ✨【Satifactory Service】Don't worry about wasting your money. If you are not 100% completely satisfied with the stickers for water bottles, simply let us know and you will be offered a FULL refund or replacement.\\n- ID: B0C142QS8X, rating: 4.5, description: TUNEAKE Kids Headphones, Over Ear Kids Headset Stereo, Volume Limited 94dB, Foldable Adjustable Headphones for Kids, 3.5mm Jack Kid Headphones for Boys Girls Toddler School Laptop Travel Tablet, Pink 🍀LISTENING VOLUME🍀: Designed with 94dB volume-limiting technology, kids headphones offer adequate hearing protection that your child cannot listen to music or watch videos at dangerously high levels. Kids headphones for school NOTE: NO microphone, but you can still speak into the device's mic that you are plugged into and will hear you. 🍀KID-SIZED FOR COMFORT🍀: The padded headband and soft ear cups on the kids headphones boys provides a comfy fit for kids. The adjustable headband makes it well-suited to your child. With cushy, perforated mesh on the cushioned cups, your child's head will not feel hot. 🍀FOR EASY STORAGE AND PORTABILITY🍀: Children's headphones feature a folding design that can fold up to help reduce their size, easy to store in your child's backpack. The earmuffs can be rotated by 90°for easy hanging on the neck. 🍀WIDE COMPATIBILITY🍀: A 3.5mm aux port including a 120cm cable gives you the option to connect directly to devices. Compatible with all Smartphones, Chromebooks, iPads, Tablets, Computers, Laptops, and all 3.5mm audio jack devices. 🍀FUN FOR KIDS🍀: Kids headphones wired has easy controls that can allow children to use them without any difficulty. Whether your little one needs school headphones for online learning, or just to jam out to their own tunes, finding the kid headphones for them is worthwhile. Lifetime Support, Easy to Reach Customer Service.\\n- ID: B09W9DV8PX, rating: 4.7, description: 50pcs Japanese Anime Nana Stickers Waterproof Vinyl Kawaii Stickers for Kids Teens Adult Skateboard Computer Laptop Guitar (Nana Anime) 50pcs Japanese Anime Nana Stickers Waterproof Vinyl Kawaii Stickers for Kids Teens Adult Skateboard Computer Laptop Guitar (NANA Anime) PVC vinyl waterproof stickers, with sun protection and waterproof function, 2-4 inch. Tear off no residue, can rest assured to use. Make your item personality like! Get your cute anime stickers, clean the surface, then use your imagination create works now! Cute Japanese stickers are perfect to personalize Laptops, Macbook, Skateboards, Luggage, Cars, Bumpers, Bikes, Bicycles, Bedroom, Travel Case, Motorcycle, Snowboard and so on. Amazing Assortment of funny stickers, a best gift for your kids, friends, lovers in Children's Day, Christmas, Birthday, Valentine's day and other festivals. Cute Japanese stickers are perfect to personalize Laptops, Skateboards, Luggage, Cars, Bumpers, Bikes, Bicycles, Bedroom, Travel Case, Motorcycle, Snowboard and so on.\\n- ID: B0BTKWY6XG, rating: 4.7, description: 100Pcs Kids Disney Stickers Pack Princess Stickers Cute Cartoon Characters Stickers Cartoon Movie Decal Childrens Decorative Sticker for Kids Teens Adults Waterproof Vinyl Princess Stickers for Water Bottle Laptop Luggage (Cartoon Characters) 【HOW TO USE】Get your Stickers, Clean the surface, Sticker on, then use your imagination to create works NOW! 【Various Cartoon Characters Stickers】- All of 100 PCS unique stickers without any repeated one, and sizes range from 2.0 to 3.5inch. All of the stickers shown in the picture are exactly what you will get. 【High Quality】- The aesthetic stickers bulk has the function of sun protection and waterproof, it is safe and non-toxic, and is not easy to tear. If it's not needed, they are easily removable/reusable and not leave sticky residue. 【Widely Used】- These cartoon Kids stickers for girls are very cute, suitable for dressing up various items.You can stick anywhere you want.Colorful cartoon stickers can be water bottle stickers, skateboard stickers, laptop stickers.It is also delicate decorative waterproof stickers for water bottles,school supplies, phone, guitar, skateboard, computer, luggage, bicycles, cars, etc.. 【Best Gift Reward】- FXBUY has many style stickers, kawaii cartoon funny vsco graffiti cooler summer stickers. Suitable for all ages, stickers for adults kids teens friends colleagues. 【Great Satisfaction Guarantee】- Customer's satisfaction is our greatest motivation.Please feel free to contact us if you are not satisfied with our cute Cartoon Characters stickers for kids or have any questions about our vinyl cartoon princess stickers for water bottles. We will do our best to provide quality solutions.\\n- ID: B0B67ZFRPC, rating: 3.7, description: QearFun Cat Earbuds for Kids, Kawakii Wired Earbud & in-Ear Headphones Gift for School Girls and Boys with Microphone and Lovely Earphones Storage Case(Blue) \\n\", name='get_formatted_context', tool_call_id='call_2'),\n",
       "  AIMessage(content=\"For yourself, you can get the Empsun Wired Earbuds Headphones with Microphone. They feature in-line microphone for calls and music control, comfortable ergonomic in-ear design, noise isolation, deep bass stereo sound, and compatibility with a wide range of devices with a 3.5mm audio jack. They come with a 12-month hassle-free protection.\\n\\nFor your wife, there are several laptop bags available:\\n- DOMISO 17.3 inch Laptop Sleeve Case: Water-resistant, shockproof, with extra storage space for accessories.\\n- KIZUNA Laptop Bag Case 14 Inch: Water-resistant shoulder sleeve with ultra-thick protective cushioning and multiple carrying options.\\n- Missnine Tote Bag Canvas Laptop Bag 15.6 inch: Large capacity, water-resistant canvas with multiple pockets and a detachable strap.\\n- MOSISO Laptop Shoulder Messenger Bag: Compatible with 15-16 inch laptops, multiple front zipper pockets, polyester foam padding for protection, and adjustable shoulder strap.\\n- NISHEL Laptop Sleeve Case 13-13.3 Inch: Padded travel computer bag with a large front pocket, compatible with various 13-inch laptops.\\n\\nFor your kids, cool items include:\\n- TUNEAKE Kids Headphones: Over ear, volume limited to 94dB for hearing protection, foldable and adjustable, compatible with 3.5mm jack devices.\\n- Various sticker packs like 100PCS Graffiti Stickers, 50pcs Japanese Anime Nana Stickers, and 100Pcs Kids Disney Stickers Pack which are fun and decorative for kids' belongings.\\n- QearFun Cat Earbuds for Kids: Wired earbuds with microphone and a cute storage case.\\n\\nLet me know if you want detailed specifications or assistance with any of these items!\", additional_kwargs={}, response_metadata={})],\n",
       " 'question_relevant': True,\n",
       " 'iteration': 2,\n",
       " 'answer': \"For yourself, you can get the Empsun Wired Earbuds Headphones with Microphone. They feature in-line microphone for calls and music control, comfortable ergonomic in-ear design, noise isolation, deep bass stereo sound, and compatibility with a wide range of devices with a 3.5mm audio jack. They come with a 12-month hassle-free protection.\\n\\nFor your wife, there are several laptop bags available:\\n- DOMISO 17.3 inch Laptop Sleeve Case: Water-resistant, shockproof, with extra storage space for accessories.\\n- KIZUNA Laptop Bag Case 14 Inch: Water-resistant shoulder sleeve with ultra-thick protective cushioning and multiple carrying options.\\n- Missnine Tote Bag Canvas Laptop Bag 15.6 inch: Large capacity, water-resistant canvas with multiple pockets and a detachable strap.\\n- MOSISO Laptop Shoulder Messenger Bag: Compatible with 15-16 inch laptops, multiple front zipper pockets, polyester foam padding for protection, and adjustable shoulder strap.\\n- NISHEL Laptop Sleeve Case 13-13.3 Inch: Padded travel computer bag with a large front pocket, compatible with various 13-inch laptops.\\n\\nFor your kids, cool items include:\\n- TUNEAKE Kids Headphones: Over ear, volume limited to 94dB for hearing protection, foldable and adjustable, compatible with 3.5mm jack devices.\\n- Various sticker packs like 100PCS Graffiti Stickers, 50pcs Japanese Anime Nana Stickers, and 100Pcs Kids Disney Stickers Pack which are fun and decorative for kids' belongings.\\n- QearFun Cat Earbuds for Kids: Wired earbuds with microphone and a cute storage case.\\n\\nLet me know if you want detailed specifications or assistance with any of these items!\",\n",
       " 'available_tools': [{'name': 'get_formatted_context',\n",
       "   'description': 'Get the top k context, each representing an inventory item for a given query.',\n",
       "   'parameters': {'type': 'object',\n",
       "    'properties': {'query': {'type': 'string',\n",
       "      'description': 'The query to get the top k context for'},\n",
       "     'top_k': {'type': 'integer',\n",
       "      'description': 'The number of context chunks to retrieve, works best with 5 or more',\n",
       "      'default': 5}}},\n",
       "   'required': ['query'],\n",
       "   'returns': {'type': 'string',\n",
       "    'description': 'A string of the top k context chunks with IDs and average ratings prepending each chunk, each representing an inventory item for a given query.'}}],\n",
       " 'tool_calls': [],\n",
       " 'final_answer': True,\n",
       " 'references': [RAGUsedContext(id='B09VB5M3L5', description='Empsun Wired Earbuds Headphones with Microphone'),\n",
       "  RAGUsedContext(id='B0C2C87FW3', description='DOMISO 17.3 inch Laptop Sleeve Case'),\n",
       "  RAGUsedContext(id='B0B62LR2YT', description='KIZUNA Laptop Bag Case 14 Inch'),\n",
       "  RAGUsedContext(id='B0BSGDCVND', description='Missnine Tote Bag Canvas Laptop Bag 15.6 inch'),\n",
       "  RAGUsedContext(id='B09QZSHCKS', description='MOSISO Laptop Shoulder Messenger Bag'),\n",
       "  RAGUsedContext(id='B0B3XZG67C', description='NISHEL Laptop Sleeve Case 13-13.3 Inch'),\n",
       "  RAGUsedContext(id='B0C142QS8X', description='TUNEAKE Kids Headphones'),\n",
       "  RAGUsedContext(id='B09XN72MP6', description='100PCS Graffiti Stickers Pack for Kids'),\n",
       "  RAGUsedContext(id='B09W9DV8PX', description='50pcs Japanese Anime Nana Stickers'),\n",
       "  RAGUsedContext(id='B0BTKWY6XG', description='100Pcs Kids Disney Stickers Pack'),\n",
       "  RAGUsedContext(id='B0B67ZFRPC', description='QearFun Cat Earbuds for Kids')]}"
      ]
     },
     "execution_count": 23,
     "metadata": {},
     "output_type": "execute_result"
    }
   ],
   "source": [
    "result"
   ]
  },
  {
   "cell_type": "code",
   "execution_count": 24,
   "id": "82af8cbb",
   "metadata": {},
   "outputs": [
    {
     "name": "stdout",
     "output_type": "stream",
     "text": [
      "For yourself, you can get the Empsun Wired Earbuds Headphones with Microphone. They feature in-line microphone for calls and music control, comfortable ergonomic in-ear design, noise isolation, deep bass stereo sound, and compatibility with a wide range of devices with a 3.5mm audio jack. They come with a 12-month hassle-free protection.\n",
      "\n",
      "For your wife, there are several laptop bags available:\n",
      "- DOMISO 17.3 inch Laptop Sleeve Case: Water-resistant, shockproof, with extra storage space for accessories.\n",
      "- KIZUNA Laptop Bag Case 14 Inch: Water-resistant shoulder sleeve with ultra-thick protective cushioning and multiple carrying options.\n",
      "- Missnine Tote Bag Canvas Laptop Bag 15.6 inch: Large capacity, water-resistant canvas with multiple pockets and a detachable strap.\n",
      "- MOSISO Laptop Shoulder Messenger Bag: Compatible with 15-16 inch laptops, multiple front zipper pockets, polyester foam padding for protection, and adjustable shoulder strap.\n",
      "- NISHEL Laptop Sleeve Case 13-13.3 Inch: Padded travel computer bag with a large front pocket, compatible with various 13-inch laptops.\n",
      "\n",
      "For your kids, cool items include:\n",
      "- TUNEAKE Kids Headphones: Over ear, volume limited to 94dB for hearing protection, foldable and adjustable, compatible with 3.5mm jack devices.\n",
      "- Various sticker packs like 100PCS Graffiti Stickers, 50pcs Japanese Anime Nana Stickers, and 100Pcs Kids Disney Stickers Pack which are fun and decorative for kids' belongings.\n",
      "- QearFun Cat Earbuds for Kids: Wired earbuds with microphone and a cute storage case.\n",
      "\n",
      "Let me know if you want detailed specifications or assistance with any of these items!\n"
     ]
    }
   ],
   "source": [
    "print(result[\"answer\"])"
   ]
  },
  {
   "cell_type": "code",
   "execution_count": 18,
   "id": "b617f072",
   "metadata": {},
   "outputs": [],
   "source": [
    "initial_state = {\n",
    "    \"messages\": [{\"role\": \"user\", \"content\": \"Can you fix my roof?\"}],\n",
    "    \"available_tools\": tools_descriptions,\n",
    "}\n",
    "result = graph.invoke(initial_state)"
   ]
  },
  {
   "cell_type": "code",
   "execution_count": 19,
   "id": "2c74929c",
   "metadata": {},
   "outputs": [
    {
     "data": {
      "text/plain": [
       "{'messages': [{'role': 'user', 'content': 'Can you fix my roof?'}],\n",
       " 'question_relevant': False,\n",
       " 'answer': 'Your question about fixing a roof is not relevant to the products in stock. I can assist you with questions about products we have available. Please let me know if you need help with that.',\n",
       " 'available_tools': [{'name': 'get_formatted_context',\n",
       "   'description': 'Get the top k context, each representing an inventory item for a given query.',\n",
       "   'parameters': {'type': 'object',\n",
       "    'properties': {'query': {'type': 'string',\n",
       "      'description': 'The query to get the top k context for'},\n",
       "     'top_k': {'type': 'integer',\n",
       "      'description': 'The number of context chunks to retrieve, works best with 5 or more',\n",
       "      'default': 5}}},\n",
       "   'required': ['query'],\n",
       "   'returns': {'type': 'string',\n",
       "    'description': 'A string of the top k context chunks with IDs and average ratings prepending each chunk, each representing an inventory item for a given query.'}}],\n",
       " 'references': []}"
      ]
     },
     "execution_count": 19,
     "metadata": {},
     "output_type": "execute_result"
    }
   ],
   "source": [
    "result"
   ]
  }
 ],
 "metadata": {
  "kernelspec": {
   "display_name": ".venv",
   "language": "python",
   "name": "python3"
  },
  "language_info": {
   "codemirror_mode": {
    "name": "ipython",
    "version": 3
   },
   "file_extension": ".py",
   "mimetype": "text/x-python",
   "name": "python",
   "nbconvert_exporter": "python",
   "pygments_lexer": "ipython3",
   "version": "3.12.2"
  }
 },
 "nbformat": 4,
 "nbformat_minor": 5
}
