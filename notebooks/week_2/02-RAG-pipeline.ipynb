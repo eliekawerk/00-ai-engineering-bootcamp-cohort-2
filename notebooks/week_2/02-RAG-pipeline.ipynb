{
 "cells": [
  {
   "cell_type": "code",
   "execution_count": 3,
   "id": "2df29c6c",
   "metadata": {},
   "outputs": [],
   "source": [
    "import openai\n",
    "from qdrant_client import QdrantClient"
   ]
  },
  {
   "cell_type": "markdown",
   "id": "bed8b8b8",
   "metadata": {},
   "source": [
    "### Embedding Function"
   ]
  },
  {
   "cell_type": "code",
   "execution_count": 4,
   "id": "5fe1aee9",
   "metadata": {},
   "outputs": [],
   "source": [
    "def get_embeddings(text, model=\"text-embedding-3-small\"):\n",
    "    response = openai.embeddings.create(input=text, model=model)\n",
    "    return response.data[0].embedding"
   ]
  },
  {
   "cell_type": "markdown",
   "id": "74e49333",
   "metadata": {},
   "source": [
    "### Retrieval Function"
   ]
  },
  {
   "cell_type": "code",
   "execution_count": 30,
   "id": "85549d5c",
   "metadata": {},
   "outputs": [],
   "source": [
    "qdrant_client_ = QdrantClient(url=\"http://localhost:6333\")\n",
    "\n",
    "\n",
    "def retrieve_data(query, qdrant_client_=qdrant_client_, k=5):\n",
    "    query_embedding = get_embeddings(query)\n",
    "    results = qdrant_client_.query_points(\n",
    "        collection_name=\"Amazon-items-collection-00\",\n",
    "        query=query_embedding,\n",
    "        limit=k,\n",
    "    )\n",
    "    retrieved_context_ids = []\n",
    "    retrieved_contexts = []\n",
    "    similarity_scores = []\n",
    "\n",
    "    for result in results.points:\n",
    "        retrieved_context_ids.append(result.payload[\"parent_asin\"])\n",
    "        retrieved_contexts.append(result.payload[\"description\"])\n",
    "        similarity_scores.append(result.score)\n",
    "\n",
    "    return {\n",
    "        \"context_ids\": retrieved_context_ids,\n",
    "        \"context\": retrieved_contexts,\n",
    "        \"similarity_scores\": similarity_scores,\n",
    "    }"
   ]
  },
  {
   "cell_type": "code",
   "execution_count": 12,
   "id": "8be6b118",
   "metadata": {},
   "outputs": [
    {
     "data": {
      "text/plain": [
       "{'context_ids': ['B09QGNB537',\n",
       "  'B0BF18F6R7',\n",
       "  'B0BG5L2YLC',\n",
       "  'B0BLV7YH2W',\n",
       "  'B0C142QS8X',\n",
       "  'B0CH6P8DYF',\n",
       "  'B08BR9X387',\n",
       "  'B09Y39DSWR',\n",
       "  'B0CGM29ZL7',\n",
       "  'B08BX2L8F2'],\n",
       " 'context': ['ESR for iPad Air 5th Generation Case 2022 / iPad Air 4th Case 2020, Rugged Protection, Detachable Magnetic Cover, Adjustable Portrait/Landscape Stand with Raised Screen View, 8 Stand Angles, Black Compatibility: only compatible with iPad Air 5th Generation 2022 and iPad Air 4th Generation 2020; not compatible with any other iPad models Detachable Magnetic Cover: keep your screen covered, fold it up into a stand for viewing/writing/portrait modes, or remove it for better ergonomics while gaming Rugged Protection: rugged shock-resistant polymer provides robust protection against scratches and drops Stable and Adjustable Stand: magnetically locks to 8 different stand positions that stay stable in bed, on the couch, or anywhere else Stand Your Way: raised screen view, portrait mode, and magnetic fridge mounting let you comfortably view and use your iPad in the office, kitchen, and beyond Complete Customer Support: detailed setup videos and FAQs, comprehensive 12-month warranty, lifetime support, and personalized help',\n",
       "  'KEEPRO Pencil 2nd Generation for iPad, Magnetic Wireless Charge Tilt Sensitivity Palm Rejection Active Pen for Apple iPad Pro 11\" 4/3/2/1, iPad Pro 12.9\" 6/5/4/3, iPad Air 4/5, iPad Mini 6 [Compatibility]- ONLY compatible with iPad mini (6th generation), iPad Air (4th and 5th generation), iPad Pro 12.9-inch (3rd, 4th, 5th and 6th generation), iPad Pro 11-inch (1st, 2nd, 3rd and 4th generation), check and confirm your device before place the order (Note: If the pen doesn\\'t charge, fully charge your iPad first then try charging the pen again) [Charging and Pairs Magnetically]- Charges wirelessly, attaches and pairs magnetically to the compatible iPad, this pen is a preferable alternative to the Apple Pencil 2nd Generation [Tilt Sensitivity & Pixel Precision]- Pixel-perfect precision and industry-leading low latency with tilt sensitivity making drawing, sketching, coloring, taking notes, and marking up PDFs, as easy and natural as a real pencil [Native Palm Rejection]- Rest your palm on the screen comfortably, allowing you to write and draw on your iPad as if it\\'s an actual notebook [Hotkey for Easy Access]- Support Bluetooth connection to display battery percentage in the status bar, one-click return to the homepage, double-click to enter multi-task (long press 3s to turn On/Off) [Extra Replaceable Tips]- Come with 3 extra replaceable tips, keep extra tips for your pencil at the ready, the tip is compatible with Apple Pencil (1st generation) and Apple Pencil (2nd generation)',\n",
       "  'Wireless Digital Microscope, SKYBASIC 50X-1000X Magnification WiFi USB HD Portable Handheld Pocket Microscopes Camera with 8 Adjustable LED Compatible with iPhone iPad Android Windows Mac Computer ☁【WiFi & USB Microscope】This is a wireless portable digital microscope with a WIFI hotspot, designed to connect to Android or iOS mobile phones and tablets, and also supports USB to connect to Windows or Mac computers for easy use in different fields. ☁【HD Image & LCD Screen Design】2 million pixel high-resolution images microscope, 1920*1080P high-definition image quality for smartphones, 1280*720P for computers, the larger the screen, the better the view. The unique LCD screen design, in the case of wifi connection and charging, emits blue and green indicators (red light is displayed when the battery is low), clearly knowing the battery status and wifi connection, and the user experience is more high-end. ☁【8 LED Light & Easy to Focus】8 led lights and a soft light design, provide enough light and the best clarity, long-term observation will not hurt the eyes. The 360-degree rotating focus wheel allows you to focus quickly and use it anywhere. Note: The best focal length for microscope imaging is 2-60mm, please rotate the focusing wheel left and right when observing blur. ☁【Take Pictures and Videos】Not just a microscope, you can zoom in and out, but also take photos and videos with one click. It is easy to capture excellent microscopic details, and amazing wonderful moments can be saved in the folder of the device and viewed anytime, anywhere, and it can be very useful in recording the change cycle of the observed object. (Note: The take photo and zoom in and out buttons on the microscope body only apply to the WIFI connection.) ☁【Portable Pocket Microscope】Lightweight and compact, with a cylindrical body design, it can stay upright on flat ground at any time. With a portable bracelet, it is easy to carry around. This is a great option for taking kids outdoors to explore, as a teaching tool, or for anyone interested in learning about skin, hair, plants, insects, jewelry, and coins. Note: This microscope is not a traditional microscope and is not suitable for professional biologists! ☁【WIFI connection for Android and IOS】1. Download the \"MAX-VIEW\" software from Google Play or APP Store. 2. Press and hold the power button to turn on the microscope. 3. Open the APP interface and randomly enter into the settings to find \"MAX-VIEW\" (no password).4. Click to return to the software after the connection is successful, and you can open your microscopic world, which is very convenient to use (the blue light of the microscope display is always on after connection) ☁【Friendly Multi-function APP】After downloading the “MAX-VIEW” app, there will be a connection video and FAQ analysis, a unique horizontal screen and split screen switching function, multi-angle observation, screen lock function to prevent accidental touch during operation, mirroring and lighting adjustment, you can also check the power status in real-time, go out It is more convenient to carry, and the powerful APP makes the microscope and equipment perfectly connected, and the use is smoother. ☁【USB Connection for Computer】1.For the win 10/11 system, directly search for the software \"Windows Camera\" 2. For win7/8/, please download \"AMCAP\" to start using. 3. For MacOSx11.0 or later, please use the bundled software Photo Booth or Quick Time of Macbooks directly Player. 4. Note: Please disable the default laptop camera in Windows! And you have to change the camera\\'s privacy settings, which need to be changed to allow access. ☁【What You Will Get】1x microscope, 1x USB cable (adapter not included), 1x user manual, 1-year return service for quality problems, 100% satisfied 24 hours professional after-sales service. ☁【Great Compatibility】This handheld digital microscope is compatible with most devices. Mobile phones: Android6.0+, IOS9.0+. computers: Windows vista7/8/10/11, MAC OS x11.0, widely used in various fields.',\n",
       "  \"1.90'' with Smart Watch(Answer/Make Calls),Smart Fitness Tracker Watches for Android/iOS Phones,Bluetooth Call and Text Message/Sleep Monitor/Heart Rate/Step Counter Android Smartwatch for Women Men ⌚ 【New upgraded 1.9 inches HD full-screen Smart Watch】Android ios mobile smartwatch has a 1.9-inch full touch large size HD screen, smart notification watch with IPS technology makes the whole screen display vivid and colorful. It enhances the whole experience of using and makes the smartwatch easier to use and read. The watch has more than 120 different watch face styles to choose from. Do you want to set the watch dial freely? Yes! You can also DIY your dial with photos of yourself, your family, friends and pets. It allows you to switch the dial style anytime through the app according to your mood and occasion. 🏃【New upgraded Activity Tracker and Fitness Tracker】Activity trackers and smartwatches with powerful health innovations, The fitness tracker watch supports heart rate monitor,blood pressure, step tracker and sleep monitoring,blood oxygen measurement and all-day heart rate monitoring automatically monitors your real-time heart rate for training and for daily life.The fitness watch for men and women has 28 exercise modes to suit your various exercise styles, supporting both indoor and outdoor workouts. And the smartwatch tracks your sleep and keeps track of your body health data to help you better understand your health. With this running watch, you can have a healthier and more active life. 📞【Smart Watch with Text and Call】Bluetooth calling smartwatch has a built-in high-quality speaker, the watch can answer or make calls and play music. After a successful connection, the watch and the phone will be automatically synchronized and will vibrate to remind you to answer and send messages, so you won't miss important calls and messages. When your phone receives a message or App notification (Facebook, WhatsApp, Twitter, etc.), the Bluetooth Talking Smartwatch will also vibrate to remind you. Note: Only support reading some App messages, can't send messages. ✅【Multi-Functional Smart Watch for Women/ Men】Smart watch contains many functions, such as AI voice, Bluetooth call, pedometer, calorie consumption, distance tracking, heart rate monitoring, blood oxygen measurement, sleep monitoring, fitness tracking, multiple sports modes notification, weather information, music control, camera remote control, time display, alarm clock, stopwatch, casual games, water reminder, sedentary reminder. Smartwatch can bring you a more intelligent experience and help you lead a convenient life. 🔋【New upgraded Strong and Durable】Our smart watch uses tempered touch screen with oily coating design, which makes the smartwatch more crack-proof, and also can easily remove fingerprints and water stains, more dirt and dust-proof, making the watch in the best condition at all times. The capacity and power consumption system of our smartwatch has been redesigned to get longer battery life. This smartwatch can be charged quickly and has long battery life. Fully charge for two hours, and you can use it constantly for five days. (with Bluetooth calling connected) / 7 days of continuous use (without Bluetooth calling connected) and 30 days of standby. 🎁【Exceed Your Expectations】Our smartwatch is with meticulous design, it is a perfect gift for birthdays, anniversaries, Christmas, Valentine's Day, and Mother's Day, it is not only a fitness watch, the simple and elegant appearance is also suitable for business wear, outdoor travel wear. This product comes with a one-year warranty, please read the product details page carefully before purchasing. If you have any questions, please feel free to contact our customer service through your Amazon account, we will reply to you to help you solve the problem within 24 hours, thank you for your support and understanding.\",\n",
       "  \"TUNEAKE Kids Headphones, Over Ear Kids Headset Stereo, Volume Limited 94dB, Foldable Adjustable Headphones for Kids, 3.5mm Jack Kid Headphones for Boys Girls Toddler School Laptop Travel Tablet, Pink 🍀LISTENING VOLUME🍀: Designed with 94dB volume-limiting technology, kids headphones offer adequate hearing protection that your child cannot listen to music or watch videos at dangerously high levels. Kids headphones for school NOTE: NO microphone, but you can still speak into the device's mic that you are plugged into and will hear you. 🍀KID-SIZED FOR COMFORT🍀: The padded headband and soft ear cups on the kids headphones boys provides a comfy fit for kids. The adjustable headband makes it well-suited to your child. With cushy, perforated mesh on the cushioned cups, your child's head will not feel hot. 🍀FOR EASY STORAGE AND PORTABILITY🍀: Children's headphones feature a folding design that can fold up to help reduce their size, easy to store in your child's backpack. The earmuffs can be rotated by 90°for easy hanging on the neck. 🍀WIDE COMPATIBILITY🍀: A 3.5mm aux port including a 120cm cable gives you the option to connect directly to devices. Compatible with all Smartphones, Chromebooks, iPads, Tablets, Computers, Laptops, and all 3.5mm audio jack devices. 🍀FUN FOR KIDS🍀: Kids headphones wired has easy controls that can allow children to use them without any difficulty. Whether your little one needs school headphones for online learning, or just to jam out to their own tunes, finding the kid headphones for them is worthwhile. Lifetime Support, Easy to Reach Customer Service.\",\n",
       "  'New 2023 80x100 High Powered Monoculars for Adults high Powered BAK-4 Prism and FMC Lens Monocular Telescope for Smartphone Monoculars for Bird Watching/Wildlife/Hunting/Hiking 【80x100 High Power Monocular】100 mm object diameter monocular, 80 times magnification. Using optical technology, this monocular uses a fully coated lens to ensure excellent light transmittance and image brightness, provide images with high definition, high quality and high color saturation. 【Compact Monocular】Compact and light monocular brings you the distant scenery by adjusting the eye cup and focusing wheel. The monocular is small and easy to carry, and can also obtain stable and clear images with one hand. 【High Definition And Super Bright View】This monocular with FMC Superior BAK4 prism lens, which can greatly reduce light loss and get greater magnification with a brighter and clearer field of view. 【What you will get in Package】Monocular telescope, Tripod, Dust bag, Lanyard, Instructions, Phone Hold. With a phone adapter and a tripod, you can take clearer and more beautiful photos outdoors at any time, capture the wonderful moments and share with your friends. 【The Most Valuable Gift】Perfect Gift for Camping, Hunting, Outdoor gear, Travel, Cruise accessories, Bird Watching, Sports, Football, Soccer. The monocular provides the broadest and most natural view and is an ideal gift for friends and family.',\n",
       "  'ESeekGo Compatible for Fitbit Versa Bands/Fitbit Versa 2 Bands for Men Women/Fitbit Versa Lite Bands/Fitbit Versa Special Edition Bands, 4 Pack Sport Silicone Breathable Replacement Wristbands, Large COMPATIBLE MODELS: Our sports bands are perfectly compatible with Fitbit Versa, compatible with Fitbit Versa 2/Versa Lite/ Special Edition. (ONLY Band Included!). If you are looking for the replacement wristbands for your new device, our silicone band is a nice choice, it is much softer, more flexible and more elastic than the original band. Our versa bands are also a great gift, imagine how surprise when your lover, family and friends received the new versa bands? Just order it and have a try! ADJUSTABLE SIZE: There are 2 sizes available of our bands compatible with fitbit versa/ versa 2 for men and women to choose. Small size band suitable for 5.3-7.5 Inches (135mm-190mm) wrist; Large size band suitable for 7.0-8.9 Inches (180mm-225mm) wrist. No matter you are a lady with tiny wrist or a huge man with big wrist, our versa wristbands with multiple adjustable holes and metal clasp can perfectly meet your demand and expectations. Without worrying the bands will be too tight or to loose! PREMIUM MATERIAL: Our bands are compatible with fitbit versa is designed by a prominent Los Angeles designer and are made from flexible gel silicone material, smooth and soft when wearing it, just like the feel of touching baby’s skin. You can bend the band easily without worrying the band will be broken off. These versa bands are hypoallergenic, skin-friendly, breathable, waterproof and no odor, whether in hot day or cold day, our bands can provide you a comfortable wearing experience. EXTRA PROTECTION: Our versa band for men and women with top grade buckle can help you adjust the band freely and holds the band sturdy. Comes with a small silicone ring with a little nub underneath, which can help to keep the band more securely. You can wear our band when doing any sports, camping, hiking, doing yoga, playing basketball, working, travelling, going to party, etc. These bands compatible with fitbit versa is durable enough and you don’t need to worry the band will pop off easily. EASY INSTALLATION: Comes with 2 reinforced pins with longer pull-rod design. These versa silicone bands are very easy for you to attach into your device. With upgraded 3rd design, no tools are needed, just need seconds to install the bands. First, insert the pin into the hole, then make the band and versa device 135° angle to press the pull-rod level inward and slide the end into place. The bands can be installed firmly and seamlessly. Any problem with our bands, please free to contact us!',\n",
       "  \"[2Pack] NS-RCFNA-21 Remote Cover for Toshiba and Insignia CT-RC1US-21 CT95018 FireTV Alexa Voice Control, Silicone Remote Case for TV Omni Series and 4-Series 4K UHD Smart TV Remote Glow in Dark 【100% Fits】★ Remote Cover Replacement Specially Designed Compatible with Toshiba and Insignia FireTV NS-RCFNA-21 NSRCFNA21 CT-RC1US-21 CT95018 CTRC1US21 Remote Contorl; FireTV Omni Series or FireTV 4-Series smart TV Alexa Voice Remote Contorl ( ❤Tips: Pls compare with your Remote model fit or not before purchase! ) 【Full Body Protection】★ High-quality and eco-friendly silicone material, harmless to your pets, kids and families. Prevent the child from opening the back cover and provides the maximum protection, anti-slip, anti-dust, shock proof and washable. 【Custom Cutting】★ Accurate hole wide open offers full access to all ports, buttons and functions. Humanized texture design protects your remote from slipping and skidding.Fast heat dissipation and anti-dust that no fingerprints leave. 【Easy to Find/Glowing】★ Equiped with 2 different colors per set. when you have multiple remotes mixed together, Ability to quickly identify, which saves you a lot of time. The glow green and glow blue which has Luminous colors glow in the dark, Let you find your remote control at night quickly. Don't worry losing your remote control anymore. 【Reliable After-sales service】★ You buy our TOLUOHU (3Pack) Toshiba & Insignia FireTV Remote Contorl Silicone Sleeve, you will get reliable customer service and trusted guarantee. Please feel free to contact us by email directly if you have any problems. we will solve it for you within 24 hours.\",\n",
       "  'SANSUI Monitor 22 inch 1080p FHD 75Hz Computer Monitor with HDMI VGA, Ultra-Slim Bezel Ergonomic Tilt Eye Care LED Display for Home Office (ES-22F1 HDMI Cable Included) 22” Full HD VA(1920*1080) Monitor for Home, Game and Office Refresh Rate: 75Hz; Brightness: 250Nits; Free Sync Technology; Low Blue, Anti-Glare and Anti-Flicker Interface: HDMI 1.4 & VGA Ports (HDMI Cable include) Ergonomic Design:Easy Mount Stable Stand, -5°~15°Tilt, 178°V/H Viewing Angle, 75×75mm VESA Warranty: A 30-day money-back and free replacement warranty from order date and lifetime technical support.',\n",
       "  'Garmin 890 8-inch RV GPS Navigator Bundle with Car Charger Expander and Hard Shell EVA Case for Tablets/GPS (010-02425-00) Built in Wi-Fi connectivity makes updating your maps of North America a breeze. This large 8\" GPS navigator features a bright, high-resolution edge-to-edge touchscreen display so you can easily see important information Built-in Wi-Fi connectivity makes it easy to keep your maps and software up to date without using a computer IN THE BOX: RV 890 | Vehicle suction cup with powered magnetic mount | Screw down mount | 1\" ball adapter with AMPS plate | Vehicle power cable | USB cable | Documentation | Limited Warranty BUNDLE INCLUDES: Garmin 890 8-inch RV GPS Navigator | Hard Shell EVA Case for Tablets/GPS | Dual DC12V/24V Electronic Multifunction Car Socket Cigarette Lighter Expander with USB Ports'],\n",
       " 'similarity_scores': [0.23622108,\n",
       "  0.22699697,\n",
       "  0.22278787,\n",
       "  0.2201382,\n",
       "  0.2179442,\n",
       "  0.21114421,\n",
       "  0.21069871,\n",
       "  0.20830546,\n",
       "  0.2060925,\n",
       "  0.2037539]}"
      ]
     },
     "execution_count": 12,
     "metadata": {},
     "output_type": "execute_result"
    }
   ],
   "source": [
    "retrieve_data(\"What kind of tablets can i get?\", k=10)"
   ]
  },
  {
   "cell_type": "markdown",
   "id": "e7e3f44a",
   "metadata": {},
   "source": [
    "### format retrieved Context "
   ]
  },
  {
   "cell_type": "code",
   "execution_count": 17,
   "id": "2de96ccc",
   "metadata": {},
   "outputs": [],
   "source": [
    "def process_context(context: dict):\n",
    "    formatted_context = \"\"\n",
    "    for id, chunk in zip(context[\"context_ids\"], context[\"context\"]):\n",
    "        formatted_context += f\"- {id}: {chunk}\\n\"\n",
    "\n",
    "    return formatted_context"
   ]
  },
  {
   "cell_type": "code",
   "execution_count": 14,
   "id": "fd760b6c",
   "metadata": {},
   "outputs": [],
   "source": [
    "retrieved_context = retrieve_data(\"What kind of tablets can i get?\", k=10)"
   ]
  },
  {
   "cell_type": "code",
   "execution_count": 21,
   "id": "19c95fa5",
   "metadata": {},
   "outputs": [],
   "source": [
    "preprocessed_context = process_context(retrieved_context)"
   ]
  },
  {
   "cell_type": "code",
   "execution_count": 22,
   "id": "c061df11",
   "metadata": {},
   "outputs": [
    {
     "name": "stdout",
     "output_type": "stream",
     "text": [
      "- B09QGNB537: ESR for iPad Air 5th Generation Case 2022 / iPad Air 4th Case 2020, Rugged Protection, Detachable Magnetic Cover, Adjustable Portrait/Landscape Stand with Raised Screen View, 8 Stand Angles, Black Compatibility: only compatible with iPad Air 5th Generation 2022 and iPad Air 4th Generation 2020; not compatible with any other iPad models Detachable Magnetic Cover: keep your screen covered, fold it up into a stand for viewing/writing/portrait modes, or remove it for better ergonomics while gaming Rugged Protection: rugged shock-resistant polymer provides robust protection against scratches and drops Stable and Adjustable Stand: magnetically locks to 8 different stand positions that stay stable in bed, on the couch, or anywhere else Stand Your Way: raised screen view, portrait mode, and magnetic fridge mounting let you comfortably view and use your iPad in the office, kitchen, and beyond Complete Customer Support: detailed setup videos and FAQs, comprehensive 12-month warranty, lifetime support, and personalized help\n",
      "- B0BF18F6R7: KEEPRO Pencil 2nd Generation for iPad, Magnetic Wireless Charge Tilt Sensitivity Palm Rejection Active Pen for Apple iPad Pro 11\" 4/3/2/1, iPad Pro 12.9\" 6/5/4/3, iPad Air 4/5, iPad Mini 6 [Compatibility]- ONLY compatible with iPad mini (6th generation), iPad Air (4th and 5th generation), iPad Pro 12.9-inch (3rd, 4th, 5th and 6th generation), iPad Pro 11-inch (1st, 2nd, 3rd and 4th generation), check and confirm your device before place the order (Note: If the pen doesn't charge, fully charge your iPad first then try charging the pen again) [Charging and Pairs Magnetically]- Charges wirelessly, attaches and pairs magnetically to the compatible iPad, this pen is a preferable alternative to the Apple Pencil 2nd Generation [Tilt Sensitivity & Pixel Precision]- Pixel-perfect precision and industry-leading low latency with tilt sensitivity making drawing, sketching, coloring, taking notes, and marking up PDFs, as easy and natural as a real pencil [Native Palm Rejection]- Rest your palm on the screen comfortably, allowing you to write and draw on your iPad as if it's an actual notebook [Hotkey for Easy Access]- Support Bluetooth connection to display battery percentage in the status bar, one-click return to the homepage, double-click to enter multi-task (long press 3s to turn On/Off) [Extra Replaceable Tips]- Come with 3 extra replaceable tips, keep extra tips for your pencil at the ready, the tip is compatible with Apple Pencil (1st generation) and Apple Pencil (2nd generation)\n",
      "- B0BG5L2YLC: Wireless Digital Microscope, SKYBASIC 50X-1000X Magnification WiFi USB HD Portable Handheld Pocket Microscopes Camera with 8 Adjustable LED Compatible with iPhone iPad Android Windows Mac Computer ☁【WiFi & USB Microscope】This is a wireless portable digital microscope with a WIFI hotspot, designed to connect to Android or iOS mobile phones and tablets, and also supports USB to connect to Windows or Mac computers for easy use in different fields. ☁【HD Image & LCD Screen Design】2 million pixel high-resolution images microscope, 1920*1080P high-definition image quality for smartphones, 1280*720P for computers, the larger the screen, the better the view. The unique LCD screen design, in the case of wifi connection and charging, emits blue and green indicators (red light is displayed when the battery is low), clearly knowing the battery status and wifi connection, and the user experience is more high-end. ☁【8 LED Light & Easy to Focus】8 led lights and a soft light design, provide enough light and the best clarity, long-term observation will not hurt the eyes. The 360-degree rotating focus wheel allows you to focus quickly and use it anywhere. Note: The best focal length for microscope imaging is 2-60mm, please rotate the focusing wheel left and right when observing blur. ☁【Take Pictures and Videos】Not just a microscope, you can zoom in and out, but also take photos and videos with one click. It is easy to capture excellent microscopic details, and amazing wonderful moments can be saved in the folder of the device and viewed anytime, anywhere, and it can be very useful in recording the change cycle of the observed object. (Note: The take photo and zoom in and out buttons on the microscope body only apply to the WIFI connection.) ☁【Portable Pocket Microscope】Lightweight and compact, with a cylindrical body design, it can stay upright on flat ground at any time. With a portable bracelet, it is easy to carry around. This is a great option for taking kids outdoors to explore, as a teaching tool, or for anyone interested in learning about skin, hair, plants, insects, jewelry, and coins. Note: This microscope is not a traditional microscope and is not suitable for professional biologists! ☁【WIFI connection for Android and IOS】1. Download the \"MAX-VIEW\" software from Google Play or APP Store. 2. Press and hold the power button to turn on the microscope. 3. Open the APP interface and randomly enter into the settings to find \"MAX-VIEW\" (no password).4. Click to return to the software after the connection is successful, and you can open your microscopic world, which is very convenient to use (the blue light of the microscope display is always on after connection) ☁【Friendly Multi-function APP】After downloading the “MAX-VIEW” app, there will be a connection video and FAQ analysis, a unique horizontal screen and split screen switching function, multi-angle observation, screen lock function to prevent accidental touch during operation, mirroring and lighting adjustment, you can also check the power status in real-time, go out It is more convenient to carry, and the powerful APP makes the microscope and equipment perfectly connected, and the use is smoother. ☁【USB Connection for Computer】1.For the win 10/11 system, directly search for the software \"Windows Camera\" 2. For win7/8/, please download \"AMCAP\" to start using. 3. For MacOSx11.0 or later, please use the bundled software Photo Booth or Quick Time of Macbooks directly Player. 4. Note: Please disable the default laptop camera in Windows! And you have to change the camera's privacy settings, which need to be changed to allow access. ☁【What You Will Get】1x microscope, 1x USB cable (adapter not included), 1x user manual, 1-year return service for quality problems, 100% satisfied 24 hours professional after-sales service. ☁【Great Compatibility】This handheld digital microscope is compatible with most devices. Mobile phones: Android6.0+, IOS9.0+. computers: Windows vista7/8/10/11, MAC OS x11.0, widely used in various fields.\n",
      "- B0BLV7YH2W: 1.90'' with Smart Watch(Answer/Make Calls),Smart Fitness Tracker Watches for Android/iOS Phones,Bluetooth Call and Text Message/Sleep Monitor/Heart Rate/Step Counter Android Smartwatch for Women Men ⌚ 【New upgraded 1.9 inches HD full-screen Smart Watch】Android ios mobile smartwatch has a 1.9-inch full touch large size HD screen, smart notification watch with IPS technology makes the whole screen display vivid and colorful. It enhances the whole experience of using and makes the smartwatch easier to use and read. The watch has more than 120 different watch face styles to choose from. Do you want to set the watch dial freely? Yes! You can also DIY your dial with photos of yourself, your family, friends and pets. It allows you to switch the dial style anytime through the app according to your mood and occasion. 🏃【New upgraded Activity Tracker and Fitness Tracker】Activity trackers and smartwatches with powerful health innovations, The fitness tracker watch supports heart rate monitor,blood pressure, step tracker and sleep monitoring,blood oxygen measurement and all-day heart rate monitoring automatically monitors your real-time heart rate for training and for daily life.The fitness watch for men and women has 28 exercise modes to suit your various exercise styles, supporting both indoor and outdoor workouts. And the smartwatch tracks your sleep and keeps track of your body health data to help you better understand your health. With this running watch, you can have a healthier and more active life. 📞【Smart Watch with Text and Call】Bluetooth calling smartwatch has a built-in high-quality speaker, the watch can answer or make calls and play music. After a successful connection, the watch and the phone will be automatically synchronized and will vibrate to remind you to answer and send messages, so you won't miss important calls and messages. When your phone receives a message or App notification (Facebook, WhatsApp, Twitter, etc.), the Bluetooth Talking Smartwatch will also vibrate to remind you. Note: Only support reading some App messages, can't send messages. ✅【Multi-Functional Smart Watch for Women/ Men】Smart watch contains many functions, such as AI voice, Bluetooth call, pedometer, calorie consumption, distance tracking, heart rate monitoring, blood oxygen measurement, sleep monitoring, fitness tracking, multiple sports modes notification, weather information, music control, camera remote control, time display, alarm clock, stopwatch, casual games, water reminder, sedentary reminder. Smartwatch can bring you a more intelligent experience and help you lead a convenient life. 🔋【New upgraded Strong and Durable】Our smart watch uses tempered touch screen with oily coating design, which makes the smartwatch more crack-proof, and also can easily remove fingerprints and water stains, more dirt and dust-proof, making the watch in the best condition at all times. The capacity and power consumption system of our smartwatch has been redesigned to get longer battery life. This smartwatch can be charged quickly and has long battery life. Fully charge for two hours, and you can use it constantly for five days. (with Bluetooth calling connected) / 7 days of continuous use (without Bluetooth calling connected) and 30 days of standby. 🎁【Exceed Your Expectations】Our smartwatch is with meticulous design, it is a perfect gift for birthdays, anniversaries, Christmas, Valentine's Day, and Mother's Day, it is not only a fitness watch, the simple and elegant appearance is also suitable for business wear, outdoor travel wear. This product comes with a one-year warranty, please read the product details page carefully before purchasing. If you have any questions, please feel free to contact our customer service through your Amazon account, we will reply to you to help you solve the problem within 24 hours, thank you for your support and understanding.\n",
      "- B0C142QS8X: TUNEAKE Kids Headphones, Over Ear Kids Headset Stereo, Volume Limited 94dB, Foldable Adjustable Headphones for Kids, 3.5mm Jack Kid Headphones for Boys Girls Toddler School Laptop Travel Tablet, Pink 🍀LISTENING VOLUME🍀: Designed with 94dB volume-limiting technology, kids headphones offer adequate hearing protection that your child cannot listen to music or watch videos at dangerously high levels. Kids headphones for school NOTE: NO microphone, but you can still speak into the device's mic that you are plugged into and will hear you. 🍀KID-SIZED FOR COMFORT🍀: The padded headband and soft ear cups on the kids headphones boys provides a comfy fit for kids. The adjustable headband makes it well-suited to your child. With cushy, perforated mesh on the cushioned cups, your child's head will not feel hot. 🍀FOR EASY STORAGE AND PORTABILITY🍀: Children's headphones feature a folding design that can fold up to help reduce their size, easy to store in your child's backpack. The earmuffs can be rotated by 90°for easy hanging on the neck. 🍀WIDE COMPATIBILITY🍀: A 3.5mm aux port including a 120cm cable gives you the option to connect directly to devices. Compatible with all Smartphones, Chromebooks, iPads, Tablets, Computers, Laptops, and all 3.5mm audio jack devices. 🍀FUN FOR KIDS🍀: Kids headphones wired has easy controls that can allow children to use them without any difficulty. Whether your little one needs school headphones for online learning, or just to jam out to their own tunes, finding the kid headphones for them is worthwhile. Lifetime Support, Easy to Reach Customer Service.\n",
      "- B0CH6P8DYF: New 2023 80x100 High Powered Monoculars for Adults high Powered BAK-4 Prism and FMC Lens Monocular Telescope for Smartphone Monoculars for Bird Watching/Wildlife/Hunting/Hiking 【80x100 High Power Monocular】100 mm object diameter monocular, 80 times magnification. Using optical technology, this monocular uses a fully coated lens to ensure excellent light transmittance and image brightness, provide images with high definition, high quality and high color saturation. 【Compact Monocular】Compact and light monocular brings you the distant scenery by adjusting the eye cup and focusing wheel. The monocular is small and easy to carry, and can also obtain stable and clear images with one hand. 【High Definition And Super Bright View】This monocular with FMC Superior BAK4 prism lens, which can greatly reduce light loss and get greater magnification with a brighter and clearer field of view. 【What you will get in Package】Monocular telescope, Tripod, Dust bag, Lanyard, Instructions, Phone Hold. With a phone adapter and a tripod, you can take clearer and more beautiful photos outdoors at any time, capture the wonderful moments and share with your friends. 【The Most Valuable Gift】Perfect Gift for Camping, Hunting, Outdoor gear, Travel, Cruise accessories, Bird Watching, Sports, Football, Soccer. The monocular provides the broadest and most natural view and is an ideal gift for friends and family.\n",
      "- B08BR9X387: ESeekGo Compatible for Fitbit Versa Bands/Fitbit Versa 2 Bands for Men Women/Fitbit Versa Lite Bands/Fitbit Versa Special Edition Bands, 4 Pack Sport Silicone Breathable Replacement Wristbands, Large COMPATIBLE MODELS: Our sports bands are perfectly compatible with Fitbit Versa, compatible with Fitbit Versa 2/Versa Lite/ Special Edition. (ONLY Band Included!). If you are looking for the replacement wristbands for your new device, our silicone band is a nice choice, it is much softer, more flexible and more elastic than the original band. Our versa bands are also a great gift, imagine how surprise when your lover, family and friends received the new versa bands? Just order it and have a try! ADJUSTABLE SIZE: There are 2 sizes available of our bands compatible with fitbit versa/ versa 2 for men and women to choose. Small size band suitable for 5.3-7.5 Inches (135mm-190mm) wrist; Large size band suitable for 7.0-8.9 Inches (180mm-225mm) wrist. No matter you are a lady with tiny wrist or a huge man with big wrist, our versa wristbands with multiple adjustable holes and metal clasp can perfectly meet your demand and expectations. Without worrying the bands will be too tight or to loose! PREMIUM MATERIAL: Our bands are compatible with fitbit versa is designed by a prominent Los Angeles designer and are made from flexible gel silicone material, smooth and soft when wearing it, just like the feel of touching baby’s skin. You can bend the band easily without worrying the band will be broken off. These versa bands are hypoallergenic, skin-friendly, breathable, waterproof and no odor, whether in hot day or cold day, our bands can provide you a comfortable wearing experience. EXTRA PROTECTION: Our versa band for men and women with top grade buckle can help you adjust the band freely and holds the band sturdy. Comes with a small silicone ring with a little nub underneath, which can help to keep the band more securely. You can wear our band when doing any sports, camping, hiking, doing yoga, playing basketball, working, travelling, going to party, etc. These bands compatible with fitbit versa is durable enough and you don’t need to worry the band will pop off easily. EASY INSTALLATION: Comes with 2 reinforced pins with longer pull-rod design. These versa silicone bands are very easy for you to attach into your device. With upgraded 3rd design, no tools are needed, just need seconds to install the bands. First, insert the pin into the hole, then make the band and versa device 135° angle to press the pull-rod level inward and slide the end into place. The bands can be installed firmly and seamlessly. Any problem with our bands, please free to contact us!\n",
      "- B09Y39DSWR: [2Pack] NS-RCFNA-21 Remote Cover for Toshiba and Insignia CT-RC1US-21 CT95018 FireTV Alexa Voice Control, Silicone Remote Case for TV Omni Series and 4-Series 4K UHD Smart TV Remote Glow in Dark 【100% Fits】★ Remote Cover Replacement Specially Designed Compatible with Toshiba and Insignia FireTV NS-RCFNA-21 NSRCFNA21 CT-RC1US-21 CT95018 CTRC1US21 Remote Contorl; FireTV Omni Series or FireTV 4-Series smart TV Alexa Voice Remote Contorl ( ❤Tips: Pls compare with your Remote model fit or not before purchase! ) 【Full Body Protection】★ High-quality and eco-friendly silicone material, harmless to your pets, kids and families. Prevent the child from opening the back cover and provides the maximum protection, anti-slip, anti-dust, shock proof and washable. 【Custom Cutting】★ Accurate hole wide open offers full access to all ports, buttons and functions. Humanized texture design protects your remote from slipping and skidding.Fast heat dissipation and anti-dust that no fingerprints leave. 【Easy to Find/Glowing】★ Equiped with 2 different colors per set. when you have multiple remotes mixed together, Ability to quickly identify, which saves you a lot of time. The glow green and glow blue which has Luminous colors glow in the dark, Let you find your remote control at night quickly. Don't worry losing your remote control anymore. 【Reliable After-sales service】★ You buy our TOLUOHU (3Pack) Toshiba & Insignia FireTV Remote Contorl Silicone Sleeve, you will get reliable customer service and trusted guarantee. Please feel free to contact us by email directly if you have any problems. we will solve it for you within 24 hours.\n",
      "- B0CGM29ZL7: SANSUI Monitor 22 inch 1080p FHD 75Hz Computer Monitor with HDMI VGA, Ultra-Slim Bezel Ergonomic Tilt Eye Care LED Display for Home Office (ES-22F1 HDMI Cable Included) 22” Full HD VA(1920*1080) Monitor for Home, Game and Office Refresh Rate: 75Hz; Brightness: 250Nits; Free Sync Technology; Low Blue, Anti-Glare and Anti-Flicker Interface: HDMI 1.4 & VGA Ports (HDMI Cable include) Ergonomic Design:Easy Mount Stable Stand, -5°~15°Tilt, 178°V/H Viewing Angle, 75×75mm VESA Warranty: A 30-day money-back and free replacement warranty from order date and lifetime technical support.\n",
      "- B08BX2L8F2: Garmin 890 8-inch RV GPS Navigator Bundle with Car Charger Expander and Hard Shell EVA Case for Tablets/GPS (010-02425-00) Built in Wi-Fi connectivity makes updating your maps of North America a breeze. This large 8\" GPS navigator features a bright, high-resolution edge-to-edge touchscreen display so you can easily see important information Built-in Wi-Fi connectivity makes it easy to keep your maps and software up to date without using a computer IN THE BOX: RV 890 | Vehicle suction cup with powered magnetic mount | Screw down mount | 1\" ball adapter with AMPS plate | Vehicle power cable | USB cable | Documentation | Limited Warranty BUNDLE INCLUDES: Garmin 890 8-inch RV GPS Navigator | Hard Shell EVA Case for Tablets/GPS | Dual DC12V/24V Electronic Multifunction Car Socket Cigarette Lighter Expander with USB Ports\n",
      "\n"
     ]
    }
   ],
   "source": [
    "print(preprocessed_context)"
   ]
  },
  {
   "cell_type": "markdown",
   "id": "186dbaf7",
   "metadata": {},
   "source": [
    "### Create Prompt Function"
   ]
  },
  {
   "cell_type": "code",
   "execution_count": 24,
   "id": "2767fee8",
   "metadata": {},
   "outputs": [],
   "source": [
    "def build_prompt(preprocessed_context, question):\n",
    "    prompt = f\"\"\"\n",
    "    You are a shopping assistant that can answer questions about the products in stock.\n",
    "\n",
    "    You will be given a question and a list of context.\n",
    "\n",
    "    Instructions:\n",
    "    - You need to answer the question based on the provided context only.\n",
    "    - Never use word context and refer to it as the available products.\n",
    "\n",
    "    Context:\n",
    "    {preprocessed_context}\n",
    "\n",
    "    Question:\n",
    "    {question}\n",
    "    \"\"\"\n",
    "\n",
    "    return prompt"
   ]
  },
  {
   "cell_type": "code",
   "execution_count": 25,
   "id": "dbcd3cf2",
   "metadata": {},
   "outputs": [
    {
     "name": "stdout",
     "output_type": "stream",
     "text": [
      "\n",
      "    You are a shopping assistant that can answer questions about the products in stock.\n",
      "\n",
      "    You will be given a question and a list of context.\n",
      "\n",
      "    Instructions:\n",
      "    - You need to answer the question based on the provided context only.\n",
      "    - Never use word context and refer to it as the available products.\n",
      "\n",
      "    Context:\n",
      "    - B09QGNB537: ESR for iPad Air 5th Generation Case 2022 / iPad Air 4th Case 2020, Rugged Protection, Detachable Magnetic Cover, Adjustable Portrait/Landscape Stand with Raised Screen View, 8 Stand Angles, Black Compatibility: only compatible with iPad Air 5th Generation 2022 and iPad Air 4th Generation 2020; not compatible with any other iPad models Detachable Magnetic Cover: keep your screen covered, fold it up into a stand for viewing/writing/portrait modes, or remove it for better ergonomics while gaming Rugged Protection: rugged shock-resistant polymer provides robust protection against scratches and drops Stable and Adjustable Stand: magnetically locks to 8 different stand positions that stay stable in bed, on the couch, or anywhere else Stand Your Way: raised screen view, portrait mode, and magnetic fridge mounting let you comfortably view and use your iPad in the office, kitchen, and beyond Complete Customer Support: detailed setup videos and FAQs, comprehensive 12-month warranty, lifetime support, and personalized help\n",
      "- B0BF18F6R7: KEEPRO Pencil 2nd Generation for iPad, Magnetic Wireless Charge Tilt Sensitivity Palm Rejection Active Pen for Apple iPad Pro 11\" 4/3/2/1, iPad Pro 12.9\" 6/5/4/3, iPad Air 4/5, iPad Mini 6 [Compatibility]- ONLY compatible with iPad mini (6th generation), iPad Air (4th and 5th generation), iPad Pro 12.9-inch (3rd, 4th, 5th and 6th generation), iPad Pro 11-inch (1st, 2nd, 3rd and 4th generation), check and confirm your device before place the order (Note: If the pen doesn't charge, fully charge your iPad first then try charging the pen again) [Charging and Pairs Magnetically]- Charges wirelessly, attaches and pairs magnetically to the compatible iPad, this pen is a preferable alternative to the Apple Pencil 2nd Generation [Tilt Sensitivity & Pixel Precision]- Pixel-perfect precision and industry-leading low latency with tilt sensitivity making drawing, sketching, coloring, taking notes, and marking up PDFs, as easy and natural as a real pencil [Native Palm Rejection]- Rest your palm on the screen comfortably, allowing you to write and draw on your iPad as if it's an actual notebook [Hotkey for Easy Access]- Support Bluetooth connection to display battery percentage in the status bar, one-click return to the homepage, double-click to enter multi-task (long press 3s to turn On/Off) [Extra Replaceable Tips]- Come with 3 extra replaceable tips, keep extra tips for your pencil at the ready, the tip is compatible with Apple Pencil (1st generation) and Apple Pencil (2nd generation)\n",
      "- B0BG5L2YLC: Wireless Digital Microscope, SKYBASIC 50X-1000X Magnification WiFi USB HD Portable Handheld Pocket Microscopes Camera with 8 Adjustable LED Compatible with iPhone iPad Android Windows Mac Computer ☁【WiFi & USB Microscope】This is a wireless portable digital microscope with a WIFI hotspot, designed to connect to Android or iOS mobile phones and tablets, and also supports USB to connect to Windows or Mac computers for easy use in different fields. ☁【HD Image & LCD Screen Design】2 million pixel high-resolution images microscope, 1920*1080P high-definition image quality for smartphones, 1280*720P for computers, the larger the screen, the better the view. The unique LCD screen design, in the case of wifi connection and charging, emits blue and green indicators (red light is displayed when the battery is low), clearly knowing the battery status and wifi connection, and the user experience is more high-end. ☁【8 LED Light & Easy to Focus】8 led lights and a soft light design, provide enough light and the best clarity, long-term observation will not hurt the eyes. The 360-degree rotating focus wheel allows you to focus quickly and use it anywhere. Note: The best focal length for microscope imaging is 2-60mm, please rotate the focusing wheel left and right when observing blur. ☁【Take Pictures and Videos】Not just a microscope, you can zoom in and out, but also take photos and videos with one click. It is easy to capture excellent microscopic details, and amazing wonderful moments can be saved in the folder of the device and viewed anytime, anywhere, and it can be very useful in recording the change cycle of the observed object. (Note: The take photo and zoom in and out buttons on the microscope body only apply to the WIFI connection.) ☁【Portable Pocket Microscope】Lightweight and compact, with a cylindrical body design, it can stay upright on flat ground at any time. With a portable bracelet, it is easy to carry around. This is a great option for taking kids outdoors to explore, as a teaching tool, or for anyone interested in learning about skin, hair, plants, insects, jewelry, and coins. Note: This microscope is not a traditional microscope and is not suitable for professional biologists! ☁【WIFI connection for Android and IOS】1. Download the \"MAX-VIEW\" software from Google Play or APP Store. 2. Press and hold the power button to turn on the microscope. 3. Open the APP interface and randomly enter into the settings to find \"MAX-VIEW\" (no password).4. Click to return to the software after the connection is successful, and you can open your microscopic world, which is very convenient to use (the blue light of the microscope display is always on after connection) ☁【Friendly Multi-function APP】After downloading the “MAX-VIEW” app, there will be a connection video and FAQ analysis, a unique horizontal screen and split screen switching function, multi-angle observation, screen lock function to prevent accidental touch during operation, mirroring and lighting adjustment, you can also check the power status in real-time, go out It is more convenient to carry, and the powerful APP makes the microscope and equipment perfectly connected, and the use is smoother. ☁【USB Connection for Computer】1.For the win 10/11 system, directly search for the software \"Windows Camera\" 2. For win7/8/, please download \"AMCAP\" to start using. 3. For MacOSx11.0 or later, please use the bundled software Photo Booth or Quick Time of Macbooks directly Player. 4. Note: Please disable the default laptop camera in Windows! And you have to change the camera's privacy settings, which need to be changed to allow access. ☁【What You Will Get】1x microscope, 1x USB cable (adapter not included), 1x user manual, 1-year return service for quality problems, 100% satisfied 24 hours professional after-sales service. ☁【Great Compatibility】This handheld digital microscope is compatible with most devices. Mobile phones: Android6.0+, IOS9.0+. computers: Windows vista7/8/10/11, MAC OS x11.0, widely used in various fields.\n",
      "- B0BLV7YH2W: 1.90'' with Smart Watch(Answer/Make Calls),Smart Fitness Tracker Watches for Android/iOS Phones,Bluetooth Call and Text Message/Sleep Monitor/Heart Rate/Step Counter Android Smartwatch for Women Men ⌚ 【New upgraded 1.9 inches HD full-screen Smart Watch】Android ios mobile smartwatch has a 1.9-inch full touch large size HD screen, smart notification watch with IPS technology makes the whole screen display vivid and colorful. It enhances the whole experience of using and makes the smartwatch easier to use and read. The watch has more than 120 different watch face styles to choose from. Do you want to set the watch dial freely? Yes! You can also DIY your dial with photos of yourself, your family, friends and pets. It allows you to switch the dial style anytime through the app according to your mood and occasion. 🏃【New upgraded Activity Tracker and Fitness Tracker】Activity trackers and smartwatches with powerful health innovations, The fitness tracker watch supports heart rate monitor,blood pressure, step tracker and sleep monitoring,blood oxygen measurement and all-day heart rate monitoring automatically monitors your real-time heart rate for training and for daily life.The fitness watch for men and women has 28 exercise modes to suit your various exercise styles, supporting both indoor and outdoor workouts. And the smartwatch tracks your sleep and keeps track of your body health data to help you better understand your health. With this running watch, you can have a healthier and more active life. 📞【Smart Watch with Text and Call】Bluetooth calling smartwatch has a built-in high-quality speaker, the watch can answer or make calls and play music. After a successful connection, the watch and the phone will be automatically synchronized and will vibrate to remind you to answer and send messages, so you won't miss important calls and messages. When your phone receives a message or App notification (Facebook, WhatsApp, Twitter, etc.), the Bluetooth Talking Smartwatch will also vibrate to remind you. Note: Only support reading some App messages, can't send messages. ✅【Multi-Functional Smart Watch for Women/ Men】Smart watch contains many functions, such as AI voice, Bluetooth call, pedometer, calorie consumption, distance tracking, heart rate monitoring, blood oxygen measurement, sleep monitoring, fitness tracking, multiple sports modes notification, weather information, music control, camera remote control, time display, alarm clock, stopwatch, casual games, water reminder, sedentary reminder. Smartwatch can bring you a more intelligent experience and help you lead a convenient life. 🔋【New upgraded Strong and Durable】Our smart watch uses tempered touch screen with oily coating design, which makes the smartwatch more crack-proof, and also can easily remove fingerprints and water stains, more dirt and dust-proof, making the watch in the best condition at all times. The capacity and power consumption system of our smartwatch has been redesigned to get longer battery life. This smartwatch can be charged quickly and has long battery life. Fully charge for two hours, and you can use it constantly for five days. (with Bluetooth calling connected) / 7 days of continuous use (without Bluetooth calling connected) and 30 days of standby. 🎁【Exceed Your Expectations】Our smartwatch is with meticulous design, it is a perfect gift for birthdays, anniversaries, Christmas, Valentine's Day, and Mother's Day, it is not only a fitness watch, the simple and elegant appearance is also suitable for business wear, outdoor travel wear. This product comes with a one-year warranty, please read the product details page carefully before purchasing. If you have any questions, please feel free to contact our customer service through your Amazon account, we will reply to you to help you solve the problem within 24 hours, thank you for your support and understanding.\n",
      "- B0C142QS8X: TUNEAKE Kids Headphones, Over Ear Kids Headset Stereo, Volume Limited 94dB, Foldable Adjustable Headphones for Kids, 3.5mm Jack Kid Headphones for Boys Girls Toddler School Laptop Travel Tablet, Pink 🍀LISTENING VOLUME🍀: Designed with 94dB volume-limiting technology, kids headphones offer adequate hearing protection that your child cannot listen to music or watch videos at dangerously high levels. Kids headphones for school NOTE: NO microphone, but you can still speak into the device's mic that you are plugged into and will hear you. 🍀KID-SIZED FOR COMFORT🍀: The padded headband and soft ear cups on the kids headphones boys provides a comfy fit for kids. The adjustable headband makes it well-suited to your child. With cushy, perforated mesh on the cushioned cups, your child's head will not feel hot. 🍀FOR EASY STORAGE AND PORTABILITY🍀: Children's headphones feature a folding design that can fold up to help reduce their size, easy to store in your child's backpack. The earmuffs can be rotated by 90°for easy hanging on the neck. 🍀WIDE COMPATIBILITY🍀: A 3.5mm aux port including a 120cm cable gives you the option to connect directly to devices. Compatible with all Smartphones, Chromebooks, iPads, Tablets, Computers, Laptops, and all 3.5mm audio jack devices. 🍀FUN FOR KIDS🍀: Kids headphones wired has easy controls that can allow children to use them without any difficulty. Whether your little one needs school headphones for online learning, or just to jam out to their own tunes, finding the kid headphones for them is worthwhile. Lifetime Support, Easy to Reach Customer Service.\n",
      "- B0CH6P8DYF: New 2023 80x100 High Powered Monoculars for Adults high Powered BAK-4 Prism and FMC Lens Monocular Telescope for Smartphone Monoculars for Bird Watching/Wildlife/Hunting/Hiking 【80x100 High Power Monocular】100 mm object diameter monocular, 80 times magnification. Using optical technology, this monocular uses a fully coated lens to ensure excellent light transmittance and image brightness, provide images with high definition, high quality and high color saturation. 【Compact Monocular】Compact and light monocular brings you the distant scenery by adjusting the eye cup and focusing wheel. The monocular is small and easy to carry, and can also obtain stable and clear images with one hand. 【High Definition And Super Bright View】This monocular with FMC Superior BAK4 prism lens, which can greatly reduce light loss and get greater magnification with a brighter and clearer field of view. 【What you will get in Package】Monocular telescope, Tripod, Dust bag, Lanyard, Instructions, Phone Hold. With a phone adapter and a tripod, you can take clearer and more beautiful photos outdoors at any time, capture the wonderful moments and share with your friends. 【The Most Valuable Gift】Perfect Gift for Camping, Hunting, Outdoor gear, Travel, Cruise accessories, Bird Watching, Sports, Football, Soccer. The monocular provides the broadest and most natural view and is an ideal gift for friends and family.\n",
      "- B08BR9X387: ESeekGo Compatible for Fitbit Versa Bands/Fitbit Versa 2 Bands for Men Women/Fitbit Versa Lite Bands/Fitbit Versa Special Edition Bands, 4 Pack Sport Silicone Breathable Replacement Wristbands, Large COMPATIBLE MODELS: Our sports bands are perfectly compatible with Fitbit Versa, compatible with Fitbit Versa 2/Versa Lite/ Special Edition. (ONLY Band Included!). If you are looking for the replacement wristbands for your new device, our silicone band is a nice choice, it is much softer, more flexible and more elastic than the original band. Our versa bands are also a great gift, imagine how surprise when your lover, family and friends received the new versa bands? Just order it and have a try! ADJUSTABLE SIZE: There are 2 sizes available of our bands compatible with fitbit versa/ versa 2 for men and women to choose. Small size band suitable for 5.3-7.5 Inches (135mm-190mm) wrist; Large size band suitable for 7.0-8.9 Inches (180mm-225mm) wrist. No matter you are a lady with tiny wrist or a huge man with big wrist, our versa wristbands with multiple adjustable holes and metal clasp can perfectly meet your demand and expectations. Without worrying the bands will be too tight or to loose! PREMIUM MATERIAL: Our bands are compatible with fitbit versa is designed by a prominent Los Angeles designer and are made from flexible gel silicone material, smooth and soft when wearing it, just like the feel of touching baby’s skin. You can bend the band easily without worrying the band will be broken off. These versa bands are hypoallergenic, skin-friendly, breathable, waterproof and no odor, whether in hot day or cold day, our bands can provide you a comfortable wearing experience. EXTRA PROTECTION: Our versa band for men and women with top grade buckle can help you adjust the band freely and holds the band sturdy. Comes with a small silicone ring with a little nub underneath, which can help to keep the band more securely. You can wear our band when doing any sports, camping, hiking, doing yoga, playing basketball, working, travelling, going to party, etc. These bands compatible with fitbit versa is durable enough and you don’t need to worry the band will pop off easily. EASY INSTALLATION: Comes with 2 reinforced pins with longer pull-rod design. These versa silicone bands are very easy for you to attach into your device. With upgraded 3rd design, no tools are needed, just need seconds to install the bands. First, insert the pin into the hole, then make the band and versa device 135° angle to press the pull-rod level inward and slide the end into place. The bands can be installed firmly and seamlessly. Any problem with our bands, please free to contact us!\n",
      "- B09Y39DSWR: [2Pack] NS-RCFNA-21 Remote Cover for Toshiba and Insignia CT-RC1US-21 CT95018 FireTV Alexa Voice Control, Silicone Remote Case for TV Omni Series and 4-Series 4K UHD Smart TV Remote Glow in Dark 【100% Fits】★ Remote Cover Replacement Specially Designed Compatible with Toshiba and Insignia FireTV NS-RCFNA-21 NSRCFNA21 CT-RC1US-21 CT95018 CTRC1US21 Remote Contorl; FireTV Omni Series or FireTV 4-Series smart TV Alexa Voice Remote Contorl ( ❤Tips: Pls compare with your Remote model fit or not before purchase! ) 【Full Body Protection】★ High-quality and eco-friendly silicone material, harmless to your pets, kids and families. Prevent the child from opening the back cover and provides the maximum protection, anti-slip, anti-dust, shock proof and washable. 【Custom Cutting】★ Accurate hole wide open offers full access to all ports, buttons and functions. Humanized texture design protects your remote from slipping and skidding.Fast heat dissipation and anti-dust that no fingerprints leave. 【Easy to Find/Glowing】★ Equiped with 2 different colors per set. when you have multiple remotes mixed together, Ability to quickly identify, which saves you a lot of time. The glow green and glow blue which has Luminous colors glow in the dark, Let you find your remote control at night quickly. Don't worry losing your remote control anymore. 【Reliable After-sales service】★ You buy our TOLUOHU (3Pack) Toshiba & Insignia FireTV Remote Contorl Silicone Sleeve, you will get reliable customer service and trusted guarantee. Please feel free to contact us by email directly if you have any problems. we will solve it for you within 24 hours.\n",
      "- B0CGM29ZL7: SANSUI Monitor 22 inch 1080p FHD 75Hz Computer Monitor with HDMI VGA, Ultra-Slim Bezel Ergonomic Tilt Eye Care LED Display for Home Office (ES-22F1 HDMI Cable Included) 22” Full HD VA(1920*1080) Monitor for Home, Game and Office Refresh Rate: 75Hz; Brightness: 250Nits; Free Sync Technology; Low Blue, Anti-Glare and Anti-Flicker Interface: HDMI 1.4 & VGA Ports (HDMI Cable include) Ergonomic Design:Easy Mount Stable Stand, -5°~15°Tilt, 178°V/H Viewing Angle, 75×75mm VESA Warranty: A 30-day money-back and free replacement warranty from order date and lifetime technical support.\n",
      "- B08BX2L8F2: Garmin 890 8-inch RV GPS Navigator Bundle with Car Charger Expander and Hard Shell EVA Case for Tablets/GPS (010-02425-00) Built in Wi-Fi connectivity makes updating your maps of North America a breeze. This large 8\" GPS navigator features a bright, high-resolution edge-to-edge touchscreen display so you can easily see important information Built-in Wi-Fi connectivity makes it easy to keep your maps and software up to date without using a computer IN THE BOX: RV 890 | Vehicle suction cup with powered magnetic mount | Screw down mount | 1\" ball adapter with AMPS plate | Vehicle power cable | USB cable | Documentation | Limited Warranty BUNDLE INCLUDES: Garmin 890 8-inch RV GPS Navigator | Hard Shell EVA Case for Tablets/GPS | Dual DC12V/24V Electronic Multifunction Car Socket Cigarette Lighter Expander with USB Ports\n",
      "\n",
      "\n",
      "    Question:\n",
      "    what kind of tablets can i get?\n",
      "    \n"
     ]
    }
   ],
   "source": [
    "print(build_prompt(preprocessed_context, \"what kind of tablets can i get?\"))"
   ]
  },
  {
   "cell_type": "markdown",
   "id": "a2f2906d",
   "metadata": {},
   "source": [
    "### Generate Answer Function"
   ]
  },
  {
   "cell_type": "code",
   "execution_count": 26,
   "id": "2a1cea11",
   "metadata": {},
   "outputs": [],
   "source": [
    "def generate_answer(prompt):\n",
    "    response = openai.chat.completions.create(\n",
    "        model=\"gpt-4.1-mini\",\n",
    "        messages=[{\"role\": \"system\", \"content\": prompt}],\n",
    "        temperature=0.5,\n",
    "    )\n",
    "    return response.choices[0].message.content"
   ]
  },
  {
   "cell_type": "code",
   "execution_count": 28,
   "id": "4245496b",
   "metadata": {},
   "outputs": [
    {
     "name": "stdout",
     "output_type": "stream",
     "text": [
      "You can get cases compatible with the iPad Air 5th Generation (2022) and iPad Air 4th Generation (2020). Specifically, the ESR case offers rugged protection, a detachable magnetic cover, and an adjustable stand with 8 angles for these iPad Air models.\n"
     ]
    }
   ],
   "source": [
    "prompt = build_prompt(preprocessed_context, \"What kind of tablets can I get?\")\n",
    "\n",
    "print(generate_answer(prompt))"
   ]
  },
  {
   "cell_type": "markdown",
   "id": "f2622829",
   "metadata": {},
   "source": [
    "#### Combined RAG Pipeline"
   ]
  },
  {
   "cell_type": "code",
   "execution_count": 33,
   "id": "b34676c3",
   "metadata": {},
   "outputs": [],
   "source": [
    "def rag_pipeline(question, topk=5):\n",
    "    qdrant_client_ = QdrantClient(url=\"http://localhost:6333\")\n",
    "    retrieved_context = retrieve_data(question, qdrant_client_, topk)\n",
    "    preprocessed_context = process_context(retrieved_context)\n",
    "    prompt = build_prompt(preprocessed_context, question)\n",
    "    answer = generate_answer(prompt)\n",
    "    return answer"
   ]
  },
  {
   "cell_type": "code",
   "execution_count": 34,
   "id": "6347ef09",
   "metadata": {},
   "outputs": [
    {
     "name": "stdout",
     "output_type": "stream",
     "text": [
      "You can choose from several types of earphones available:\n",
      "\n",
      "1. Open Ear Headphones: These rest gently on your ears without entering the ear canal, reducing stress and hearing loss. They offer immersive premium sound, a secure fit with silicone ear hooks, and are waterproof with up to 60 hours playtime with the charging case. Ideal for running, walking, and workouts.\n",
      "\n",
      "2. Wireless In-Ear Earbuds: These Bluetooth 5.3 earbuds feature deep bass, a microphone, smart touch controls, LED power display, and 37 hours of playback time. They are ultra-light and IPX7 waterproof, suitable for sports.\n",
      "\n",
      "3. Kids Over-Ear Headphones: Designed for children with volume-limiting technology (94dB) for hearing protection, adjustable padded headband, foldable design for portability, and compatible with all 3.5mm audio jack devices. They do not have a microphone.\n",
      "\n",
      "4. Wireless Bluetooth Earbuds with Noise Cancelling Mic: These offer 30 hours playtime, clear call quality with dual microphones, deep bass sound, IPX7 waterproof rating, ergonomic design, and smart touch controls. Compatible with most Bluetooth devices.\n",
      "\n",
      "5. Bone Conduction Headphones: These deliver sound through your cheekbones, providing premium audio without blocking your ears. They have an open-ear design, IP56 waterproof rating, 8 hours battery life with quick charge, noise-canceling mic, and are comfortable for extended wear. Suitable for sports and outdoor activities.\n",
      "\n",
      "You can select based on your preference for design, usage, and features.\n"
     ]
    }
   ],
   "source": [
    "print(rag_pipeline(\"What kind of earphones can i get?\"))"
   ]
  }
 ],
 "metadata": {
  "kernelspec": {
   "display_name": ".venv",
   "language": "python",
   "name": "python3"
  },
  "language_info": {
   "codemirror_mode": {
    "name": "ipython",
    "version": 3
   },
   "file_extension": ".py",
   "mimetype": "text/x-python",
   "name": "python",
   "nbconvert_exporter": "python",
   "pygments_lexer": "ipython3",
   "version": "3.12.2"
  }
 },
 "nbformat": 4,
 "nbformat_minor": 5
}
