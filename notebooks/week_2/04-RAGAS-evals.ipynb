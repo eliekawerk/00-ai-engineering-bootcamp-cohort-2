{
 "cells": [
  {
   "cell_type": "code",
   "execution_count": 3,
   "id": "7f27163c",
   "metadata": {},
   "outputs": [
    {
     "name": "stderr",
     "output_type": "stream",
     "text": [
      "/Users/eliekawerk/PycharmProjects/00-ai-engineering-bootcamp-cohort-2/.venv/lib/python3.12/site-packages/tqdm/auto.py:21: TqdmWarning: IProgress not found. Please update jupyter and ipywidgets. See https://ipywidgets.readthedocs.io/en/stable/user_install.html\n",
      "  from .autonotebook import tqdm as notebook_tqdm\n"
     ]
    }
   ],
   "source": [
    "from langsmith import Client\n",
    "import openai \n",
    "\n",
    "import os \n",
    "import sys \n",
    "\n",
    "sys.path.insert(0, '../..')\n",
    "\n",
    "from qdrant_client import QdrantClient\n",
    "\n",
    "from langchain_openai import ChatOpenAI\n",
    "from langchain_openai import OpenAIEmbeddings\n",
    "\n",
    "from ragas.llms import LangchainLLMWrapper\n",
    "from ragas.embeddings import LangchainEmbeddingsWrapper\n",
    "\n",
    "\n",
    "from src.api.rag.retrieval_generation import (\n",
    "    get_embeddings,\n",
    "    retrieve_data,\n",
    "    process_context,\n",
    "    build_prompt,\n",
    "    generate_answer,\n",
    "    rag_pipeline,\n",
    ")"
   ]
  },
  {
   "cell_type": "markdown",
   "id": "5fd38721",
   "metadata": {},
   "source": [
    "## Downlaod an example datapoint from Langsmith"
   ]
  },
  {
   "cell_type": "code",
   "execution_count": 4,
   "id": "e9fccf55",
   "metadata": {},
   "outputs": [],
   "source": [
    "client = Client(api_key=os.environ[\"LANGSMITH_API_KEY\"])"
   ]
  },
  {
   "cell_type": "code",
   "execution_count": 5,
   "id": "4f8364a0",
   "metadata": {},
   "outputs": [],
   "source": [
    "dataset = client.read_dataset(\n",
    "    dataset_name=\"rag-evaluation-dataset\"\n",
    ")"
   ]
  },
  {
   "cell_type": "code",
   "execution_count": 6,
   "id": "5c7756ed",
   "metadata": {},
   "outputs": [
    {
     "data": {
      "text/plain": [
       "Dataset(name='rag-evaluation-dataset', description='Dataset for evaluating RAG', data_type=<DataType.kv: 'kv'>, id=UUID('aef32955-5a30-444c-bacf-4b3da59a8515'), created_at=datetime.datetime(2025, 10, 12, 18, 26, 55, 133747, tzinfo=datetime.timezone.utc), modified_at=datetime.datetime(2025, 10, 12, 18, 26, 55, 133747, tzinfo=datetime.timezone.utc), example_count=33, session_count=0, last_session_start_time=None, inputs_schema=None, outputs_schema=None, transformations=None, metadata={'runtime': {'sdk': 'langsmith-py', 'library': 'langsmith', 'runtime': 'python', 'platform': 'macOS-15.7.1-arm64-arm-64bit', 'sdk_version': '0.4.34', 'runtime_version': '3.12.2', 'langchain_version': None, 'py_implementation': 'CPython', 'langchain_core_version': '0.3.79'}})"
      ]
     },
     "execution_count": 6,
     "metadata": {},
     "output_type": "execute_result"
    }
   ],
   "source": [
    "dataset"
   ]
  },
  {
   "cell_type": "code",
   "execution_count": 19,
   "id": "b4b0ee6c",
   "metadata": {},
   "outputs": [
    {
     "data": {
      "text/plain": [
       "[<class 'langsmith.schemas.Example'>(id=acde385d-7d0f-4772-95e5-4c137d1a2598, dataset_id=aef32955-5a30-444c-bacf-4b3da59a8515, link='https://smith.langchain.com/o/8e3d1487-3f47-4c1c-9cb0-18779336b64c/datasets/aef32955-5a30-444c-bacf-4b3da59a8515/e/acde385d-7d0f-4772-95e5-4c137d1a2598'),\n",
       " <class 'langsmith.schemas.Example'>(id=77b4020a-94d4-472d-8afc-6c01a948a961, dataset_id=aef32955-5a30-444c-bacf-4b3da59a8515, link='https://smith.langchain.com/o/8e3d1487-3f47-4c1c-9cb0-18779336b64c/datasets/aef32955-5a30-444c-bacf-4b3da59a8515/e/77b4020a-94d4-472d-8afc-6c01a948a961'),\n",
       " <class 'langsmith.schemas.Example'>(id=3a8b0e22-3fe6-4c05-96a7-ed10d0e5a91a, dataset_id=aef32955-5a30-444c-bacf-4b3da59a8515, link='https://smith.langchain.com/o/8e3d1487-3f47-4c1c-9cb0-18779336b64c/datasets/aef32955-5a30-444c-bacf-4b3da59a8515/e/3a8b0e22-3fe6-4c05-96a7-ed10d0e5a91a'),\n",
       " <class 'langsmith.schemas.Example'>(id=80778e60-5f01-47d0-a5b0-abcc770f7d91, dataset_id=aef32955-5a30-444c-bacf-4b3da59a8515, link='https://smith.langchain.com/o/8e3d1487-3f47-4c1c-9cb0-18779336b64c/datasets/aef32955-5a30-444c-bacf-4b3da59a8515/e/80778e60-5f01-47d0-a5b0-abcc770f7d91'),\n",
       " <class 'langsmith.schemas.Example'>(id=bfb81b5d-c679-4801-8eb4-75b5c9038bac, dataset_id=aef32955-5a30-444c-bacf-4b3da59a8515, link='https://smith.langchain.com/o/8e3d1487-3f47-4c1c-9cb0-18779336b64c/datasets/aef32955-5a30-444c-bacf-4b3da59a8515/e/bfb81b5d-c679-4801-8eb4-75b5c9038bac'),\n",
       " <class 'langsmith.schemas.Example'>(id=0d56ea30-394b-41ff-b64b-cdc07dd03e50, dataset_id=aef32955-5a30-444c-bacf-4b3da59a8515, link='https://smith.langchain.com/o/8e3d1487-3f47-4c1c-9cb0-18779336b64c/datasets/aef32955-5a30-444c-bacf-4b3da59a8515/e/0d56ea30-394b-41ff-b64b-cdc07dd03e50'),\n",
       " <class 'langsmith.schemas.Example'>(id=dfcd1e31-a388-42a5-93e5-57ae1ec54c0e, dataset_id=aef32955-5a30-444c-bacf-4b3da59a8515, link='https://smith.langchain.com/o/8e3d1487-3f47-4c1c-9cb0-18779336b64c/datasets/aef32955-5a30-444c-bacf-4b3da59a8515/e/dfcd1e31-a388-42a5-93e5-57ae1ec54c0e'),\n",
       " <class 'langsmith.schemas.Example'>(id=de78d6f9-ea08-4d02-ab8d-02ea27a96725, dataset_id=aef32955-5a30-444c-bacf-4b3da59a8515, link='https://smith.langchain.com/o/8e3d1487-3f47-4c1c-9cb0-18779336b64c/datasets/aef32955-5a30-444c-bacf-4b3da59a8515/e/de78d6f9-ea08-4d02-ab8d-02ea27a96725'),\n",
       " <class 'langsmith.schemas.Example'>(id=67c2b818-ab05-4c98-b0aa-8985907bd401, dataset_id=aef32955-5a30-444c-bacf-4b3da59a8515, link='https://smith.langchain.com/o/8e3d1487-3f47-4c1c-9cb0-18779336b64c/datasets/aef32955-5a30-444c-bacf-4b3da59a8515/e/67c2b818-ab05-4c98-b0aa-8985907bd401'),\n",
       " <class 'langsmith.schemas.Example'>(id=3b75ec6d-cf59-4a96-be1b-9352fddd13e2, dataset_id=aef32955-5a30-444c-bacf-4b3da59a8515, link='https://smith.langchain.com/o/8e3d1487-3f47-4c1c-9cb0-18779336b64c/datasets/aef32955-5a30-444c-bacf-4b3da59a8515/e/3b75ec6d-cf59-4a96-be1b-9352fddd13e2')]"
      ]
     },
     "execution_count": 19,
     "metadata": {},
     "output_type": "execute_result"
    }
   ],
   "source": [
    "list(client.list_examples(dataset_name=\"rag-evaluation-dataset\", limit=10))"
   ]
  },
  {
   "cell_type": "code",
   "execution_count": 14,
   "id": "fc18d9c0",
   "metadata": {},
   "outputs": [
    {
     "data": {
      "text/plain": [
       "{'ground_truth': 'We do not stock fresh produce such as fruits or vegetables.',\n",
       " 'reference_context_ids': [],\n",
       " 'reference_descriptions': []}"
      ]
     },
     "execution_count": 14,
     "metadata": {},
     "output_type": "execute_result"
    }
   ],
   "source": [
    "list(client.list_examples(dataset_name=\"rag-evaluation-dataset\"))[3].outputs"
   ]
  },
  {
   "cell_type": "code",
   "execution_count": 15,
   "id": "95b7d901",
   "metadata": {},
   "outputs": [
    {
     "data": {
      "text/plain": [
       "{'question': 'Do you have any fresh produce like fruits or vegetables?'}"
      ]
     },
     "execution_count": 15,
     "metadata": {},
     "output_type": "execute_result"
    }
   ],
   "source": [
    "list(client.list_examples(dataset_name=\"rag-evaluation-dataset\"))[3].inputs"
   ]
  },
  {
   "cell_type": "code",
   "execution_count": 31,
   "id": "837d5d39",
   "metadata": {},
   "outputs": [],
   "source": [
    "example = list(client.list_examples(dataset_name=\"rag-evaluation-dataset\", limit=10))\n",
    "\n",
    "reference_input = example[5].inputs\n",
    "reference_output = example[5].outputs"
   ]
  },
  {
   "cell_type": "code",
   "execution_count": 32,
   "id": "49bdbada",
   "metadata": {},
   "outputs": [
    {
     "data": {
      "text/plain": [
       "{'question': 'Are there any wireless keyboard and mouse combos available?'}"
      ]
     },
     "execution_count": 32,
     "metadata": {},
     "output_type": "execute_result"
    }
   ],
   "source": [
    "reference_input"
   ]
  },
  {
   "cell_type": "code",
   "execution_count": 33,
   "id": "c743bb3b",
   "metadata": {},
   "outputs": [
    {
     "data": {
      "text/plain": [
       "{'ground_truth': 'Yes, we offer a 2.4G Retro Computer Wireless Keyboard and Mouse Combo with quiet round keys and plug-and-play setup.',\n",
       " 'reference_context_ids': ['B09PYFMTBF'],\n",
       " 'reference_descriptions': ['KEEPRO Pencil 2nd Generation for iPad, Magnetic Wireless Charge Tilt Sensitivity Palm Rejection Active Pen for Apple iPad Pro 11\" 4/3/2/1, iPad Pro 12.9\" 6/5/4/3, iPad Air 4/5, iPad Mini 6 [Compatibility]- ONLY compatible with iPad mini (6th generation), iPad Air (4th and 5th generation), iPad Pro 12.9-inch (3rd, 4th, 5th and 6th generation), iPad Pro 11-inch (1st, 2nd, 3rd and 4th generation), check and confirm your device before place the order (Note: If the pen doesn\\'t charge, fully charge your iPad first then try charging the pen again) [Charging and Pairs Magnetically]- Charges wirelessly, attaches and pairs magnetically to the compatible iPad, this pen is a preferable alternative to the Apple Pencil 2nd Generation [Tilt Sensitivity & Pixel Precision]- Pixel-perfect precision and industry-leading low latency with tilt sensitivity making drawing, sketching, coloring, taking notes, and marking up PDFs, as easy and natural as a real pencil [Native Palm Rejection]- Rest your palm on the screen comfortably, allowing you to write and draw on your iPad as if it\\'s an actual notebook [Hotkey for Easy Access]- Support Bluetooth connection to display battery percentage in the status bar, one-click return to the homepage, double-click to enter multi-task (long press 3s to turn On/Off) [Extra Replaceable Tips]- Come with 3 extra replaceable tips, keep extra tips for your pencil at the ready, the tip is compatible with Apple Pencil (1st generation) and Apple Pencil (2nd generation)']}"
      ]
     },
     "execution_count": 33,
     "metadata": {},
     "output_type": "execute_result"
    }
   ],
   "source": [
    "reference_output"
   ]
  },
  {
   "cell_type": "markdown",
   "id": "2e3c8243",
   "metadata": {},
   "source": [
    "### RAG Pipeline"
   ]
  },
  {
   "cell_type": "code",
   "execution_count": 12,
   "id": "26e72d91",
   "metadata": {},
   "outputs": [],
   "source": [
    "qdrant_client_ = QdrantClient(url=\"http://localhost:6333\")"
   ]
  },
  {
   "cell_type": "code",
   "execution_count": 13,
   "id": "ed7bbb68",
   "metadata": {},
   "outputs": [
    {
     "data": {
      "text/plain": [
       "{'answer': 'Sure! Here are some charger cable options available for you:\\n\\n1. iPhone Charger Cord Lightning Cables (3 pack, 3ft) - Apple MFi Certified, durable, fast charging and data transfer, compatible with iPhone 13/12/11 and many other models. (B0BYYLJRHT)\\n\\n2. 5 in 1 USB C to Multi Charging Cable (10ft) - Apple MFi Certified, supports Lightning, Type C, and Micro USB connectors, can charge three devices simultaneously, suitable for iPhone, Android, Samsung, Huawei, and more. (B0BFPZGYLD)\\n\\n3. Mixblu Charger Cable Replacement for Fitbit Inspire 3 (2 pack, 3.3ft) - Specifically for Fitbit Inspire 3, fast and stable charging. (B0BGDQLZD2)\\n\\n4. GREPHONE 2 Pack USB C to Lightning Cable (6ft) - Apple MFi Certified, fast charging, extra long cable, compatible with iPhone 13/12/11 and iPad models. (B0BV6PWVCG)\\n\\n5. MUXA 6 Pack iPhone Charger Colorful Nylon Lightning Cable (various lengths 3/3/6/6/10/10 ft) - Apple MFi Certified, durable, fast charging and data transfer, compatible with a wide range of iPhone and iPad models. (B09TNXY54Y)\\n\\nPlease let me know if you want a charger for a specific device or have preferences like cable length or type.',\n",
       " 'question': 'Can you help me find a charger?',\n",
       " 'retrieved_context_ids': ['B0BYYLJRHT',\n",
       "  'B0BFPZGYLD',\n",
       "  'B0BGDQLZD2',\n",
       "  'B0BV6PWVCG',\n",
       "  'B09TNXY54Y'],\n",
       " 'retrieved_context': ['iPhone Charger Cord Lightning Cables, Original 2022 Upgraded [3Pack 3ft] Apple MFi Certified USB A Charging Cable for iPhone 13 12 11 Mini Pro XR Xs Max X SE 8 7 6 Plus iPad iPod AirPods - Black Original Apple Cable - iPhone charging cable with a reinforced joint design that has passed 30,000+ times bending tests for extra protection and durability. Insulation and precisely layer-welded connectors, which make the cable more durable and sturdier than normal iPhone charger cables but also flexible and tangle-free. Instant Responses - No error message pops up. Real high-speed iPhone charging cable with stable and efficient current output, you can plug it into laptop computers and in-car charging adapter. Super Fast Charge - The iPhone Lightning cable build-in four-core high-quality copper wires and multiple safety protections overcharge/stable current/automatic switching/battery protection to promote maximum signal quality and strength. You can enjoy faster charging [3.0A] and safer high-speed data transferring [480Mbps]. Apple MFi Certified - Lightning cable ensure 100% compatibility with iPhone 13, 13 Pro, 13 Pro Max, 13 Mini, 12, 12 Mini, 12 Pro, 12 Pro Max, SE 2020, iPhone 11, 11 Pro, 11 Pro Max, XR , Xs , Xs Max, X, 8, 8 plus, 7, 7 plus, 6s, 6s plus, 6, 6 plus, SE, 5s, 5, 5c, iPad Pro, iPad Air, iPad Air 2, iPad mini, mini 2, mini 3, mini 4, Mini 6, iPad 4, iPad 9, iPod Touch (5 Gen), iPod Nano 7. What You Get? - 3-foot long MFI apple certified iPhone charger cable 3 pack, if you have any questions, please feel free to contact us. Notice: Please make sure to make a purchase in the store! Otherwise, we will not be able to guarantee its authenticity, and we do not provide any after-sale services for other stores!',\n",
       "  '5 in 1 USB C to Multi Charging Cable 3M/10Ft, [Apple MFi Certified] USB A/USB C to Lightning+Type C+Micro USB Connector, Multi Charger Cable for Android/iPhone/Apple/Samsung/Huawei/LG (Not for i Pad) 【1 Cable = 6 Cables】The multi charging cable includes 2-in-1 USB A to USB C PD port, and 3 charging connecters: lightning / Type C / Micro USB, providing you with 6 different charging needs. 1 cable can charge three devices at the same time. Charging speed: Lightning: 2.4A, Micro USB: 2A,Type C: 6A. Please NOTE: *Multi USB charging cable is just for charging not for sync data. *USB C port does NOT work with i-Pads, tablets, and larger power-requirement devices. (Because not support PD function) 【Universal and Multifunctiona: Lightning, USB C, Micro USB】The lightning/iOS port compatible with iPhone 14/14 Pro/14 Pro Max/14 Plus/13/13 Pro Max/12/12Pro/iPhone 11/11Pro/XS /XS Max/XR/8/8 Plus 7/7 Plus. The USB C port supports to the Galaxy S10, Note 8, Nexus, LG, Pixel, HTC, OnePlus, Huawei, XiaoMi. The Micro USB port compatible with Samsung Galaxy S7/S6/S4 most Android phones, also compatible with Kindle, Bluetooth headset, external batteries, PS4 controllers and more. 【MFi Certified】The 3M universal multi charging cable contains an authorized chip to ensure 100% compatibility with iPhone without error message popping up. 3M USB C multi fast charging cable has a built-in terminal and smart chip to ensure your device is safely charged. 【Excellent & Durable Design】5 in 1 multiple charger cable length is 10FT, which is the most popular cable length. Multifunctional and easy to carry. When you have 2 or more mobile phones, just carry a multi-purpose cable to meet the needs of all charging devices. The 6-in-1 universal charging cable is made of high-quality smooth nylon to better protect the core. In addition, the use of high-quality heat-resistant aluminum alloy terminals increases reliability and durability. 【Best Service】For the 3M/10Ft multi 5 in 1 USB universal iPhone charging cable, we provide the 24 hours email support, 30-day free return and exchange service, and 1 years of after-sales warranty.If you have any questions about your product, please contact us, we will reply as soon as possible.',\n",
       "  'Mixblu Charger Cable Replacement for Fitbit Inspire 3 (2 Pack/3.3Ft) Mixblu replacement charging cables are specially designed for Inspire 3 only. Passed thousands of qualified tests, it can provide a fast charging speed and stable charging status. Made of ABS plastic and TPE cable, lightweight, stable and durable, giving you a good charging experience. 3.3ft long charging cord provides you convenient use and the flexibility you need. 2 Pack tested charging cables for Inspire 3.',\n",
       "  'GREPHONE 2 Pack USB C to Lightning Cable,6 FT MFi Certified Extra Long iPhone Charger Cord,6 Foot USB Type C to Lightning Fast Cable Compatible with 13/12/11/11Pro/11Max/ X/XS/XR/XS Max/8/7/6/SE/iPad 【Super charging】Really iphone fast charger,our charging cable, 30 minutes to restore 60% of the phone\\'s power superior iPhone connector ensure superior data transfer with fast and stable charging. 【Perfect 6ft and quality】Wfith the 6foot length, you can lie on the couch or sofa and use your devices while you are charging at the same time. Special reinforced material, the wire has been tested many times to be softer and tougher to provide additional protection and durability. The 3D aluminum joint and the exclusive laser welding technology ensure that it will not break and the connection will be tighter. It can fit well even on the mobile phone protective shell and never loosen. 【Compatibility List】:USB-C to lightning cable supports PD Fast Charge 3A/30W (max) for iPad 8th iPad 2020, iPhone 13/13 Mini/13 Pro/13 Pro Max/12/12 Mini/12 Pro/12 Pro Max/11/11 Pro/11 Pro Max/XS Max/XS/XR/X/8 Plus/8 and iPad Pro 12.9\" gen1/iPad Pro 12.9\" gen2/iPad Pro 10.5\"/iPad Air3 10.5\"/iPad mini5 7.9\"; This cable also supports the standard charge (5V/2.4A max) for iPhone 7 Plus/7/6 Plus/6/6S Plus/6S etc. Note: You need a USB-C port wall charger to achieve fast charging. 【Apple MFi Certified Lightning Cable】 With the Apple MFi Chip, the USB-C to lightning cable cord equips automatic chip recognition function.They adopt the latest and faster charging C94 lightning terminal design,and built-in overvoltage protection ensure your Apple devices are charged safely, at their fastest possible speed. The Apple MFi Certification ensures 100% flawless. 【100% satisfactory service】You will get 2 packs of 6ft usb c to lightning cables and we will render a 12-month service to you as promised ensure your pleasing shopping experience. If you have any questions, please feel free to contact us. Our service team will provide you with a satisfactory solution within 24 hours.',\n",
       "  \"MUXA 6 Pack [Apple MFi Certified] 3/3/6/6/10/10 FT iPhone Charger Colorful Nylon Lightning Cable Compatible iPhone 13 mini/13/12/11 Pro Max/XS MAX/XR/XS/X/8/7/Plus/6S/6/SE/5S/iPad ♦Perfectly Compatibility♦ : Work with iPhone 13 12 11, 13 12 11 Pro, 13 12 11 Pro Max,13 12 Mini, XS Max, XS, XR, X, 8 Plus, 8, 7 Plus, 7, 6S Plus, 6S, 6 Plus, 6, 5S, 5C, 5, iPad iPod . ♦Multiple Enjoyment♦ : Precise interface design, Fits enoughly to your charging port, no need to remove the phone case, solve tedious troubles, and charge when you want to charge all the time.Cables long enough to be convenient to charge your device in bedroom, sofa, office, travel，even when you are on the backseat of the car. ♦MFi Certified iPhone Charger♦ : MFI Certified Lightning Cable, Built with terminal and smart chip, ensured safe charging for your devices and Enjoy fast charge and data transfer. ♦Strengthened Durability♦ : It will be more durable than iPhone cable you have ever seen. It has a service life of 12 times longer than other cables, and has been proven to withstand 12,000 cycles + bending in rigorous laboratory tests. ♦Sweet Service♦ : If you have any questions about the product, please don't hesitate to contact us immediately and we will answer you within 24 hours.\"],\n",
       " 'similarity_score': [0.38357133,\n",
       "  0.36249384,\n",
       "  0.35723758,\n",
       "  0.32464623,\n",
       "  0.32046083]}"
      ]
     },
     "execution_count": 13,
     "metadata": {},
     "output_type": "execute_result"
    }
   ],
   "source": [
    "rag_pipeline(\"Can you help me find a charger?\", qdrant_client_=qdrant_client_)"
   ]
  },
  {
   "cell_type": "markdown",
   "id": "1945ae09",
   "metadata": {},
   "source": [
    "### RAGAS Evaluation"
   ]
  },
  {
   "cell_type": "code",
   "execution_count": 20,
   "id": "01fec1f8",
   "metadata": {},
   "outputs": [
    {
     "name": "stderr",
     "output_type": "stream",
     "text": [
      "/var/folders/0b/khj15n_j3fb41qbm7n36lnsh0000gn/T/ipykernel_55557/168323522.py:4: DeprecationWarning: LangchainLLMWrapper is deprecated and will be removed in a future version. Use the modern LLM providers instead: from ragas.llms.base import llm_factory; llm = llm_factory('gpt-4o-mini') or from ragas.llms.base import instructor_llm_factory; llm = instructor_llm_factory('openai', client=openai_client)\n",
      "  ragas_llm = LangchainLLMWrapper(ChatOpenAI(model=\"gpt-4.1-mini\"))\n",
      "/var/folders/0b/khj15n_j3fb41qbm7n36lnsh0000gn/T/ipykernel_55557/168323522.py:5: DeprecationWarning: LangchainEmbeddingsWrapper is deprecated and will be removed in a future version. Use the modern embedding providers instead: embedding_factory('openai', model='text-embedding-3-small', client=openai_client) or from ragas.embeddings import OpenAIEmbeddings, GoogleEmbeddings, HuggingFaceEmbeddings\n",
      "  ragas_embeddings = LangchainEmbeddingsWrapper(OpenAIEmbeddings(model=\"text-embedding-3-small\"))\n"
     ]
    }
   ],
   "source": [
    "from ragas.dataset_schema import SingleTurnSample\n",
    "from ragas.metrics import IDBasedContextPrecision, IDBasedContextRecall, Faithfulness, ResponseRelevancy\n",
    "\n",
    "ragas_llm = LangchainLLMWrapper(ChatOpenAI(model=\"gpt-4.1-mini\"))\n",
    "ragas_embeddings = LangchainEmbeddingsWrapper(OpenAIEmbeddings(model=\"text-embedding-3-small\"))"
   ]
  },
  {
   "cell_type": "code",
   "execution_count": 34,
   "id": "7c29f087",
   "metadata": {},
   "outputs": [],
   "source": [
    "result = rag_pipeline(\n",
    "    reference_input[\"question\"],\n",
    "    qdrant_client_\n",
    ")"
   ]
  },
  {
   "cell_type": "code",
   "execution_count": 35,
   "id": "00e41131",
   "metadata": {},
   "outputs": [
    {
     "data": {
      "text/plain": [
       "{'answer': 'Yes, there is a wireless keyboard and mouse combo available: the Wireless Keyboard and Mouse Combo (B09PYFMTBF). It features a 2.4G connection with a 2-in-1 nano USB receiver, silent click and retro round keycaps, a slim and compact design, ergonomic tilt, and compatibility with Windows computers and laptops.',\n",
       " 'question': 'Are there any wireless keyboard and mouse combos available?',\n",
       " 'retrieved_context_ids': ['B09PYFMTBF',\n",
       "  'B09PRK49JH',\n",
       "  'B0C9XFF3CT',\n",
       "  'B0BF18F6R7',\n",
       "  'B09LVX3XW2'],\n",
       " 'retrieved_context': ['Wireless Keyboard and Mouse Combo, 2.4G Retro Computer Keyboard Mouse with Round Keys, Slim Quiet Keyboard Mouse with 2 in 1 Nano USB Receiver for for Windows, Laptop, PC, Notebook-Black Grey TRUE WIRELESS & PLUG AND PLAY: This wireless keyboard mouse set can keep you from the mess of the various cables on the desktop. The keyboard needs 2 AAA batteries and the mouse needs 1 AA battery. Just plug the receiver into the USB port and it quickly establishes a solid (up to 10m) connection with your computer SILENT CLICK & RETRO ROUND KEYCAP: Silent clicking and typing allows you to focus more on your work without disturbing others. Perfect for office, school, and home use. Retro wireless keyboard with round keys featuring scissor switches that will bounce back quickly and are more suitable for typing habits PERFECT SIZE & ULTRA SLIM: This compact and ultra slim keyboard with low profile can make it easier to store and move. The touch on the keyboard is so light and requires little strength to use. Fashion and fresh appearance can bring a happy mood AUTO SLEEP MODE & ERGONOMIC TILT: Because it is a wireless combo, it will automatically enter into sleep mode in order to save power and press any key to wake it up. With ergonomic tilt, you can use it more comfortably and will not feel fatigued and painful after typing for a while. It is recommended that turn off the keyboard if you do not use it for a long time SHORTCUTS AND COMPATIBILITY: The full size keyboard includes fast-access hot keys, versatile function keys and number pad which can improve you work efficiency. Compatible with Computer, Laptop, Desktop, PC, Notebook, Windows XP / Vista / 7 / 8 / 10 or later. 【100% satisfaction and 12-month warranty】',\n",
       "  'YUNZII AKKO Neon 157 Keycaps ASA Profile Keycap Set Double-Shot PBT Keycap Gift Set for Mechanical Keyboard (157 Keys, ASA NEON) 【Stand Out Aesthetic Color Set 】 Inspired by the vivid colors of Miami sunsets, the Akko Neon keycap color is designed by the palette combines cool tones of neon cyan, turquoise blue, purple, and hot pink. With the simple and balanced keycap summery color scheme, the AKKO Neon keycap set enliven your typing and brings more excitement and energy for you. 【Double Shot 85% PBT Keycaps】The Akko Neon Keycap Set delivers in quality with ultra-durable dye-sublimated PBT plastic whose legends will never wear away. The Double-Shot PBT keycaps enhances the overall durability with water and dust resistance. 【Exquisite Reusable Gift package】 With playful functional packaging, the Akko Neon Keycap set is not only an excellent gift in any occasions, also has the significance of collection. You can collect keycaps into the exquisite keycap package. If you want your keyboard to feel like a work of art, the Akko Neon will give you different experience. 【ASA Profile】Instead of going with OEM profile or classic Cherry Profile, the ASA profil is built in high profile, sculpted. This keycaps set can work as the most basic and comfortable set that can improve your typing experience. 【157 Keys - Full Compatibility with Layouts and MX switches】157 keys offers more options to custom your different keyboard layouts, like 60%, 65%, 75&, Winkeyless, Tenkeyless, and Fullsize Keyboards. Standardized MX compatible with most MX switches.',\n",
       "  'ACEMAGICIAN Mini PC【Dual LAN】AMD Ryzen 5 5500U, 16GB DDR4 500GB NVMe PCIe3.0 SSD Win 11 Pro【4K@60Hz Triple Display】Mini Desktop Computers,Gaming PC 6C/12T, up to 4.0GHz,USB-C/BT4.0/Wi-Fi6/Dual Channel ✅【AMD RYZEN 5 5500U PROCESSOR】ACEMAGICIAN mini desktop PC is equipped with AMD Ryzen 5 5500U, 6 Cores 16 Threads, L3 Cache is up to 16MB! Base Clock 2.1GHz, Max Boost Clock can up to 4.0GHz.Equipped with Radeon Vega 7 Graphics(1800 MHz), providing more performance and smoother operation for office (PS, PR, CAD, ArcGIS and other office software) or PC gaming (LOL, GTA5, CSGO and other exciting games). ✅【16GB RAM 512GB NVMe PCIe3.0 SSD】This Mini PC Comes With 16GB DOUBLE Channel DDR4 High Frequency Memory (2x8GB, Up to 3200MHz, Expandable to 64) than 512GB Large Capacity M.2280 NGFF Hard SSD, it greatly improves the speed of launching large files and applications. If you want more storage space, you can also add a 2.5\" SSD (no included) to expand the memory upgrade storage to 2TB to suit your needs. ✅【DUAL 1G RJ45 PORTS】Fast Network Speeds: Enjoy up to 1000 Mbps data transmission speed without worrying about lagging. Ideal for working, gaming, and surfing the internet. Great for Untangle or Pfsense or as a basic office PC. ✅【4K@60HZ & TRIPLE DISPLAY】The desktop pc is integrated with AMD Radeon Vega7 1800MHz GPU, delivering powerful graphics processing power and supporting HD (4K@60Hz) for super smooth playback of 4K U HD movies, so that Windows PC every detail is perfectly reflected, for immersive viewing. 4K@60GHz triple display (1X HDIM + 1X DP + Type-C), Small Desktop Computers allow easy connection of 3 monitors, reducing waiting time and multiplying the efficiency of work, play and creation. ✅【SMALL BUT POWERFUL MICRO PC】Small Desktop Computers consumes only 15w compared to a desktop PC, pc mini\\'s size is only 5X5X1.7inch, mini and compact, it does not take up space, perfect for carrying. You can use the VESA mount to place it behind your monitor and turn it into an ALL-IN-ONE device, both beautiful and aesthetic. Mini computer greatly improves desktop space and provides a clean and tidy working environment.and will handle all the issues for you. 💕【RELIABLE LIFETIME SERVICE】1x Mini pc, 1x Mounting Bracket, 1x HDMI Cable, 1x Power Adapter, 1x Instruction Manual. and will handle all the issues for you. We provide lifetime technical support and 12-month satisfaction service, if you have any problems please feel free to contact us.',\n",
       "  'KEEPRO Pencil 2nd Generation for iPad, Magnetic Wireless Charge Tilt Sensitivity Palm Rejection Active Pen for Apple iPad Pro 11\" 4/3/2/1, iPad Pro 12.9\" 6/5/4/3, iPad Air 4/5, iPad Mini 6 [Compatibility]- ONLY compatible with iPad mini (6th generation), iPad Air (4th and 5th generation), iPad Pro 12.9-inch (3rd, 4th, 5th and 6th generation), iPad Pro 11-inch (1st, 2nd, 3rd and 4th generation), check and confirm your device before place the order (Note: If the pen doesn\\'t charge, fully charge your iPad first then try charging the pen again) [Charging and Pairs Magnetically]- Charges wirelessly, attaches and pairs magnetically to the compatible iPad, this pen is a preferable alternative to the Apple Pencil 2nd Generation [Tilt Sensitivity & Pixel Precision]- Pixel-perfect precision and industry-leading low latency with tilt sensitivity making drawing, sketching, coloring, taking notes, and marking up PDFs, as easy and natural as a real pencil [Native Palm Rejection]- Rest your palm on the screen comfortably, allowing you to write and draw on your iPad as if it\\'s an actual notebook [Hotkey for Easy Access]- Support Bluetooth connection to display battery percentage in the status bar, one-click return to the homepage, double-click to enter multi-task (long press 3s to turn On/Off) [Extra Replaceable Tips]- Come with 3 extra replaceable tips, keep extra tips for your pencil at the ready, the tip is compatible with Apple Pencil (1st generation) and Apple Pencil (2nd generation)',\n",
       "  'UPPERCASE GhostCover® Premium Ultra Thin Keyboard Cover Protector, for 2021 2022 2023 M1/M2 Pro/Max MacBook Pro 14\" 16\" (A2442 A2485 A2779 A2780), MacBook Air 13\" M2 (A2681), US (ANSI) Layout, Tinted New! Industry\\'s first tinted protector with high transparency to preserve the elegance of your MacBook, and allows keyboard backlight to shine through. Designed for 2021+ Apple Silicon M1/M2 Pro/Max MacBook Pro 14\"/16\", 2022 M2 MacBook Air 13\", US Keyboard Layout Only Industry Leading 0.12mm (0.005 in.) thickness to minimize typing interference Round cutout for Touch ID button Made with premium engineering grade TPU material. Completely washable and reusable'],\n",
       " 'similarity_score': [0.61715823, 0.2724738, 0.2635271, 0.2607971, 0.25395143]}"
      ]
     },
     "execution_count": 35,
     "metadata": {},
     "output_type": "execute_result"
    }
   ],
   "source": [
    "result"
   ]
  },
  {
   "cell_type": "code",
   "execution_count": 39,
   "id": "1eeb2df9",
   "metadata": {},
   "outputs": [],
   "source": [
    "async def ragas_faithfulness(run, example):\n",
    "    sample = SingleTurnSample(\n",
    "        user_input=run[\"question\"],\n",
    "        response=run[\"answer\"],\n",
    "        retrieved_contexts=run[\"retrieved_context\"]\n",
    "    )\n",
    "    scorer = Faithfulness(llm=ragas_llm)\n",
    "    return await scorer.single_turn_ascore(sample)"
   ]
  },
  {
   "cell_type": "code",
   "execution_count": 40,
   "id": "65c9c786",
   "metadata": {},
   "outputs": [
    {
     "data": {
      "text/plain": [
       "0.8571428571428571"
      ]
     },
     "execution_count": 40,
     "metadata": {},
     "output_type": "execute_result"
    }
   ],
   "source": [
    "await ragas_faithfulness(result, \"\")"
   ]
  },
  {
   "cell_type": "code",
   "execution_count": null,
   "id": "75d3fc73",
   "metadata": {},
   "outputs": [],
   "source": [
    "async def ragas_responce_relevancy(run, example):\n",
    "\n",
    "    sample = SingleTurnSample(\n",
    "        user_input=run[\"question\"],\n",
    "        response=run[\"answer\"],\n",
    "        retrieved_contexts=run[\"retrieved_context\"]\n",
    "    )\n",
    "    scorer = ResponseRelevancy(llm=ragas_llm, embeddings=ragas_embeddings)\n",
    "\n",
    "    return await scorer.single_turn_ascore(sample)"
   ]
  },
  {
   "cell_type": "code",
   "execution_count": 42,
   "id": "1ec3442d",
   "metadata": {},
   "outputs": [
    {
     "data": {
      "text/plain": [
       "np.float64(0.9356154996257272)"
      ]
     },
     "execution_count": 42,
     "metadata": {},
     "output_type": "execute_result"
    }
   ],
   "source": [
    "await ragas_responce_relevancy(result, \"\")"
   ]
  },
  {
   "cell_type": "code",
   "execution_count": 43,
   "id": "4ce5ca01",
   "metadata": {},
   "outputs": [],
   "source": [
    "async def ragas_context_precision_id_based(run, example):\n",
    "\n",
    "    sample = SingleTurnSample(\n",
    "        retrieved_context_ids=run[\"retrieved_context_ids\"],\n",
    "        reference_context_ids=example[\"reference_context_ids\"]\n",
    "    )\n",
    "    scorer = IDBasedContextPrecision()\n",
    "\n",
    "    return await scorer.single_turn_ascore(sample)"
   ]
  },
  {
   "cell_type": "code",
   "execution_count": 46,
   "id": "a265f025",
   "metadata": {},
   "outputs": [
    {
     "data": {
      "text/plain": [
       "0.2"
      ]
     },
     "execution_count": 46,
     "metadata": {},
     "output_type": "execute_result"
    }
   ],
   "source": [
    "await ragas_context_precision_id_based(result, reference_output)"
   ]
  },
  {
   "cell_type": "code",
   "execution_count": 47,
   "id": "0df916e1",
   "metadata": {},
   "outputs": [],
   "source": [
    "async def ragas_context_recall_id_based(run, example):\n",
    "\n",
    "    sample = SingleTurnSample(\n",
    "            retrieved_context_ids=run[\"retrieved_context_ids\"],\n",
    "            reference_context_ids=example[\"reference_context_ids\"]\n",
    "        )\n",
    "    scorer = IDBasedContextRecall()\n",
    "\n",
    "    return await scorer.single_turn_ascore(sample)"
   ]
  },
  {
   "cell_type": "code",
   "execution_count": 48,
   "id": "dd5467e7",
   "metadata": {},
   "outputs": [
    {
     "data": {
      "text/plain": [
       "1.0"
      ]
     },
     "execution_count": 48,
     "metadata": {},
     "output_type": "execute_result"
    }
   ],
   "source": [
    "await ragas_context_recall_id_based(result, reference_output)"
   ]
  },
  {
   "cell_type": "code",
   "execution_count": null,
   "id": "1c1f48c7",
   "metadata": {},
   "outputs": [],
   "source": []
  }
 ],
 "metadata": {
  "kernelspec": {
   "display_name": ".venv",
   "language": "python",
   "name": "python3"
  },
  "language_info": {
   "codemirror_mode": {
    "name": "ipython",
    "version": 3
   },
   "file_extension": ".py",
   "mimetype": "text/x-python",
   "name": "python",
   "nbconvert_exporter": "python",
   "pygments_lexer": "ipython3",
   "version": "3.12.2"
  }
 },
 "nbformat": 4,
 "nbformat_minor": 5
}
