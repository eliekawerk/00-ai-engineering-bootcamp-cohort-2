{
 "cells": [
  {
   "cell_type": "markdown",
   "id": "aa00d5b1",
   "metadata": {},
   "source": [
    "### Import Dependencies"
   ]
  },
  {
   "cell_type": "code",
   "execution_count": 1,
   "id": "b36fa982",
   "metadata": {},
   "outputs": [
    {
     "name": "stderr",
     "output_type": "stream",
     "text": [
      "/Users/eliekawerk/PycharmProjects/00-ai-engineering-bootcamp-cohort-2/.venv/lib/python3.12/site-packages/tqdm/auto.py:21: TqdmWarning: IProgress not found. Please update jupyter and ipywidgets. See https://ipywidgets.readthedocs.io/en/stable/user_install.html\n",
      "  from .autonotebook import tqdm as notebook_tqdm\n"
     ]
    }
   ],
   "source": [
    "from qdrant_client import QdrantClient\n",
    "from qdrant_client.models import Document, Prefetch, FusionQuery\n",
    "\n",
    "import openai\n",
    "import cohere"
   ]
  },
  {
   "cell_type": "code",
   "execution_count": 2,
   "id": "c773634c",
   "metadata": {},
   "outputs": [],
   "source": [
    "def get_embedding(text, model=\"text-embedding-3-small\"):\n",
    "    response = openai.embeddings.create(\n",
    "        input=[text],\n",
    "        model=model,\n",
    "    )\n",
    "    return response.data[0].embedding"
   ]
  },
  {
   "cell_type": "code",
   "execution_count": 3,
   "id": "3c3b1970",
   "metadata": {},
   "outputs": [],
   "source": [
    "def retrieve_data(query, qdrant_client, k=5):\n",
    "    query_embedding = get_embedding(query)\n",
    "    results = qdrant_client.query_points(\n",
    "        collection_name=\"Amazon-items-collection-01-hybrid-search\",\n",
    "        prefetch=[\n",
    "            Prefetch(query=query_embedding, limit=20, using=\"text-embedding-3-small\"),\n",
    "            Prefetch(\n",
    "                query=Document(text=query, model=\"qdrant/bm25\"),\n",
    "                using=\"bm25\",\n",
    "                limit=20,\n",
    "            ),\n",
    "        ],\n",
    "        query=FusionQuery(fusion=\"rrf\"),\n",
    "        limit=k,\n",
    "    )\n",
    "    retrieved_context_ids = []\n",
    "    retrieved_context = []\n",
    "    retrieved_context_ratings = []\n",
    "    similarity_scores = []\n",
    "\n",
    "    for result in results.points:\n",
    "        retrieved_context_ids.append(result.payload[\"parent_asin\"])\n",
    "        retrieved_context.append(result.payload[\"description\"])\n",
    "        retrieved_context_ratings.append(result.payload[\"average_rating\"])\n",
    "        similarity_scores.append(result.score)\n",
    "\n",
    "    return {\n",
    "        \"retrieved_context_ids\": retrieved_context_ids,\n",
    "        \"retrieved_context\": retrieved_context,\n",
    "        \"retrieved_context_ratings\": retrieved_context_ratings,\n",
    "        \"similarity_scores\": similarity_scores,\n",
    "    }"
   ]
  },
  {
   "cell_type": "code",
   "execution_count": 4,
   "id": "daae79db",
   "metadata": {},
   "outputs": [],
   "source": [
    "qdrant_client = QdrantClient(url=\"http://localhost:6333\")"
   ]
  },
  {
   "cell_type": "markdown",
   "id": "25ed00f9",
   "metadata": {},
   "source": [
    "### Retrieval"
   ]
  },
  {
   "cell_type": "code",
   "execution_count": 5,
   "id": "631a6b6a",
   "metadata": {},
   "outputs": [],
   "source": [
    "query = \"Can i get some tablets?\"\n",
    "\n",
    "results = retrieve_data(query, qdrant_client, k=5)"
   ]
  },
  {
   "cell_type": "code",
   "execution_count": 6,
   "id": "2d24f72e",
   "metadata": {},
   "outputs": [
    {
     "data": {
      "text/plain": [
       "{'retrieved_context_ids': ['B0B8NVNQKX',\n",
       "  'B09LH466KZ',\n",
       "  'B08CGM6Y1J',\n",
       "  'B0BN7WWH63',\n",
       "  'B0C78B1BTB'],\n",
       " 'retrieved_context': ['COOPERS 7 inch Kids Tablet Android 11 Tablet for Kids, 2GB RAM + 32GB ROM Toddler Tablet PC for Children, IPS Touch Screen, Dual Camera, Dual Speaker, WiFi Computer Tablet, Light Blue ✿【Good Kids tablet】This 7 inch tablet for kids with silm body and lightweight, it is easy to hold by children. Also the special design can protect the tablet well when dropping. ✿【Parental Control】Toddlers Tablet with parent mode can add or block apps. Set screen time limits. This tablet come with iwawa app. kids can get access to fun and educational games and videos. ✿【Powerful Tablets】Equipmented with quad core CPU, Android 11.0 System, 32GB Big Storage, 1024*600 IPS Screen offer a clear view. Runs Kinds of apps and game for kids smoothly. ✿【Long Lasting】Tablet for kids built with large capacity battery. For mixed use up to 6 hours. You can enjoy happy parent-child time with your kids. ✿【Best Gift】This high performance Children tablet is designed specially for kids. Best gift choice for Christmas, New Year, Easter, Birthday and school supplies. Pacakge come with 1* tablet, 1* charger, 1* cable',\n",
       "  'ALZHIJ Portable Tablet Holder Stand - Aluminum Alloy Desktop Stand Adjustable Angle&Height Tablet Stand Holder Creative Tablet Stand Compatible with Various Tablet UP to 12IN Wide (Grey) 😃MADE OF HIGH-QUALITY MATERIALS:The high-quality aluminum alloy material achieves the perfect performance of the tablet holder for bed, making the tablet wear-resistant and scratch-resistant, and has excellent corrosion resistance. The superb anodizing process increases the color and luster of the table stand and makes it richer in texture. 😃EXQUISITE APPEARANCE DESIGN:The personalized smiley face design can not only be a better decoration for this tablet stand for desk, but also provide a long-lasting heat dissipation effect for the tablet during use, making your tablet run more efficiently. The tablet stand for bed is designed with multiple non-slip silicone pads to protect the tablet from damage at all times. 😃180°FREELY ADJUSTABLE ANGLE:The tablet floor stand adopts a stable dual-axis mechanism design, which is firm and not easy to shake. The angle and height can be adjusted arbitrarily, giving you a perfect experience. Lightweight and portable adjustable stand, completely bid farewell to the troubles of traditional stand that are too heavy and make your life more convenient. 😃A WIDE RANGE OF APPLICATIONS:A tablet stand that integrates practical, beautiful, portable and other elements into one. It has a wide range of applications and can be compatible with various tablet up to 15.6 inches wide. The adjustable tablet stand can be used for work, travel, watching drama, and study, giving you a perfect experience. 😃OUR GURANTEE FOR YOU:Everything I do is based on customer satisfaction. If you are not completely satisfied with the purchased product or the product is damaged or broken in transit, please contact us in time. We will solve your problem as quickly as possible!',\n",
       "  '8in Tablet Case for Kids (12/10th Generation, 2022/2020 Release), OQDDQO Light Weight Anti Slip Shockproof Kids Friendly Case for 8 inch Tablet (Black) New Design: Specially designed for All-New tablet 8 case (8in tablet 12/10th Generation, 2022/2020 Release), Compatible with 8 Plus case. Note: Not applicable to other tablets Super protection: With a protective layer of 1.5mm thickness, it is designed for double airbags with four corners for safer and more effective protection. Comfortable touch: side non-slip texture, 3D texture on the back, high-quality EVA material, very comfortable hand. Precise incision: All Ports, buttons and speakers have precise cut-outs for Easy access. we gift to you extra two wrist ropes to prevent the tablet from accidentally falling causing damage. Warranty: If you have any questions or dissatisfaction with our products or services,please feel free to contact us we will be happy to help you.',\n",
       "  \"All-New Fire HD 8 Tablet Case, Fire Tablet 8 &8 Plus Case for Kids (Compatible 2022 & 2020 Release) - Auorld Kid-Proof Light-Weight Case for Fire HD 8 inch Tablet, Blue Tablet 8 Kids Case design specifically for all-new 8 inch Tablet and 8 Plus Tablet(12th/10th Generation, 2022/2020 Release), NOT fit for other models. Made with dense heavy duty EVA foam, material can withstand considerable wear and tear and provide extreme shock protection. Super lightweight and durable hazard free safe material perfect for kids and grownups alike PRECISE OPENINGS-Cutouts for easy access to all-new 8 inch tablet & 8 plus tablet buttons, ports, speakers and rear-camera. When installing, remove the black frame first.Raised screen bezel edges for extra protection when fall Special rear pattern with raised supports for grip and drop protection in a honey comb design. Anti-slip side grip feature with ergonomic grip supports What You Get: 1x tablet case,friendly customer service. Accessory: the tablet don't be included, NO screen protector included\",\n",
       "  \"Blackview Tab 5 Tablets, 2023 Latest Tablet Android 12, Quad-Core 5GB(3+2) RAM 64GB ROM up to 1TB TF, 8 inch Tablet HD+ IPS 1280*800, Android Tablet 5580mAh Big Battery, Dual BOX Speakers WiFi, Blue 【1280*800 IPS 8 Inch Tablet】The Blackview Tab 5 uses an HD+ screen, which is better and more eye friendly than other tablets that use 1024 x 600 resolution display. Enjoy your favorite apps like Netflix, Facebook, Hulu, Instagram, TikTok, and more through Google Play. It can gives you an ideal vision for productivity tasks, reading and entertainment. 【Enhanced Performance Tablet】📢📢📢Blackview has exclusive technology that can 🔸expand 3GB RAM to 5GB (2GB virtual memory)🔸on this android tablet, greatly improving the performance and speed, and no longer stuttering when running several apps at once. It also has an TF card slot that can be plugged into 1TB of expanded memory, with the 64GB ROM, this tablet can store lots of music, pictures, videos. 【Latest Android 12 tablet+DOKE O_P 3.0 GO】Android 12 has enhanced security and privacy features, as well as optimized the notification bar settings and Hotkeys for greater security and convenience. DOKE OS_P 3.0 GO is designed for blackview tablets. It makes the interface more beautiful based on Android 12, adding split screen, screen shot, screen recoard,dark theme, etc. 【5580mAh All day Battery Life Google Tablet】Extend your joy with extended battery life. Blackview Tab 5 never runs out of battery to enjoy reading, browsing the web, watching videos, and listening to music at home and on-the-go. We also added a power-saving mode, so it can lasts longer than other tablets which have 3500-5000mah batteries. 【Great fit for Family】Blackview Tab 5 tablet has parental controls mode, parents can create child profiles to limit screen time, set educational goals, and manage content with easy-to-use parental controls. It's Google GMS Certified, so it's also a great gift for your parents, Keep in touch with them through this android tablet. Father‘s day gift 【2 years Warranty】This android 8 inch tablet have 2 years guarantee policy and 30 days free return. In the unlikely event that the product is defective, please contact us through your Amazon purchase history. We will do our best to satisfy our customers.\"],\n",
       " 'retrieved_context_ratings': [3.6, 4.5, 4.6, 4.5, 4.2],\n",
       " 'similarity_scores': [0.625, 0.5833333, 0.38333336, 0.33333334, 0.32142857]}"
      ]
     },
     "execution_count": 6,
     "metadata": {},
     "output_type": "execute_result"
    }
   ],
   "source": [
    "results"
   ]
  },
  {
   "cell_type": "markdown",
   "id": "1e0a7f77",
   "metadata": {},
   "source": [
    "### Rerank based on Retrieved Context"
   ]
  },
  {
   "cell_type": "code",
   "execution_count": 7,
   "id": "a3c04b6d",
   "metadata": {},
   "outputs": [],
   "source": [
    "cohere_client = cohere.ClientV2()"
   ]
  },
  {
   "cell_type": "code",
   "execution_count": 8,
   "id": "c5ad6f90",
   "metadata": {},
   "outputs": [],
   "source": [
    "to_rerank = results[\"retrieved_context\"]"
   ]
  },
  {
   "cell_type": "code",
   "execution_count": 9,
   "id": "971d204c",
   "metadata": {},
   "outputs": [],
   "source": [
    "response = cohere_client.rerank(\n",
    "    model=\"rerank-v3.5\", query=query, documents=to_rerank, top_n=20\n",
    ")"
   ]
  },
  {
   "cell_type": "code",
   "execution_count": null,
   "id": "8e8fa01b",
   "metadata": {},
   "outputs": [],
   "source": [
    "reranked_results = [to_rerank[results.index] for results in response.results]"
   ]
  },
  {
   "cell_type": "code",
   "execution_count": 13,
   "id": "a8abf6be",
   "metadata": {},
   "outputs": [
    {
     "data": {
      "text/plain": [
       "['COOPERS 7 inch Kids Tablet Android 11 Tablet for Kids, 2GB RAM + 32GB ROM Toddler Tablet PC for Children, IPS Touch Screen, Dual Camera, Dual Speaker, WiFi Computer Tablet, Light Blue ✿【Good Kids tablet】This 7 inch tablet for kids with silm body and lightweight, it is easy to hold by children. Also the special design can protect the tablet well when dropping. ✿【Parental Control】Toddlers Tablet with parent mode can add or block apps. Set screen time limits. This tablet come with iwawa app. kids can get access to fun and educational games and videos. ✿【Powerful Tablets】Equipmented with quad core CPU, Android 11.0 System, 32GB Big Storage, 1024*600 IPS Screen offer a clear view. Runs Kinds of apps and game for kids smoothly. ✿【Long Lasting】Tablet for kids built with large capacity battery. For mixed use up to 6 hours. You can enjoy happy parent-child time with your kids. ✿【Best Gift】This high performance Children tablet is designed specially for kids. Best gift choice for Christmas, New Year, Easter, Birthday and school supplies. Pacakge come with 1* tablet, 1* charger, 1* cable',\n",
       " 'ALZHIJ Portable Tablet Holder Stand - Aluminum Alloy Desktop Stand Adjustable Angle&Height Tablet Stand Holder Creative Tablet Stand Compatible with Various Tablet UP to 12IN Wide (Grey) 😃MADE OF HIGH-QUALITY MATERIALS:The high-quality aluminum alloy material achieves the perfect performance of the tablet holder for bed, making the tablet wear-resistant and scratch-resistant, and has excellent corrosion resistance. The superb anodizing process increases the color and luster of the table stand and makes it richer in texture. 😃EXQUISITE APPEARANCE DESIGN:The personalized smiley face design can not only be a better decoration for this tablet stand for desk, but also provide a long-lasting heat dissipation effect for the tablet during use, making your tablet run more efficiently. The tablet stand for bed is designed with multiple non-slip silicone pads to protect the tablet from damage at all times. 😃180°FREELY ADJUSTABLE ANGLE:The tablet floor stand adopts a stable dual-axis mechanism design, which is firm and not easy to shake. The angle and height can be adjusted arbitrarily, giving you a perfect experience. Lightweight and portable adjustable stand, completely bid farewell to the troubles of traditional stand that are too heavy and make your life more convenient. 😃A WIDE RANGE OF APPLICATIONS:A tablet stand that integrates practical, beautiful, portable and other elements into one. It has a wide range of applications and can be compatible with various tablet up to 15.6 inches wide. The adjustable tablet stand can be used for work, travel, watching drama, and study, giving you a perfect experience. 😃OUR GURANTEE FOR YOU:Everything I do is based on customer satisfaction. If you are not completely satisfied with the purchased product or the product is damaged or broken in transit, please contact us in time. We will solve your problem as quickly as possible!',\n",
       " '8in Tablet Case for Kids (12/10th Generation, 2022/2020 Release), OQDDQO Light Weight Anti Slip Shockproof Kids Friendly Case for 8 inch Tablet (Black) New Design: Specially designed for All-New tablet 8 case (8in tablet 12/10th Generation, 2022/2020 Release), Compatible with 8 Plus case. Note: Not applicable to other tablets Super protection: With a protective layer of 1.5mm thickness, it is designed for double airbags with four corners for safer and more effective protection. Comfortable touch: side non-slip texture, 3D texture on the back, high-quality EVA material, very comfortable hand. Precise incision: All Ports, buttons and speakers have precise cut-outs for Easy access. we gift to you extra two wrist ropes to prevent the tablet from accidentally falling causing damage. Warranty: If you have any questions or dissatisfaction with our products or services,please feel free to contact us we will be happy to help you.',\n",
       " \"All-New Fire HD 8 Tablet Case, Fire Tablet 8 &8 Plus Case for Kids (Compatible 2022 & 2020 Release) - Auorld Kid-Proof Light-Weight Case for Fire HD 8 inch Tablet, Blue Tablet 8 Kids Case design specifically for all-new 8 inch Tablet and 8 Plus Tablet(12th/10th Generation, 2022/2020 Release), NOT fit for other models. Made with dense heavy duty EVA foam, material can withstand considerable wear and tear and provide extreme shock protection. Super lightweight and durable hazard free safe material perfect for kids and grownups alike PRECISE OPENINGS-Cutouts for easy access to all-new 8 inch tablet & 8 plus tablet buttons, ports, speakers and rear-camera. When installing, remove the black frame first.Raised screen bezel edges for extra protection when fall Special rear pattern with raised supports for grip and drop protection in a honey comb design. Anti-slip side grip feature with ergonomic grip supports What You Get: 1x tablet case,friendly customer service. Accessory: the tablet don't be included, NO screen protector included\",\n",
       " \"Blackview Tab 5 Tablets, 2023 Latest Tablet Android 12, Quad-Core 5GB(3+2) RAM 64GB ROM up to 1TB TF, 8 inch Tablet HD+ IPS 1280*800, Android Tablet 5580mAh Big Battery, Dual BOX Speakers WiFi, Blue 【1280*800 IPS 8 Inch Tablet】The Blackview Tab 5 uses an HD+ screen, which is better and more eye friendly than other tablets that use 1024 x 600 resolution display. Enjoy your favorite apps like Netflix, Facebook, Hulu, Instagram, TikTok, and more through Google Play. It can gives you an ideal vision for productivity tasks, reading and entertainment. 【Enhanced Performance Tablet】📢📢📢Blackview has exclusive technology that can 🔸expand 3GB RAM to 5GB (2GB virtual memory)🔸on this android tablet, greatly improving the performance and speed, and no longer stuttering when running several apps at once. It also has an TF card slot that can be plugged into 1TB of expanded memory, with the 64GB ROM, this tablet can store lots of music, pictures, videos. 【Latest Android 12 tablet+DOKE O_P 3.0 GO】Android 12 has enhanced security and privacy features, as well as optimized the notification bar settings and Hotkeys for greater security and convenience. DOKE OS_P 3.0 GO is designed for blackview tablets. It makes the interface more beautiful based on Android 12, adding split screen, screen shot, screen recoard,dark theme, etc. 【5580mAh All day Battery Life Google Tablet】Extend your joy with extended battery life. Blackview Tab 5 never runs out of battery to enjoy reading, browsing the web, watching videos, and listening to music at home and on-the-go. We also added a power-saving mode, so it can lasts longer than other tablets which have 3500-5000mah batteries. 【Great fit for Family】Blackview Tab 5 tablet has parental controls mode, parents can create child profiles to limit screen time, set educational goals, and manage content with easy-to-use parental controls. It's Google GMS Certified, so it's also a great gift for your parents, Keep in touch with them through this android tablet. Father‘s day gift 【2 years Warranty】This android 8 inch tablet have 2 years guarantee policy and 30 days free return. In the unlikely event that the product is defective, please contact us through your Amazon purchase history. We will do our best to satisfy our customers.\"]"
      ]
     },
     "execution_count": 13,
     "metadata": {},
     "output_type": "execute_result"
    }
   ],
   "source": [
    "results[\"retrieved_context\"]"
   ]
  },
  {
   "cell_type": "code",
   "execution_count": 12,
   "id": "52494bea",
   "metadata": {},
   "outputs": [
    {
     "data": {
      "text/plain": [
       "['COOPERS 7 inch Kids Tablet Android 11 Tablet for Kids, 2GB RAM + 32GB ROM Toddler Tablet PC for Children, IPS Touch Screen, Dual Camera, Dual Speaker, WiFi Computer Tablet, Light Blue ✿【Good Kids tablet】This 7 inch tablet for kids with silm body and lightweight, it is easy to hold by children. Also the special design can protect the tablet well when dropping. ✿【Parental Control】Toddlers Tablet with parent mode can add or block apps. Set screen time limits. This tablet come with iwawa app. kids can get access to fun and educational games and videos. ✿【Powerful Tablets】Equipmented with quad core CPU, Android 11.0 System, 32GB Big Storage, 1024*600 IPS Screen offer a clear view. Runs Kinds of apps and game for kids smoothly. ✿【Long Lasting】Tablet for kids built with large capacity battery. For mixed use up to 6 hours. You can enjoy happy parent-child time with your kids. ✿【Best Gift】This high performance Children tablet is designed specially for kids. Best gift choice for Christmas, New Year, Easter, Birthday and school supplies. Pacakge come with 1* tablet, 1* charger, 1* cable',\n",
       " \"Blackview Tab 5 Tablets, 2023 Latest Tablet Android 12, Quad-Core 5GB(3+2) RAM 64GB ROM up to 1TB TF, 8 inch Tablet HD+ IPS 1280*800, Android Tablet 5580mAh Big Battery, Dual BOX Speakers WiFi, Blue 【1280*800 IPS 8 Inch Tablet】The Blackview Tab 5 uses an HD+ screen, which is better and more eye friendly than other tablets that use 1024 x 600 resolution display. Enjoy your favorite apps like Netflix, Facebook, Hulu, Instagram, TikTok, and more through Google Play. It can gives you an ideal vision for productivity tasks, reading and entertainment. 【Enhanced Performance Tablet】📢📢📢Blackview has exclusive technology that can 🔸expand 3GB RAM to 5GB (2GB virtual memory)🔸on this android tablet, greatly improving the performance and speed, and no longer stuttering when running several apps at once. It also has an TF card slot that can be plugged into 1TB of expanded memory, with the 64GB ROM, this tablet can store lots of music, pictures, videos. 【Latest Android 12 tablet+DOKE O_P 3.0 GO】Android 12 has enhanced security and privacy features, as well as optimized the notification bar settings and Hotkeys for greater security and convenience. DOKE OS_P 3.0 GO is designed for blackview tablets. It makes the interface more beautiful based on Android 12, adding split screen, screen shot, screen recoard,dark theme, etc. 【5580mAh All day Battery Life Google Tablet】Extend your joy with extended battery life. Blackview Tab 5 never runs out of battery to enjoy reading, browsing the web, watching videos, and listening to music at home and on-the-go. We also added a power-saving mode, so it can lasts longer than other tablets which have 3500-5000mah batteries. 【Great fit for Family】Blackview Tab 5 tablet has parental controls mode, parents can create child profiles to limit screen time, set educational goals, and manage content with easy-to-use parental controls. It's Google GMS Certified, so it's also a great gift for your parents, Keep in touch with them through this android tablet. Father‘s day gift 【2 years Warranty】This android 8 inch tablet have 2 years guarantee policy and 30 days free return. In the unlikely event that the product is defective, please contact us through your Amazon purchase history. We will do our best to satisfy our customers.\",\n",
       " 'ALZHIJ Portable Tablet Holder Stand - Aluminum Alloy Desktop Stand Adjustable Angle&Height Tablet Stand Holder Creative Tablet Stand Compatible with Various Tablet UP to 12IN Wide (Grey) 😃MADE OF HIGH-QUALITY MATERIALS:The high-quality aluminum alloy material achieves the perfect performance of the tablet holder for bed, making the tablet wear-resistant and scratch-resistant, and has excellent corrosion resistance. The superb anodizing process increases the color and luster of the table stand and makes it richer in texture. 😃EXQUISITE APPEARANCE DESIGN:The personalized smiley face design can not only be a better decoration for this tablet stand for desk, but also provide a long-lasting heat dissipation effect for the tablet during use, making your tablet run more efficiently. The tablet stand for bed is designed with multiple non-slip silicone pads to protect the tablet from damage at all times. 😃180°FREELY ADJUSTABLE ANGLE:The tablet floor stand adopts a stable dual-axis mechanism design, which is firm and not easy to shake. The angle and height can be adjusted arbitrarily, giving you a perfect experience. Lightweight and portable adjustable stand, completely bid farewell to the troubles of traditional stand that are too heavy and make your life more convenient. 😃A WIDE RANGE OF APPLICATIONS:A tablet stand that integrates practical, beautiful, portable and other elements into one. It has a wide range of applications and can be compatible with various tablet up to 15.6 inches wide. The adjustable tablet stand can be used for work, travel, watching drama, and study, giving you a perfect experience. 😃OUR GURANTEE FOR YOU:Everything I do is based on customer satisfaction. If you are not completely satisfied with the purchased product or the product is damaged or broken in transit, please contact us in time. We will solve your problem as quickly as possible!',\n",
       " \"All-New Fire HD 8 Tablet Case, Fire Tablet 8 &8 Plus Case for Kids (Compatible 2022 & 2020 Release) - Auorld Kid-Proof Light-Weight Case for Fire HD 8 inch Tablet, Blue Tablet 8 Kids Case design specifically for all-new 8 inch Tablet and 8 Plus Tablet(12th/10th Generation, 2022/2020 Release), NOT fit for other models. Made with dense heavy duty EVA foam, material can withstand considerable wear and tear and provide extreme shock protection. Super lightweight and durable hazard free safe material perfect for kids and grownups alike PRECISE OPENINGS-Cutouts for easy access to all-new 8 inch tablet & 8 plus tablet buttons, ports, speakers and rear-camera. When installing, remove the black frame first.Raised screen bezel edges for extra protection when fall Special rear pattern with raised supports for grip and drop protection in a honey comb design. Anti-slip side grip feature with ergonomic grip supports What You Get: 1x tablet case,friendly customer service. Accessory: the tablet don't be included, NO screen protector included\",\n",
       " '8in Tablet Case for Kids (12/10th Generation, 2022/2020 Release), OQDDQO Light Weight Anti Slip Shockproof Kids Friendly Case for 8 inch Tablet (Black) New Design: Specially designed for All-New tablet 8 case (8in tablet 12/10th Generation, 2022/2020 Release), Compatible with 8 Plus case. Note: Not applicable to other tablets Super protection: With a protective layer of 1.5mm thickness, it is designed for double airbags with four corners for safer and more effective protection. Comfortable touch: side non-slip texture, 3D texture on the back, high-quality EVA material, very comfortable hand. Precise incision: All Ports, buttons and speakers have precise cut-outs for Easy access. we gift to you extra two wrist ropes to prevent the tablet from accidentally falling causing damage. Warranty: If you have any questions or dissatisfaction with our products or services,please feel free to contact us we will be happy to help you.']"
      ]
     },
     "execution_count": 12,
     "metadata": {},
     "output_type": "execute_result"
    }
   ],
   "source": [
    "reranked_results"
   ]
  }
 ],
 "metadata": {
  "kernelspec": {
   "display_name": ".venv",
   "language": "python",
   "name": "python3"
  },
  "language_info": {
   "codemirror_mode": {
    "name": "ipython",
    "version": 3
   },
   "file_extension": ".py",
   "mimetype": "text/x-python",
   "name": "python",
   "nbconvert_exporter": "python",
   "pygments_lexer": "ipython3",
   "version": "3.12.2"
  }
 },
 "nbformat": 4,
 "nbformat_minor": 5
}
