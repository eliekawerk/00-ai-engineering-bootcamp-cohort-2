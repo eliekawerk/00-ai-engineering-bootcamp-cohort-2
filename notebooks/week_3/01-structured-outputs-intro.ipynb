{
 "cells": [
  {
   "cell_type": "markdown",
   "id": "6cf22110",
   "metadata": {},
   "source": [
    "### Import Dependencies"
   ]
  },
  {
   "cell_type": "code",
   "execution_count": 1,
   "id": "dbdbd11e",
   "metadata": {},
   "outputs": [],
   "source": [
    "import openai\n",
    "import instructor\n",
    "from pydantic import BaseModel, Field\n",
    "from qdrant_client import QdrantClient"
   ]
  },
  {
   "cell_type": "markdown",
   "id": "88622ef0",
   "metadata": {},
   "source": [
    "#### Mock Example"
   ]
  },
  {
   "cell_type": "code",
   "execution_count": 2,
   "id": "9b47dc5d",
   "metadata": {},
   "outputs": [],
   "source": [
    "prompt = \"\"\"\n",
    "You are a helpful assistant.\n",
    "Return an answer to the question.\n",
    "The question is: What's your name?\n",
    "\"\"\""
   ]
  },
  {
   "cell_type": "code",
   "execution_count": 3,
   "id": "443ef663",
   "metadata": {},
   "outputs": [],
   "source": [
    "response = openai.chat.completions.create(\n",
    "    model=\"gpt-4.1-mini\", messages=[{\"role\": \"system\", \"content\": prompt}]\n",
    ")"
   ]
  },
  {
   "cell_type": "code",
   "execution_count": 4,
   "id": "0f5fa95f",
   "metadata": {},
   "outputs": [
    {
     "name": "stdout",
     "output_type": "stream",
     "text": [
      "I’m ChatGPT. How can I assist you today?\n"
     ]
    }
   ],
   "source": [
    "print(response.choices[0].message.content)"
   ]
  },
  {
   "cell_type": "markdown",
   "id": "71be21dc",
   "metadata": {},
   "source": [
    "#### Add Instructor - Structured Outputs"
   ]
  },
  {
   "cell_type": "code",
   "execution_count": 3,
   "id": "1032569f",
   "metadata": {},
   "outputs": [],
   "source": [
    "client = instructor.from_openai(openai.OpenAI())"
   ]
  },
  {
   "cell_type": "code",
   "execution_count": 4,
   "id": "c1546f81",
   "metadata": {},
   "outputs": [],
   "source": [
    "class RAGGenerationResponse(BaseModel):\n",
    "    answer: str = Field(\"Answer to the question\")"
   ]
  },
  {
   "cell_type": "code",
   "execution_count": 7,
   "id": "25014964",
   "metadata": {},
   "outputs": [],
   "source": [
    "response, raw_response = client.chat.completions.create_with_completion(\n",
    "    model=\"gpt-4.1-mini\",\n",
    "    messages=[{\"role\": \"system\", \"content\": prompt}],\n",
    "    response_model=RAGGenerationResponse,\n",
    ")"
   ]
  },
  {
   "cell_type": "code",
   "execution_count": 8,
   "id": "e1b0551a",
   "metadata": {},
   "outputs": [
    {
     "data": {
      "text/plain": [
       "RAGGenerationResponse(answer='I am ChatGPT, your AI assistant. How can I help you today?')"
      ]
     },
     "execution_count": 8,
     "metadata": {},
     "output_type": "execute_result"
    }
   ],
   "source": [
    "response"
   ]
  },
  {
   "cell_type": "code",
   "execution_count": 9,
   "id": "8b0237ef",
   "metadata": {},
   "outputs": [
    {
     "data": {
      "text/plain": [
       "{'answer': 'I am ChatGPT, your AI assistant. How can I help you today?'}"
      ]
     },
     "execution_count": 9,
     "metadata": {},
     "output_type": "execute_result"
    }
   ],
   "source": [
    "response.model_dump()"
   ]
  },
  {
   "cell_type": "markdown",
   "id": "80977e36",
   "metadata": {},
   "source": [
    "### RAG Example"
   ]
  },
  {
   "cell_type": "code",
   "execution_count": 2,
   "id": "75b39d1d",
   "metadata": {},
   "outputs": [],
   "source": [
    "import sys\n",
    "\n",
    "sys.path.insert(0, \"../..\")\n",
    "\n",
    "from src.api.rag.retrieval_generation import (\n",
    "    rag_pipeline,\n",
    ")"
   ]
  },
  {
   "cell_type": "code",
   "execution_count": 3,
   "id": "044f5642",
   "metadata": {},
   "outputs": [],
   "source": [
    "qdrant_client_ = QdrantClient(url=\"http://localhost:6333\")\n",
    "\n",
    "output = rag_pipeline(\"Can i get a tablet?\", qdrant_client_)"
   ]
  },
  {
   "cell_type": "code",
   "execution_count": 4,
   "id": "6a85fedf",
   "metadata": {},
   "outputs": [
    {
     "data": {
      "text/plain": [
       "{'answer': RAGGenerationResponse(answer='There are no tablets available in the current selection of products. However, there are accessories compatible with tablets such as iPad cases and stylus pens, but no standalone tablets are listed.'),\n",
       " 'question': 'Can i get a tablet?',\n",
       " 'retrieved_context_ids': ['B0BF18F6R7',\n",
       "  'B08BX2L8F2',\n",
       "  'B09QGNB537',\n",
       "  'B0C9XFF3CT',\n",
       "  'B0BG5L2YLC'],\n",
       " 'retrieved_context': ['KEEPRO Pencil 2nd Generation for iPad, Magnetic Wireless Charge Tilt Sensitivity Palm Rejection Active Pen for Apple iPad Pro 11\" 4/3/2/1, iPad Pro 12.9\" 6/5/4/3, iPad Air 4/5, iPad Mini 6 [Compatibility]- ONLY compatible with iPad mini (6th generation), iPad Air (4th and 5th generation), iPad Pro 12.9-inch (3rd, 4th, 5th and 6th generation), iPad Pro 11-inch (1st, 2nd, 3rd and 4th generation), check and confirm your device before place the order (Note: If the pen doesn\\'t charge, fully charge your iPad first then try charging the pen again) [Charging and Pairs Magnetically]- Charges wirelessly, attaches and pairs magnetically to the compatible iPad, this pen is a preferable alternative to the Apple Pencil 2nd Generation [Tilt Sensitivity & Pixel Precision]- Pixel-perfect precision and industry-leading low latency with tilt sensitivity making drawing, sketching, coloring, taking notes, and marking up PDFs, as easy and natural as a real pencil [Native Palm Rejection]- Rest your palm on the screen comfortably, allowing you to write and draw on your iPad as if it\\'s an actual notebook [Hotkey for Easy Access]- Support Bluetooth connection to display battery percentage in the status bar, one-click return to the homepage, double-click to enter multi-task (long press 3s to turn On/Off) [Extra Replaceable Tips]- Come with 3 extra replaceable tips, keep extra tips for your pencil at the ready, the tip is compatible with Apple Pencil (1st generation) and Apple Pencil (2nd generation)',\n",
       "  'Garmin 890 8-inch RV GPS Navigator Bundle with Car Charger Expander and Hard Shell EVA Case for Tablets/GPS (010-02425-00) Built in Wi-Fi connectivity makes updating your maps of North America a breeze. This large 8\" GPS navigator features a bright, high-resolution edge-to-edge touchscreen display so you can easily see important information Built-in Wi-Fi connectivity makes it easy to keep your maps and software up to date without using a computer IN THE BOX: RV 890 | Vehicle suction cup with powered magnetic mount | Screw down mount | 1\" ball adapter with AMPS plate | Vehicle power cable | USB cable | Documentation | Limited Warranty BUNDLE INCLUDES: Garmin 890 8-inch RV GPS Navigator | Hard Shell EVA Case for Tablets/GPS | Dual DC12V/24V Electronic Multifunction Car Socket Cigarette Lighter Expander with USB Ports',\n",
       "  'ESR for iPad Air 5th Generation Case 2022 / iPad Air 4th Case 2020, Rugged Protection, Detachable Magnetic Cover, Adjustable Portrait/Landscape Stand with Raised Screen View, 8 Stand Angles, Black Compatibility: only compatible with iPad Air 5th Generation 2022 and iPad Air 4th Generation 2020; not compatible with any other iPad models Detachable Magnetic Cover: keep your screen covered, fold it up into a stand for viewing/writing/portrait modes, or remove it for better ergonomics while gaming Rugged Protection: rugged shock-resistant polymer provides robust protection against scratches and drops Stable and Adjustable Stand: magnetically locks to 8 different stand positions that stay stable in bed, on the couch, or anywhere else Stand Your Way: raised screen view, portrait mode, and magnetic fridge mounting let you comfortably view and use your iPad in the office, kitchen, and beyond Complete Customer Support: detailed setup videos and FAQs, comprehensive 12-month warranty, lifetime support, and personalized help',\n",
       "  'ACEMAGICIAN Mini PC【Dual LAN】AMD Ryzen 5 5500U, 16GB DDR4 500GB NVMe PCIe3.0 SSD Win 11 Pro【4K@60Hz Triple Display】Mini Desktop Computers,Gaming PC 6C/12T, up to 4.0GHz,USB-C/BT4.0/Wi-Fi6/Dual Channel ✅【AMD RYZEN 5 5500U PROCESSOR】ACEMAGICIAN mini desktop PC is equipped with AMD Ryzen 5 5500U, 6 Cores 16 Threads, L3 Cache is up to 16MB! Base Clock 2.1GHz, Max Boost Clock can up to 4.0GHz.Equipped with Radeon Vega 7 Graphics(1800 MHz), providing more performance and smoother operation for office (PS, PR, CAD, ArcGIS and other office software) or PC gaming (LOL, GTA5, CSGO and other exciting games). ✅【16GB RAM 512GB NVMe PCIe3.0 SSD】This Mini PC Comes With 16GB DOUBLE Channel DDR4 High Frequency Memory (2x8GB, Up to 3200MHz, Expandable to 64) than 512GB Large Capacity M.2280 NGFF Hard SSD, it greatly improves the speed of launching large files and applications. If you want more storage space, you can also add a 2.5\" SSD (no included) to expand the memory upgrade storage to 2TB to suit your needs. ✅【DUAL 1G RJ45 PORTS】Fast Network Speeds: Enjoy up to 1000 Mbps data transmission speed without worrying about lagging. Ideal for working, gaming, and surfing the internet. Great for Untangle or Pfsense or as a basic office PC. ✅【4K@60HZ & TRIPLE DISPLAY】The desktop pc is integrated with AMD Radeon Vega7 1800MHz GPU, delivering powerful graphics processing power and supporting HD (4K@60Hz) for super smooth playback of 4K U HD movies, so that Windows PC every detail is perfectly reflected, for immersive viewing. 4K@60GHz triple display (1X HDIM + 1X DP + Type-C), Small Desktop Computers allow easy connection of 3 monitors, reducing waiting time and multiplying the efficiency of work, play and creation. ✅【SMALL BUT POWERFUL MICRO PC】Small Desktop Computers consumes only 15w compared to a desktop PC, pc mini\\'s size is only 5X5X1.7inch, mini and compact, it does not take up space, perfect for carrying. You can use the VESA mount to place it behind your monitor and turn it into an ALL-IN-ONE device, both beautiful and aesthetic. Mini computer greatly improves desktop space and provides a clean and tidy working environment.and will handle all the issues for you. 💕【RELIABLE LIFETIME SERVICE】1x Mini pc, 1x Mounting Bracket, 1x HDMI Cable, 1x Power Adapter, 1x Instruction Manual. and will handle all the issues for you. We provide lifetime technical support and 12-month satisfaction service, if you have any problems please feel free to contact us.',\n",
       "  'Wireless Digital Microscope, SKYBASIC 50X-1000X Magnification WiFi USB HD Portable Handheld Pocket Microscopes Camera with 8 Adjustable LED Compatible with iPhone iPad Android Windows Mac Computer ☁【WiFi & USB Microscope】This is a wireless portable digital microscope with a WIFI hotspot, designed to connect to Android or iOS mobile phones and tablets, and also supports USB to connect to Windows or Mac computers for easy use in different fields. ☁【HD Image & LCD Screen Design】2 million pixel high-resolution images microscope, 1920*1080P high-definition image quality for smartphones, 1280*720P for computers, the larger the screen, the better the view. The unique LCD screen design, in the case of wifi connection and charging, emits blue and green indicators (red light is displayed when the battery is low), clearly knowing the battery status and wifi connection, and the user experience is more high-end. ☁【8 LED Light & Easy to Focus】8 led lights and a soft light design, provide enough light and the best clarity, long-term observation will not hurt the eyes. The 360-degree rotating focus wheel allows you to focus quickly and use it anywhere. Note: The best focal length for microscope imaging is 2-60mm, please rotate the focusing wheel left and right when observing blur. ☁【Take Pictures and Videos】Not just a microscope, you can zoom in and out, but also take photos and videos with one click. It is easy to capture excellent microscopic details, and amazing wonderful moments can be saved in the folder of the device and viewed anytime, anywhere, and it can be very useful in recording the change cycle of the observed object. (Note: The take photo and zoom in and out buttons on the microscope body only apply to the WIFI connection.) ☁【Portable Pocket Microscope】Lightweight and compact, with a cylindrical body design, it can stay upright on flat ground at any time. With a portable bracelet, it is easy to carry around. This is a great option for taking kids outdoors to explore, as a teaching tool, or for anyone interested in learning about skin, hair, plants, insects, jewelry, and coins. Note: This microscope is not a traditional microscope and is not suitable for professional biologists! ☁【WIFI connection for Android and IOS】1. Download the \"MAX-VIEW\" software from Google Play or APP Store. 2. Press and hold the power button to turn on the microscope. 3. Open the APP interface and randomly enter into the settings to find \"MAX-VIEW\" (no password).4. Click to return to the software after the connection is successful, and you can open your microscopic world, which is very convenient to use (the blue light of the microscope display is always on after connection) ☁【Friendly Multi-function APP】After downloading the “MAX-VIEW” app, there will be a connection video and FAQ analysis, a unique horizontal screen and split screen switching function, multi-angle observation, screen lock function to prevent accidental touch during operation, mirroring and lighting adjustment, you can also check the power status in real-time, go out It is more convenient to carry, and the powerful APP makes the microscope and equipment perfectly connected, and the use is smoother. ☁【USB Connection for Computer】1.For the win 10/11 system, directly search for the software \"Windows Camera\" 2. For win7/8/, please download \"AMCAP\" to start using. 3. For MacOSx11.0 or later, please use the bundled software Photo Booth or Quick Time of Macbooks directly Player. 4. Note: Please disable the default laptop camera in Windows! And you have to change the camera\\'s privacy settings, which need to be changed to allow access. ☁【What You Will Get】1x microscope, 1x USB cable (adapter not included), 1x user manual, 1-year return service for quality problems, 100% satisfied 24 hours professional after-sales service. ☁【Great Compatibility】This handheld digital microscope is compatible with most devices. Mobile phones: Android6.0+, IOS9.0+. computers: Windows vista7/8/10/11, MAC OS x11.0, widely used in various fields.'],\n",
       " 'similarity_score': [0.28531384,\n",
       "  0.27927354,\n",
       "  0.2788857,\n",
       "  0.26657665,\n",
       "  0.2654466],\n",
       " 'retrieved_context_ratings': [4.3, 4.3, 4.8, 4.4, 4.5]}"
      ]
     },
     "execution_count": 4,
     "metadata": {},
     "output_type": "execute_result"
    }
   ],
   "source": [
    "output"
   ]
  }
 ],
 "metadata": {
  "kernelspec": {
   "display_name": ".venv",
   "language": "python",
   "name": "python3"
  },
  "language_info": {
   "codemirror_mode": {
    "name": "ipython",
    "version": 3
   },
   "file_extension": ".py",
   "mimetype": "text/x-python",
   "name": "python",
   "nbconvert_exporter": "python",
   "pygments_lexer": "ipython3",
   "version": "3.12.2"
  }
 },
 "nbformat": 4,
 "nbformat_minor": 5
}
