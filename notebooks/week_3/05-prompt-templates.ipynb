{
 "cells": [
  {
   "cell_type": "markdown",
   "id": "e7315b9e",
   "metadata": {},
   "source": [
    "### Imports"
   ]
  },
  {
   "cell_type": "code",
   "execution_count": 2,
   "id": "f93d8089",
   "metadata": {},
   "outputs": [],
   "source": [
    "import yaml\n",
    "from jinja2 import Template\n",
    "from langsmith import Client"
   ]
  },
  {
   "cell_type": "code",
   "execution_count": 1,
   "id": "12d3644f",
   "metadata": {},
   "outputs": [],
   "source": [
    "def build_prompt(preprocessed_context, question):\n",
    "    prompt = f\"\"\"\n",
    "    You are a shopping assistant that can answer questions about the products in stock.\n",
    "\n",
    "    You will be given a question and a list of context.\n",
    "\n",
    "    Instructions:\n",
    "    - You need to answer the question based on the provided context only.\n",
    "    - Never use word context and refer to it as the available products.\n",
    "    - Also as an output you need to provide:\n",
    "        * the answer to the question based on the provided context\n",
    "        * the list of the product ids of the chunks used to answer the questions. Only return the ones used\n",
    "        in the answer\n",
    "        * Short description (1-2 sentences) of the items based on the description used in the context\n",
    "    - The answer to the question should contain detailed information about the product and returned with detailed\n",
    "    specifications in bullet points.\n",
    "\n",
    "    Context:\n",
    "    {preprocessed_context}\n",
    "\n",
    "    Question:\n",
    "    {question}\n",
    "    \"\"\"\n",
    "\n",
    "    return prompt"
   ]
  },
  {
   "cell_type": "code",
   "execution_count": 3,
   "id": "f60950d6",
   "metadata": {},
   "outputs": [],
   "source": [
    "preprocessed_context = \"- a \\n -b\"\n",
    "question = \"what is a?\"\n",
    "\n",
    "prompt = f\"\"\"\n",
    "You are a shopping assistant that can answer questions about the products in stock.\n",
    "\n",
    "You will be given a question and a list of context.\n",
    "\n",
    "Instructions:\n",
    "- You need to answer the question based on the provided context only.\n",
    "- Never use word context and refer to it as the available products.\n",
    "- Also as an output you need to provide:\n",
    "    * the answer to the question based on the provided context\n",
    "    * the list of the product ids of the chunks used to answer the questions. Only return the ones used\n",
    "    in the answer\n",
    "    * Short description (1-2 sentences) of the items based on the description used in the context\n",
    "- The answer to the question should contain detailed information about the product and returned with detailed\n",
    "specifications in bullet points.\n",
    "\n",
    "Context:\n",
    "{preprocessed_context}\n",
    "\n",
    "Question:\n",
    "{question}\n",
    "\"\"\""
   ]
  },
  {
   "cell_type": "code",
   "execution_count": 4,
   "id": "12a0b9fb",
   "metadata": {},
   "outputs": [
    {
     "name": "stdout",
     "output_type": "stream",
     "text": [
      "\n",
      "You are a shopping assistant that can answer questions about the products in stock.\n",
      "\n",
      "You will be given a question and a list of context.\n",
      "\n",
      "Instructions:\n",
      "- You need to answer the question based on the provided context only.\n",
      "- Never use word context and refer to it as the available products.\n",
      "- Also as an output you need to provide:\n",
      "    * the answer to the question based on the provided context\n",
      "    * the list of the product ids of the chunks used to answer the questions. Only return the ones used\n",
      "    in the answer\n",
      "    * Short description (1-2 sentences) of the items based on the description used in the context\n",
      "- The answer to the question should contain detailed information about the product and returned with detailed\n",
      "specifications in bullet points.\n",
      "\n",
      "Context:\n",
      "- a \n",
      " -b\n",
      "\n",
      "Question:\n",
      "what is a?\n",
      "\n"
     ]
    }
   ],
   "source": [
    "print(prompt)"
   ]
  },
  {
   "cell_type": "markdown",
   "id": "de2c67dd",
   "metadata": {},
   "source": [
    "### Jinja "
   ]
  },
  {
   "cell_type": "code",
   "execution_count": 5,
   "id": "581e1f0b",
   "metadata": {},
   "outputs": [],
   "source": [
    "jinja_template = \"\"\"\n",
    "You are a shopping assistant that can answer questions about the products in stock.\n",
    "\n",
    "You will be given a question and a list of context.\n",
    "\n",
    "Instructions:\n",
    "- You need to answer the question based on the provided context only.\n",
    "- Never use word context and refer to it as the available products.\n",
    "- Also as an output you need to provide:\n",
    "    * the answer to the question based on the provided context\n",
    "    * the list of the product ids of the chunks used to answer the questions. Only return the ones used\n",
    "    in the answer\n",
    "    * Short description (1-2 sentences) of the items based on the description used in the context\n",
    "- The answer to the question should contain detailed information about the product and returned with detailed\n",
    "specifications in bullet points.\n",
    "\n",
    "Context:\n",
    "{{ preprocessed_context }}\n",
    "\n",
    "Question:\n",
    "{{ question }}\n",
    "\"\"\""
   ]
  },
  {
   "cell_type": "code",
   "execution_count": 7,
   "id": "d10c36ce",
   "metadata": {},
   "outputs": [],
   "source": [
    "template = Template(jinja_template)"
   ]
  },
  {
   "cell_type": "code",
   "execution_count": 8,
   "id": "5d1226fb",
   "metadata": {},
   "outputs": [],
   "source": [
    "rendered_prompt = template.render(\n",
    "    preprocessed_context=preprocessed_context, question=question\n",
    ")"
   ]
  },
  {
   "cell_type": "code",
   "execution_count": 10,
   "id": "da26dadc",
   "metadata": {},
   "outputs": [
    {
     "name": "stdout",
     "output_type": "stream",
     "text": [
      "\n",
      "You are a shopping assistant that can answer questions about the products in stock.\n",
      "\n",
      "You will be given a question and a list of context.\n",
      "\n",
      "Instructions:\n",
      "- You need to answer the question based on the provided context only.\n",
      "- Never use word context and refer to it as the available products.\n",
      "- Also as an output you need to provide:\n",
      "    * the answer to the question based on the provided context\n",
      "    * the list of the product ids of the chunks used to answer the questions. Only return the ones used\n",
      "    in the answer\n",
      "    * Short description (1-2 sentences) of the items based on the description used in the context\n",
      "- The answer to the question should contain detailed information about the product and returned with detailed\n",
      "specifications in bullet points.\n",
      "\n",
      "Context:\n",
      "- a \n",
      " -b\n",
      "\n",
      "Question:\n",
      "what is a?\n"
     ]
    }
   ],
   "source": [
    "print(rendered_prompt)"
   ]
  },
  {
   "cell_type": "code",
   "execution_count": 11,
   "id": "dcff999f",
   "metadata": {},
   "outputs": [],
   "source": [
    "def build_prompt_jinjia(preprocessed_context, question):\n",
    "    jinja_template = \"\"\"\n",
    "    You are a shopping assistant that can answer questions about the products in stock.\n",
    "\n",
    "    You will be given a question and a list of context.\n",
    "\n",
    "    Instructions:\n",
    "    - You need to answer the question based on the provided context only.\n",
    "    - Never use word context and refer to it as the available products.\n",
    "    - Also as an output you need to provide:\n",
    "        * the answer to the question based on the provided context\n",
    "        * the list of the product ids of the chunks used to answer the questions. Only return the ones used\n",
    "        in the answer\n",
    "        * Short description (1-2 sentences) of the items based on the description used in the context\n",
    "    - The answer to the question should contain detailed information about the product and returned with detailed\n",
    "    specifications in bullet points.\n",
    "\n",
    "    Context:\n",
    "    {{ preprocessed_context }}\n",
    "\n",
    "    Question:\n",
    "    {{ question }}\n",
    "    \"\"\"\n",
    "    template = Template(jinja_template)\n",
    "    rendered_prompt = template.render(\n",
    "        question=question, preprocessed_context=preprocessed_context\n",
    "    )\n",
    "    return rendered_prompt"
   ]
  },
  {
   "cell_type": "code",
   "execution_count": 12,
   "id": "65c63eb3",
   "metadata": {},
   "outputs": [
    {
     "name": "stdout",
     "output_type": "stream",
     "text": [
      "\n",
      "    You are a shopping assistant that can answer questions about the products in stock.\n",
      "\n",
      "    You will be given a question and a list of context.\n",
      "\n",
      "    Instructions:\n",
      "    - You need to answer the question based on the provided context only.\n",
      "    - Never use word context and refer to it as the available products.\n",
      "    - Also as an output you need to provide:\n",
      "        * the answer to the question based on the provided context\n",
      "        * the list of the product ids of the chunks used to answer the questions. Only return the ones used\n",
      "        in the answer\n",
      "        * Short description (1-2 sentences) of the items based on the description used in the context\n",
      "    - The answer to the question should contain detailed information about the product and returned with detailed\n",
      "    specifications in bullet points.\n",
      "\n",
      "    Context:\n",
      "    - a \n",
      " -b\n",
      "\n",
      "    Question:\n",
      "    what is a?\n",
      "    \n"
     ]
    }
   ],
   "source": [
    "print(build_prompt_jinjia(question=question, preprocessed_context=preprocessed_context))"
   ]
  },
  {
   "cell_type": "code",
   "execution_count": 23,
   "id": "0fc758f2",
   "metadata": {},
   "outputs": [],
   "source": [
    "def prompt_template_config(yaml_file, prompt_key):\n",
    "    with open(yaml_file, \"r\") as file:\n",
    "        config = yaml.safe_load(file)\n",
    "    template_content = config[\"prompts\"][prompt_key]\n",
    "    template = Template(template_content)\n",
    "    return template"
   ]
  },
  {
   "cell_type": "code",
   "execution_count": 17,
   "id": "3691b4de",
   "metadata": {},
   "outputs": [],
   "source": [
    "def build_prompt_jinja(preprocessed_context, question):\n",
    "    template = prompt_template_config(\n",
    "        \"./prompts/retrieval_generation.yaml\", \"retrieval_generation\"\n",
    "    )\n",
    "    rendered_prompt = template.render(\n",
    "        question=question, preprocessed_context=preprocessed_context\n",
    "    )\n",
    "    return rendered_prompt"
   ]
  },
  {
   "cell_type": "code",
   "execution_count": 25,
   "id": "e7962920",
   "metadata": {},
   "outputs": [
    {
     "name": "stdout",
     "output_type": "stream",
     "text": [
      "You are a shopping assistant that can answer questions about the products in stock.\n",
      "\n",
      "You will be given a question and a list of context.\n",
      "\n",
      "Instructions:\n",
      "- You need to answer the question based on the provided context only.\n",
      "- Never use word context and refer to it as the available products.\n",
      "- Also as an output you need to provide:\n",
      "    * the answer to the question based on the provided context\n",
      "    * the list of the product ids of the chunks used to answer the questions. Only return the ones used\n",
      "    in the answer\n",
      "    * Short description (1-2 sentences) of the items based on the description used in the context\n",
      "- The answer to the question should contain detailed information about the product and returned with detailed\n",
      "specifications in bullet points.\n",
      "\n",
      "Context:\n",
      "- a \n",
      " -b\n",
      "\n",
      "Question:\n",
      "what is a?  \n"
     ]
    }
   ],
   "source": [
    "print(build_prompt_jinja(preprocessed_context, question))"
   ]
  },
  {
   "cell_type": "markdown",
   "id": "d311762e",
   "metadata": {},
   "source": [
    "## Prompt Registries"
   ]
  },
  {
   "cell_type": "code",
   "execution_count": 26,
   "id": "a4a2e8e1",
   "metadata": {},
   "outputs": [],
   "source": [
    "ls_client = Client()"
   ]
  },
  {
   "cell_type": "code",
   "execution_count": 28,
   "id": "576202b2",
   "metadata": {},
   "outputs": [],
   "source": [
    "ls_template = ls_client.pull_prompt(\"retrieval_generation\")"
   ]
  },
  {
   "cell_type": "code",
   "execution_count": 31,
   "id": "0ea3ff87",
   "metadata": {},
   "outputs": [
    {
     "data": {
      "text/plain": [
       "' You are a shopping assistant that can answer questions about the products in stock.\\n\\n    You will be given a question and a list of context.\\n\\n    Instructions:\\n    - You need to answer the question based on the provided context only.\\n    - Never use word context and refer to it as the available products.\\n    - Also as an output you need to provide:\\n        * the answer to the question based on the provided context\\n        * the list of the product ids of the chunks used to answer the questions. Only return the ones used\\n        in the answer\\n        * Short description (1-2 sentences) of the items based on the description used in the context\\n    - The answer to the question should contain detailed information about the product and returned with detailed\\n    specifications in bullet points.\\n\\n    Context:\\n    {{ preprocessed_context }}\\n\\n    Question:\\n    {{ question }}  '"
      ]
     },
     "execution_count": 31,
     "metadata": {},
     "output_type": "execute_result"
    }
   ],
   "source": [
    "ls_template[0].prompt.template"
   ]
  },
  {
   "cell_type": "code",
   "execution_count": 33,
   "id": "db7ef470",
   "metadata": {},
   "outputs": [],
   "source": [
    "def prompt_template_registry(prompt_name: str):\n",
    "    ls_client = Client()\n",
    "    return Template(ls_client.pull_prompt(prompt_name)[0].prompt.template)"
   ]
  },
  {
   "cell_type": "code",
   "execution_count": 34,
   "id": "9ffb9535",
   "metadata": {},
   "outputs": [],
   "source": [
    "ls_template = prompt_template_registry(\"retrieval_generation\")"
   ]
  },
  {
   "cell_type": "code",
   "execution_count": 35,
   "id": "36e9c170",
   "metadata": {},
   "outputs": [
    {
     "data": {
      "text/plain": [
       "' You are a shopping assistant that can answer questions about the products in stock.\\n\\n    You will be given a question and a list of context.\\n\\n    Instructions:\\n    - You need to answer the question based on the provided context only.\\n    - Never use word context and refer to it as the available products.\\n    - Also as an output you need to provide:\\n        * the answer to the question based on the provided context\\n        * the list of the product ids of the chunks used to answer the questions. Only return the ones used\\n        in the answer\\n        * Short description (1-2 sentences) of the items based on the description used in the context\\n    - The answer to the question should contain detailed information about the product and returned with detailed\\n    specifications in bullet points.\\n\\n    Context:\\n    - a \\n -b\\n\\n    Question:\\n    what is a?  '"
      ]
     },
     "execution_count": 35,
     "metadata": {},
     "output_type": "execute_result"
    }
   ],
   "source": [
    "ls_template.render(question=question, preprocessed_context=preprocessed_context)"
   ]
  }
 ],
 "metadata": {
  "kernelspec": {
   "display_name": ".venv",
   "language": "python",
   "name": "python3"
  },
  "language_info": {
   "codemirror_mode": {
    "name": "ipython",
    "version": 3
   },
   "file_extension": ".py",
   "mimetype": "text/x-python",
   "name": "python",
   "nbconvert_exporter": "python",
   "pygments_lexer": "ipython3",
   "version": "3.12.2"
  }
 },
 "nbformat": 4,
 "nbformat_minor": 5
}
